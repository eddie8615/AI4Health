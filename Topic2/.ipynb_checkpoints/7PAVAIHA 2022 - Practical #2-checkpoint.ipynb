{
 "cells": [
  {
   "cell_type": "markdown",
   "metadata": {},
   "source": [
    "## Practical 2: AI in Games"
   ]
  },
  {
   "cell_type": "markdown",
   "metadata": {},
   "source": [
    "### Easy AI Library\n",
    "In this lab we will learn to use the __[easyAI](https://pypi.org/project/easyAI/)__ library to build AI agents that utilise search algorithms to play simple games"
   ]
  },
  {
   "cell_type": "markdown",
   "metadata": {},
   "source": [
    "Remember to install easyAI module *before* starting the tutorial:"
   ]
  },
  {
   "cell_type": "code",
   "execution_count": 1,
   "metadata": {},
   "outputs": [
    {
     "name": "stdout",
     "output_type": "stream",
     "text": [
      "Requirement already satisfied: easyAI==1.0.0.4 in /home/changhyun/kcl/AI4Health/AI4Health/lib/python3.8/site-packages (1.0.0.4)\n",
      "Note: you may need to restart the kernel to use updated packages.\n"
     ]
    }
   ],
   "source": [
    "pip install easyAI==1.0.0.4"
   ]
  },
  {
   "cell_type": "markdown",
   "metadata": {},
   "source": [
    "<hr style=\"border:1px solid black\"> </hr>"
   ]
  },
  {
   "cell_type": "markdown",
   "metadata": {},
   "source": [
    "##  Excercise 1: Build an agent to play Last Coin Standing"
   ]
  },
  {
   "cell_type": "markdown",
   "metadata": {},
   "source": [
    "### Rules of the Game\n",
    "- In this game, there is a pile of coins and each player takes turns to take a number of coins from the pile. \n",
    "- There is a lower and an upper bound on the number of coins that can be taken from the pile. \n",
    "- The goal of the game is to avoid taking the last coin in the pile."
   ]
  },
  {
   "cell_type": "markdown",
   "metadata": {},
   "source": [
    "### Step 1 Set Up"
   ]
  },
  {
   "cell_type": "markdown",
   "metadata": {},
   "source": [
    "Install all necessary packages"
   ]
  },
  {
   "cell_type": "code",
   "execution_count": 1,
   "metadata": {},
   "outputs": [],
   "source": [
    "from easyAI import TwoPlayersGame, id_solve, Human_Player, AI_Player, Negamax"
   ]
  },
  {
   "cell_type": "markdown",
   "metadata": {},
   "source": [
    "Create a `class` object to handle all the operations of the game\n",
    "- Note: this object defines the key actions needed to play the game. \n",
    "- Do you understand the purpose of each function? "
   ]
  },
  {
   "cell_type": "code",
   "execution_count": 2,
   "metadata": {},
   "outputs": [],
   "source": [
    "class LastCoinStanding(TwoPlayersGame):\n",
    "    def __init__(self, players):\n",
    "        # Define the players. Necessary parameter.\n",
    "        self.players = players\n",
    "\n",
    "        # Define who starts the game. Necessary parameter.\n",
    "        self.nplayer = 1 \n",
    "\n",
    "        # Overall number of coins in the pile \n",
    "        self.num_coins = 25\n",
    "\n",
    "        # Define max number of coins per move \n",
    "        self.max_coins = 4 \n",
    "\n",
    "    # Define possible moves\n",
    "    def possible_moves(self): \n",
    "        return [str(x) for x in range(1, self.max_coins + 1)]\n",
    "    \n",
    "    # Remove coins\n",
    "    def make_move(self, move): \n",
    "        self.num_coins -= int(move) \n",
    "\n",
    "    # Did the opponent take the last coin?\n",
    "    def win(self): \n",
    "        return self.num_coins <= 0 \n",
    "\n",
    "    # Stop the game when somebody wins \n",
    "    def is_over(self): \n",
    "        return self.win() \n",
    "\n",
    "    # Compute score\n",
    "    def scoring(self): \n",
    "        return 100 if self.win() else 0\n",
    "\n",
    "    # Show number of coins remaining in the pile\n",
    "    def show(self): \n",
    "        print(self.num_coins, 'coins left in the pile')"
   ]
  },
  {
   "cell_type": "markdown",
   "metadata": {},
   "source": [
    "### Step 2 Play the Game"
   ]
  },
  {
   "cell_type": "markdown",
   "metadata": {},
   "source": [
    "Define the main function <br>\n",
    "- What AI algorithm is the main function implemementing, describe the basic details (Google it!)\n",
    "- Determine the purpose of the variable `d`? Observe what happens to the gameplay as you change this value"
   ]
  },
  {
   "cell_type": "code",
   "execution_count": 3,
   "metadata": {},
   "outputs": [
    {
     "name": "stdout",
     "output_type": "stream",
     "text": [
      "25 coins left in the pile\n",
      "\n",
      "Move #1: player 1 plays 4 :\n",
      "21 coins left in the pile\n",
      "\n",
      "Player 2 what do you play ? 5\n",
      "\n",
      "Player 2 what do you play ? 4\n",
      "\n",
      "Move #2: player 2 plays 4 :\n",
      "17 coins left in the pile\n",
      "\n",
      "Move #3: player 1 plays 1 :\n",
      "16 coins left in the pile\n",
      "\n",
      "Player 2 what do you play ? 3\n",
      "\n",
      "Move #4: player 2 plays 3 :\n",
      "13 coins left in the pile\n",
      "\n",
      "Move #5: player 1 plays 2 :\n",
      "11 coins left in the pile\n",
      "\n",
      "Player 2 what do you play ? 3\n",
      "\n",
      "Move #6: player 2 plays 3 :\n",
      "8 coins left in the pile\n",
      "\n",
      "Move #7: player 1 plays 2 :\n",
      "6 coins left in the pile\n",
      "\n",
      "Player 2 what do you play ? 1\n",
      "\n",
      "Move #8: player 2 plays 1 :\n",
      "5 coins left in the pile\n",
      "\n",
      "Move #9: player 1 plays 4 :\n",
      "1 coins left in the pile\n",
      "\n",
      "Player 2 what do you play ? 1\n",
      "\n",
      "Move #10: player 2 plays 1 :\n",
      "0 coins left in the pile\n"
     ]
    }
   ],
   "source": [
    "if __name__ == \"__main__\":\n",
    "    \n",
    "    d = 15\n",
    "    ai = Negamax(d)\n",
    "    game = LastCoinStanding([AI_Player(ai),Human_Player()])\n",
    "    game.play()    "
   ]
  },
  {
   "cell_type": "markdown",
   "metadata": {},
   "source": [
    "### Exercise"
   ]
  },
  {
   "cell_type": "markdown",
   "metadata": {},
   "source": [
    " Run the game using another AI method (agent) available in `easyAI`\n",
    "- Note: you will need to import a new `easyAI` package to do this\n",
    "- https://zulko.github.io/easyAI/ref.html#ai-algorithms\n",
    "- below is an example of implementing the SSS algorithm"
   ]
  },
  {
   "cell_type": "code",
   "execution_count": 9,
   "metadata": {},
   "outputs": [
    {
     "name": "stdout",
     "output_type": "stream",
     "text": [
      "25 coins left in the pile\n",
      "\n",
      "Move #1: player 1 plays 1 :\n",
      "24 coins left in the pile\n",
      "\n",
      "Player 2 what do you play ? 5\n",
      "\n",
      "Player 2 what do you play ? 4\n",
      "\n",
      "Move #2: player 2 plays 4 :\n",
      "20 coins left in the pile\n",
      "\n",
      "Move #3: player 1 plays 4 :\n",
      "16 coins left in the pile\n",
      "\n",
      "Player 2 what do you play ? 1\n",
      "\n",
      "Move #4: player 2 plays 1 :\n",
      "15 coins left in the pile\n",
      "\n",
      "Move #5: player 1 plays 4 :\n",
      "11 coins left in the pile\n",
      "\n",
      "Player 2 what do you play ? 4\n",
      "\n",
      "Move #6: player 2 plays 4 :\n",
      "7 coins left in the pile\n",
      "\n",
      "Move #7: player 1 plays 1 :\n",
      "6 coins left in the pile\n",
      "\n",
      "Player 2 what do you play ? 1\n",
      "\n",
      "Move #8: player 2 plays 1 :\n",
      "5 coins left in the pile\n",
      "\n",
      "Move #9: player 1 plays 4 :\n",
      "1 coins left in the pile\n",
      "\n",
      "Player 2 what do you play ? 4\n",
      "\n",
      "Move #10: player 2 plays 4 :\n",
      "-3 coins left in the pile\n"
     ]
    }
   ],
   "source": [
    "from easyAI.AI import SSS #Add in your code here\n",
    "\n",
    "if __name__ == \"__main__\":\n",
    "    \n",
    "    #Add in your code here\n",
    "    ai = SSS(8)\n",
    "    game = LastCoinStanding([AI_Player(ai),Human_Player()])\n",
    "    game.play()    "
   ]
  },
  {
   "cell_type": "markdown",
   "metadata": {},
   "source": [
    "### Step 3 Solving the game in advance"
   ]
  },
  {
   "cell_type": "markdown",
   "metadata": {},
   "source": [
    "We will now implement the AI agent using a transposition table. \n",
    "- What is the purpose of this approach (Goggle it)?\n",
    "- What do the variables result, depth and move respresent? \n",
    "- What do you have to change in this approach to adjust the intellegnce of the algorithm? \n",
    "- What is a weakness of this approach? "
   ]
  },
  {
   "cell_type": "code",
   "execution_count": 11,
   "metadata": {},
   "outputs": [
    {
     "name": "stdout",
     "output_type": "stream",
     "text": [
      "d:2, a:0, m:1\n",
      "d:3, a:0, m:1\n",
      "d:4, a:0, m:1\n",
      "d:5, a:0, m:1\n",
      "d:6, a:0, m:1\n",
      "d:7, a:0, m:1\n",
      "d:8, a:0, m:1\n",
      "d:9, a:0, m:1\n",
      "d:10, a:100, m:4\n",
      "1 10 4\n",
      "25 coins left in the pile\n",
      "\n",
      "Move #1: player 1 plays 4 :\n",
      "21 coins left in the pile\n",
      "\n",
      "Player 2 what do you play ? 4\n",
      "\n",
      "Move #2: player 2 plays 4 :\n",
      "17 coins left in the pile\n",
      "\n",
      "Move #3: player 1 plays 1 :\n",
      "16 coins left in the pile\n",
      "\n",
      "Player 2 what do you play ? 4\n",
      "\n",
      "Move #4: player 2 plays 4 :\n",
      "12 coins left in the pile\n",
      "\n",
      "Move #5: player 1 plays 1 :\n",
      "11 coins left in the pile\n",
      "\n",
      "Player 2 what do you play ? 1\n",
      "\n",
      "Move #6: player 2 plays 1 :\n",
      "10 coins left in the pile\n",
      "\n",
      "Move #7: player 1 plays 4 :\n",
      "6 coins left in the pile\n",
      "\n",
      "Player 2 what do you play ? 4\n",
      "\n",
      "Move #8: player 2 plays 4 :\n",
      "2 coins left in the pile\n",
      "\n",
      "Move #9: player 1 plays 1 :\n",
      "1 coins left in the pile\n",
      "\n",
      "Player 2 what do you play ? 1\n",
      "\n",
      "Move #10: player 2 plays 1 :\n",
      "0 coins left in the pile\n"
     ]
    }
   ],
   "source": [
    "from easyAI.AI import TT\n",
    "\n",
    "if __name__ == \"__main__\":\n",
    "    # Define the transposition table\n",
    "    tt = TT()\n",
    "\n",
    "    # Define the method\n",
    "    LastCoinStanding.ttentry = lambda self: self.num_coins\n",
    "\n",
    "    # Solve the game\n",
    "    result, depth, move = id_solve(LastCoinStanding, \n",
    "            range(2, 20), win_score=100, tt=tt)\n",
    "    print(result, depth, move)  \n",
    "\n",
    "    # Start the game \n",
    "    game = LastCoinStanding([AI_Player(tt), Human_Player()])\n",
    "    game.play()"
   ]
  },
  {
   "cell_type": "markdown",
   "metadata": {},
   "source": [
    "<hr style=\"border:1px solid black\"> </hr>"
   ]
  },
  {
   "cell_type": "markdown",
   "metadata": {},
   "source": [
    "## Excercise 2: Build AI agents that battle each other at connect four"
   ]
  },
  {
   "cell_type": "markdown",
   "metadata": {},
   "source": [
    "### Rules of the Game\n",
    "\n",
    "- Players take turns dropping discs into a vertical grid consisting of six rows and seven columns\n",
    "- The goal is to get four discs in a line "
   ]
  },
  {
   "cell_type": "markdown",
   "metadata": {},
   "source": [
    "### Step 1 Set Up"
   ]
  },
  {
   "cell_type": "markdown",
   "metadata": {},
   "source": [
    "Create a new `class` to handle all the operations of the game\n",
    "- Do you understand the purpose of each function?"
   ]
  },
  {
   "cell_type": "code",
   "execution_count": 13,
   "metadata": {},
   "outputs": [
    {
     "name": "stdout",
     "output_type": "stream",
     "text": [
      "Collecting numpy\n",
      "  Using cached numpy-1.22.3-cp38-cp38-manylinux_2_17_x86_64.manylinux2014_x86_64.whl (16.8 MB)\n",
      "Installing collected packages: numpy\n",
      "Successfully installed numpy-1.22.3\n",
      "Note: you may need to restart the kernel to use updated packages.\n"
     ]
    }
   ],
   "source": [
    "pip install numpy"
   ]
  },
  {
   "cell_type": "code",
   "execution_count": 14,
   "metadata": {},
   "outputs": [],
   "source": [
    "import numpy as np\n",
    "\n",
    "class ConnectFour(TwoPlayersGame):\n",
    "    def __init__(self, players, board = None):\n",
    "        # Define the players\n",
    "        self.players = players\n",
    "\n",
    "        # Define the configuration of the board\n",
    "        self.board = board if (board != None) else (\n",
    "            np.array([[0 for i in range(7)] for j in range(6)]))\n",
    "\n",
    "        # Define who starts the game\n",
    "        self.nplayer = 1\n",
    "\n",
    "        # Define the positions\n",
    "        self.pos_dir = np.array([[[i, 0], [0, 1]] for i in range(6)] +\n",
    "                   [[[0, i], [1, 0]] for i in range(7)] +\n",
    "                   [[[i, 0], [1, 1]] for i in range(1, 3)] +\n",
    "                   [[[0, i], [1, 1]] for i in range(4)] +\n",
    "                   [[[i, 6], [1, -1]] for i in range(1, 3)] +\n",
    "                   [[[0, i], [1, -1]] for i in range(3, 7)])\n",
    "\n",
    "    # Define possible moves\n",
    "    def possible_moves(self):\n",
    "        return [i for i in range(7) if (self.board[:, i].min() == 0)]\n",
    "\n",
    "    # Define how to make the move\n",
    "    def make_move(self, column):\n",
    "        line = np.argmin(self.board[:, column] != 0)\n",
    "        self.board[line, column] = self.nplayer\n",
    "\n",
    "    # Show the current status\n",
    "    def show(self):\n",
    "        print('\\n' + '\\n'.join(\n",
    "                ['0 1 2 3 4 5 6', 13 * '-'] +\n",
    "                [' '.join([['.', 'O', 'X'][self.board[5 - j][i]]\n",
    "                for i in range(7)]) for j in range(6)]))\n",
    "\n",
    "    # Define what a loss_condition looks like \n",
    "    def loss_condition(self):\n",
    "        for pos, direction in self.pos_dir:\n",
    "            streak = 0\n",
    "            while (0 <= pos[0] <= 5) and (0 <= pos[1] <= 6):\n",
    "                if self.board[pos[0], pos[1]] == self.nopponent:\n",
    "                    streak += 1\n",
    "                    if streak == 4:\n",
    "                        return True\n",
    "                else:\n",
    "                    streak = 0\n",
    "\n",
    "                pos = pos + direction\n",
    "\n",
    "        return False\n",
    "\n",
    "    # Check if the game is over\n",
    "    def is_over(self):\n",
    "        return (self.board.min() > 0) or self.loss_condition()\n",
    "\n",
    "    # Compute the score\n",
    "    def scoring(self):\n",
    "        return -100 if self.loss_condition() else 0"
   ]
  },
  {
   "cell_type": "markdown",
   "metadata": {},
   "source": [
    "### Exercise Battle of the AI agents"
   ]
  },
  {
   "cell_type": "markdown",
   "metadata": {},
   "source": [
    "Set up different agents with different levels of intellegence and record who wins\n",
    "- What is the main factor that determines why one agent beats another? "
   ]
  },
  {
   "cell_type": "code",
   "execution_count": 15,
   "metadata": {},
   "outputs": [
    {
     "name": "stdout",
     "output_type": "stream",
     "text": [
      "\n",
      "0 1 2 3 4 5 6\n",
      "-------------\n",
      ". . . . . . .\n",
      ". . . . . . .\n",
      ". . . . . . .\n",
      ". . . . . . .\n",
      ". . . . . . .\n",
      ". . . . . . .\n",
      "\n",
      "Move #1: player 1 plays 0 :\n",
      "\n",
      "0 1 2 3 4 5 6\n",
      "-------------\n",
      ". . . . . . .\n",
      ". . . . . . .\n",
      ". . . . . . .\n",
      ". . . . . . .\n",
      ". . . . . . .\n",
      "O . . . . . .\n",
      "\n",
      "Move #2: player 2 plays 0 :\n",
      "\n",
      "0 1 2 3 4 5 6\n",
      "-------------\n",
      ". . . . . . .\n",
      ". . . . . . .\n",
      ". . . . . . .\n",
      ". . . . . . .\n",
      "X . . . . . .\n",
      "O . . . . . .\n",
      "\n",
      "Move #3: player 1 plays 0 :\n",
      "\n",
      "0 1 2 3 4 5 6\n",
      "-------------\n",
      ". . . . . . .\n",
      ". . . . . . .\n",
      ". . . . . . .\n",
      "O . . . . . .\n",
      "X . . . . . .\n",
      "O . . . . . .\n",
      "\n",
      "Move #4: player 2 plays 0 :\n",
      "\n",
      "0 1 2 3 4 5 6\n",
      "-------------\n",
      ". . . . . . .\n",
      ". . . . . . .\n",
      "X . . . . . .\n",
      "O . . . . . .\n",
      "X . . . . . .\n",
      "O . . . . . .\n",
      "\n",
      "Move #5: player 1 plays 0 :\n",
      "\n",
      "0 1 2 3 4 5 6\n",
      "-------------\n",
      ". . . . . . .\n",
      "O . . . . . .\n",
      "X . . . . . .\n",
      "O . . . . . .\n",
      "X . . . . . .\n",
      "O . . . . . .\n",
      "\n",
      "Move #6: player 2 plays 0 :\n",
      "\n",
      "0 1 2 3 4 5 6\n",
      "-------------\n",
      "X . . . . . .\n",
      "O . . . . . .\n",
      "X . . . . . .\n",
      "O . . . . . .\n",
      "X . . . . . .\n",
      "O . . . . . .\n",
      "\n",
      "Move #7: player 1 plays 1 :\n",
      "\n",
      "0 1 2 3 4 5 6\n",
      "-------------\n",
      "X . . . . . .\n",
      "O . . . . . .\n",
      "X . . . . . .\n",
      "O . . . . . .\n",
      "X . . . . . .\n",
      "O O . . . . .\n",
      "\n",
      "Move #8: player 2 plays 1 :\n",
      "\n",
      "0 1 2 3 4 5 6\n",
      "-------------\n",
      "X . . . . . .\n",
      "O . . . . . .\n",
      "X . . . . . .\n",
      "O . . . . . .\n",
      "X X . . . . .\n",
      "O O . . . . .\n",
      "\n",
      "Move #9: player 1 plays 1 :\n",
      "\n",
      "0 1 2 3 4 5 6\n",
      "-------------\n",
      "X . . . . . .\n",
      "O . . . . . .\n",
      "X . . . . . .\n",
      "O O . . . . .\n",
      "X X . . . . .\n",
      "O O . . . . .\n",
      "\n",
      "Move #10: player 2 plays 1 :\n",
      "\n",
      "0 1 2 3 4 5 6\n",
      "-------------\n",
      "X . . . . . .\n",
      "O . . . . . .\n",
      "X X . . . . .\n",
      "O O . . . . .\n",
      "X X . . . . .\n",
      "O O . . . . .\n",
      "\n",
      "Move #11: player 1 plays 1 :\n",
      "\n",
      "0 1 2 3 4 5 6\n",
      "-------------\n",
      "X . . . . . .\n",
      "O O . . . . .\n",
      "X X . . . . .\n",
      "O O . . . . .\n",
      "X X . . . . .\n",
      "O O . . . . .\n",
      "\n",
      "Move #12: player 2 plays 1 :\n",
      "\n",
      "0 1 2 3 4 5 6\n",
      "-------------\n",
      "X X . . . . .\n",
      "O O . . . . .\n",
      "X X . . . . .\n",
      "O O . . . . .\n",
      "X X . . . . .\n",
      "O O . . . . .\n",
      "\n",
      "Move #13: player 1 plays 2 :\n",
      "\n",
      "0 1 2 3 4 5 6\n",
      "-------------\n",
      "X X . . . . .\n",
      "O O . . . . .\n",
      "X X . . . . .\n",
      "O O . . . . .\n",
      "X X . . . . .\n",
      "O O O . . . .\n",
      "\n",
      "Move #14: player 2 plays 3 :\n",
      "\n",
      "0 1 2 3 4 5 6\n",
      "-------------\n",
      "X X . . . . .\n",
      "O O . . . . .\n",
      "X X . . . . .\n",
      "O O . . . . .\n",
      "X X . . . . .\n",
      "O O O X . . .\n",
      "\n",
      "Move #15: player 1 plays 2 :\n",
      "\n",
      "0 1 2 3 4 5 6\n",
      "-------------\n",
      "X X . . . . .\n",
      "O O . . . . .\n",
      "X X . . . . .\n",
      "O O . . . . .\n",
      "X X O . . . .\n",
      "O O O X . . .\n",
      "\n",
      "Move #16: player 2 plays 2 :\n",
      "\n",
      "0 1 2 3 4 5 6\n",
      "-------------\n",
      "X X . . . . .\n",
      "O O . . . . .\n",
      "X X . . . . .\n",
      "O O X . . . .\n",
      "X X O . . . .\n",
      "O O O X . . .\n",
      "\n",
      "Move #17: player 1 plays 2 :\n",
      "\n",
      "0 1 2 3 4 5 6\n",
      "-------------\n",
      "X X . . . . .\n",
      "O O . . . . .\n",
      "X X O . . . .\n",
      "O O X . . . .\n",
      "X X O . . . .\n",
      "O O O X . . .\n",
      "\n",
      "Move #18: player 2 plays 2 :\n",
      "\n",
      "0 1 2 3 4 5 6\n",
      "-------------\n",
      "X X . . . . .\n",
      "O O X . . . .\n",
      "X X O . . . .\n",
      "O O X . . . .\n",
      "X X O . . . .\n",
      "O O O X . . .\n",
      "\n",
      "Move #19: player 1 plays 2 :\n",
      "\n",
      "0 1 2 3 4 5 6\n",
      "-------------\n",
      "X X O . . . .\n",
      "O O X . . . .\n",
      "X X O . . . .\n",
      "O O X . . . .\n",
      "X X O . . . .\n",
      "O O O X . . .\n",
      "\n",
      "Move #20: player 2 plays 3 :\n",
      "\n",
      "0 1 2 3 4 5 6\n",
      "-------------\n",
      "X X O . . . .\n",
      "O O X . . . .\n",
      "X X O . . . .\n",
      "O O X . . . .\n",
      "X X O X . . .\n",
      "O O O X . . .\n",
      "\n",
      "Move #21: player 1 plays 4 :\n",
      "\n",
      "0 1 2 3 4 5 6\n",
      "-------------\n",
      "X X O . . . .\n",
      "O O X . . . .\n",
      "X X O . . . .\n",
      "O O X . . . .\n",
      "X X O X . . .\n",
      "O O O X O . .\n",
      "\n",
      "Move #22: player 2 plays 3 :\n",
      "\n",
      "0 1 2 3 4 5 6\n",
      "-------------\n",
      "X X O . . . .\n",
      "O O X . . . .\n",
      "X X O . . . .\n",
      "O O X X . . .\n",
      "X X O X . . .\n",
      "O O O X O . .\n",
      "\n",
      "Move #23: player 1 plays 3 :\n",
      "\n",
      "0 1 2 3 4 5 6\n",
      "-------------\n",
      "X X O . . . .\n",
      "O O X . . . .\n",
      "X X O O . . .\n",
      "O O X X . . .\n",
      "X X O X . . .\n",
      "O O O X O . .\n",
      "\n",
      "Move #24: player 2 plays 3 :\n",
      "\n",
      "0 1 2 3 4 5 6\n",
      "-------------\n",
      "X X O . . . .\n",
      "O O X X . . .\n",
      "X X O O . . .\n",
      "O O X X . . .\n",
      "X X O X . . .\n",
      "O O O X O . .\n",
      "\n",
      "Move #25: player 1 plays 3 :\n",
      "\n",
      "0 1 2 3 4 5 6\n",
      "-------------\n",
      "X X O O . . .\n",
      "O O X X . . .\n",
      "X X O O . . .\n",
      "O O X X . . .\n",
      "X X O X . . .\n",
      "O O O X O . .\n",
      "\n",
      "Move #26: player 2 plays 4 :\n",
      "\n",
      "0 1 2 3 4 5 6\n",
      "-------------\n",
      "X X O O . . .\n",
      "O O X X . . .\n",
      "X X O O . . .\n",
      "O O X X . . .\n",
      "X X O X X . .\n",
      "O O O X O . .\n",
      "\n",
      "Move #27: player 1 plays 4 :\n",
      "\n",
      "0 1 2 3 4 5 6\n",
      "-------------\n",
      "X X O O . . .\n",
      "O O X X . . .\n",
      "X X O O . . .\n",
      "O O X X O . .\n",
      "X X O X X . .\n",
      "O O O X O . .\n",
      "\n",
      "Move #28: player 2 plays 4 :\n",
      "\n",
      "0 1 2 3 4 5 6\n",
      "-------------\n",
      "X X O O . . .\n",
      "O O X X . . .\n",
      "X X O O X . .\n",
      "O O X X O . .\n",
      "X X O X X . .\n",
      "O O O X O . .\n",
      "\n",
      "Move #29: player 1 plays 4 :\n",
      "\n",
      "0 1 2 3 4 5 6\n",
      "-------------\n",
      "X X O O . . .\n",
      "O O X X O . .\n",
      "X X O O X . .\n",
      "O O X X O . .\n",
      "X X O X X . .\n",
      "O O O X O . .\n",
      "\n",
      "Move #30: player 2 plays 4 :\n",
      "\n",
      "0 1 2 3 4 5 6\n",
      "-------------\n",
      "X X O O X . .\n",
      "O O X X O . .\n",
      "X X O O X . .\n",
      "O O X X O . .\n",
      "X X O X X . .\n",
      "O O O X O . .\n",
      "\n",
      "Move #31: player 1 plays 5 :\n",
      "\n",
      "0 1 2 3 4 5 6\n",
      "-------------\n",
      "X X O O X . .\n",
      "O O X X O . .\n",
      "X X O O X . .\n",
      "O O X X O . .\n",
      "X X O X X . .\n",
      "O O O X O O .\n",
      "\n",
      "Move #32: player 2 plays 5 :\n",
      "\n",
      "0 1 2 3 4 5 6\n",
      "-------------\n",
      "X X O O X . .\n",
      "O O X X O . .\n",
      "X X O O X . .\n",
      "O O X X O . .\n",
      "X X O X X X .\n",
      "O O O X O O .\n",
      "\n",
      "Move #33: player 1 plays 5 :\n",
      "\n",
      "0 1 2 3 4 5 6\n",
      "-------------\n",
      "X X O O X . .\n",
      "O O X X O . .\n",
      "X X O O X . .\n",
      "O O X X O O .\n",
      "X X O X X X .\n",
      "O O O X O O .\n",
      "\n",
      "Move #34: player 2 plays 5 :\n",
      "\n",
      "0 1 2 3 4 5 6\n",
      "-------------\n",
      "X X O O X . .\n",
      "O O X X O . .\n",
      "X X O O X X .\n",
      "O O X X O O .\n",
      "X X O X X X .\n",
      "O O O X O O .\n",
      "\n",
      "Move #35: player 1 plays 5 :\n",
      "\n",
      "0 1 2 3 4 5 6\n",
      "-------------\n",
      "X X O O X . .\n",
      "O O X X O O .\n",
      "X X O O X X .\n",
      "O O X X O O .\n",
      "X X O X X X .\n",
      "O O O X O O .\n",
      "\n",
      "Move #36: player 2 plays 5 :\n",
      "\n",
      "0 1 2 3 4 5 6\n",
      "-------------\n",
      "X X O O X X .\n",
      "O O X X O O .\n",
      "X X O O X X .\n",
      "O O X X O O .\n",
      "X X O X X X .\n",
      "O O O X O O .\n",
      "\n",
      "Move #37: player 1 plays 6 :\n",
      "\n",
      "0 1 2 3 4 5 6\n",
      "-------------\n",
      "X X O O X X .\n",
      "O O X X O O .\n",
      "X X O O X X .\n",
      "O O X X O O .\n",
      "X X O X X X .\n",
      "O O O X O O O\n",
      "\n",
      "Move #38: player 2 plays 6 :\n",
      "\n",
      "0 1 2 3 4 5 6\n",
      "-------------\n",
      "X X O O X X .\n",
      "O O X X O O .\n",
      "X X O O X X .\n",
      "O O X X O O .\n",
      "X X O X X X X\n",
      "O O O X O O O\n",
      "\n",
      "Player 2 wins.\n"
     ]
    }
   ],
   "source": [
    "if __name__ == '__main__':\n",
    "    # Define the algorithms that will be used\n",
    "    algo_1 = Negamax(3)\n",
    "    algo_2 = SSS(3)\n",
    "\n",
    "    # Start the game\n",
    "    game = ConnectFour([AI_Player(algo_1), AI_Player(algo_2)])\n",
    "    game.play()\n",
    "\n",
    "    # Print the result\n",
    "    if game.loss_condition():\n",
    "        print('\\nPlayer', game.nopponent, 'wins.')\n",
    "    else:\n",
    "        print(\"\\nIt's a draw.\")"
   ]
  },
  {
   "cell_type": "markdown",
   "metadata": {},
   "source": [
    "<hr style=\"border:1px solid black\"> </hr>"
   ]
  },
  {
   "cell_type": "markdown",
   "metadata": {},
   "source": [
    "## Excercise 3 (Optional): Implement your own Breadth and Depth Search"
   ]
  },
  {
   "cell_type": "markdown",
   "metadata": {},
   "source": [
    "In this excersise you will implemented a *depth-first search* (DFS) and *breadth-first search* (BFS) algorithm on a graph representation known as  an __[adjacency list](https://www.khanacademy.org/computing/computer-science/algorithms/graph-representation/a/representing-graphs)__, which is stored as a __[dictionary](https://www.tutorialspoint.com/python3/python_dictionary.htm)__ data type in python."
   ]
  },
  {
   "cell_type": "markdown",
   "metadata": {},
   "source": [
    "**Building your own Breadth First Search Algorithm**\n",
    "\n",
    "Breadth-first search (BFS) algorithm systematically explores the edges of a graph level by level to discover each vertex that is reachable from the given source vertex.\n",
    "\n",
    "The first step in building a BFS, is to initalise three queues\n",
    "- A *vertex queue* to add know neighbours.\n",
    "- A *visited queue* to store visited vertices.\n",
    "- A *parent queue* to keep track of the vertice we have reached the current one from\n",
    "\n",
    "**Hint** Import `deque` from `collections` to run the *vertex queue*; see __[Deque in Python](https://www.geeksforgeeks.org/deque-in-python/)__. Initialise the *vertex queue* to contain the vertex you are starting your search with.\n",
    "**Hint** Both the *visted queue* and *parent queue* should be initialised as `dictionary` objects.\n",
    "\n",
    "**Note** The BFS algorithm can run without the *parent queue*? Why do we need it? \n",
    "\n",
    "The main processesing part of a BFS algorithm loops through the *vertex queue*.\n",
    "- First, *pop* the first entry off the *vertex queue*; **Hint** `queue.popleft` will be helpful here. \n",
    "- Then, add the neigbours of this vertex into the *vertex queue*, provided they are not in the *visted queue*; **Hint** `queue.append` will be helpful here. \n",
    "- Finally, add the current vetrex into the *visted queue*.\n",
    "This process is repeated until the *vertex queue* is empty; **Hint** use a `while` loop to acheive this. "
   ]
  },
  {
   "cell_type": "markdown",
   "metadata": {},
   "source": [
    "**Building your own Depth First Search Algorithm**\n",
    "\n",
    "In the *depth-first search* (dfs), we visit vertices until we reach a dead-end in which we cannot find any unvisited vertices. When we reach the dead-end, we step back one vertex and visit any other vertices, if they exist.\n",
    "\n",
    "You will need to write *two* functions to create a dfs algorithm. The first function initialise the algorithm, the second is a __[recursive function](https://www.programiz.com/python-programming/recursion)__ to go deeper into the graph. \n",
    "\n",
    "\n",
    "The first function initalise a *parent queue* as a `dictionary` object to keep track of the parent vertex (the vertex one level *higher* in the graph) throughout the recursive calls. \n",
    "\n",
    "The recursive function should \n",
    "- Extract the neighbors of the given vertex and call it's on any unvisited vertices\n",
    "- Use the *parent queue* to keep track of visited vertices "
   ]
  },
  {
   "cell_type": "markdown",
   "metadata": {},
   "source": [
    "Test your algorithm on the follwoing graph:"
   ]
  },
  {
   "cell_type": "code",
   "execution_count": 16,
   "metadata": {},
   "outputs": [],
   "source": [
    "adj_1 = {\n",
    "'u': ['v', 'x'],\n",
    "'x': ['u', 'v', 'y'],\n",
    "'v': ['u', 'x', 'y'],\n",
    "'y': ['x','y','w'],\n",
    "'w': ['y', 'z'],\n",
    "'z': ['w']\n",
    "}"
   ]
  },
  {
   "cell_type": "code",
   "execution_count": 37,
   "metadata": {},
   "outputs": [],
   "source": [
    "from collections import deque\n",
    "import random\n",
    "queue = deque()"
   ]
  },
  {
   "cell_type": "code",
   "execution_count": 59,
   "metadata": {},
   "outputs": [
    {
     "name": "stdout",
     "output_type": "stream",
     "text": [
      "['u', 'v', 'x', 'y', 'w', 'z']\n"
     ]
    }
   ],
   "source": [
    "# Append inital value to the deque (starting from 'u')\n",
    "# BFS iterative version\n",
    "queue.append('u')\n",
    "visited = []\n",
    "while queue:\n",
    "    curr = queue.popleft()    \n",
    "    visited.append(curr)\n",
    "    adjs = adj_1.get(curr)\n",
    "    for adj in adjs:        \n",
    "        if adj not in visited and adj not in queue:\n",
    "            queue.append(adj)        \n",
    "\n",
    "print(visited)"
   ]
  },
  {
   "cell_type": "code",
   "execution_count": 58,
   "metadata": {},
   "outputs": [
    {
     "name": "stdout",
     "output_type": "stream",
     "text": [
      "['u', 'v', 'x', 'y', 'w', 'z']\n"
     ]
    }
   ],
   "source": [
    "# Recursive method\n",
    "queue = deque()\n",
    "queue.append('u')\n",
    "visited = []\n",
    "\n",
    "def bfs(queue, visited):\n",
    "    if not queue:\n",
    "        return\n",
    "    curr = queue.popleft()\n",
    "    \n",
    "    visited.append(curr)\n",
    "    adjs = adj_1.get(curr)\n",
    "    for adj in adjs:        \n",
    "        if adj not in visited and adj not in queue:\n",
    "            queue.append(adj)\n",
    "    bfs(queue, visited)\n",
    "\n",
    "bfs(queue, visited)\n",
    "print(visited)"
   ]
  },
  {
   "cell_type": "code",
   "execution_count": 62,
   "metadata": {},
   "outputs": [
    {
     "name": "stdout",
     "output_type": "stream",
     "text": [
      "['u', 'x', 'y', 'w', 'z', 'v']\n"
     ]
    }
   ],
   "source": [
    "# DFS iterative version\n",
    "\n",
    "stack = []\n",
    "visited = []\n",
    "\n",
    "stack.append('u')\n",
    "while stack:\n",
    "    curr = stack.pop()\n",
    "    visited.append(curr)\n",
    "    adjs = adj_1.get(curr)\n",
    "    for adj in adjs:\n",
    "        if adj not in visited and adj not in stack:\n",
    "            stack.append(adj)\n",
    "            \n",
    "print(visited)"
   ]
  },
  {
   "cell_type": "code",
   "execution_count": 70,
   "metadata": {},
   "outputs": [
    {
     "name": "stdout",
     "output_type": "stream",
     "text": [
      "['u', 'x', 'y', 'w', 'z', 'v']\n"
     ]
    }
   ],
   "source": [
    "# DFS recursive version\n",
    "stack = []\n",
    "visited = []\n",
    "\n",
    "stack.append('u')\n",
    "\n",
    "def dfs(stack, visited):\n",
    "    if not stack:\n",
    "        return\n",
    "    curr = stack.pop()\n",
    "    visited.append(curr)\n",
    "    adjs = adj_1.get(curr)\n",
    "    for adj in adjs:\n",
    "        if adj not in visited and adj not in stack:\n",
    "            stack.append(adj)\n",
    "    dfs(stack, visited)\n",
    "\n",
    "dfs(stack, visited)\n",
    "print(visited)"
   ]
  },
  {
   "cell_type": "markdown",
   "metadata": {},
   "source": [
    "<hr style=\"border:1px solid black\"> </hr>"
   ]
  },
  {
   "cell_type": "code",
   "execution_count": null,
   "metadata": {},
   "outputs": [],
   "source": []
  }
 ],
 "metadata": {
  "kernelspec": {
   "display_name": "Python 3 (ipykernel)",
   "language": "python",
   "name": "python3"
  },
  "language_info": {
   "codemirror_mode": {
    "name": "ipython",
    "version": 3
   },
   "file_extension": ".py",
   "mimetype": "text/x-python",
   "name": "python",
   "nbconvert_exporter": "python",
   "pygments_lexer": "ipython3",
   "version": "3.8.10"
  },
  "varInspector": {
   "cols": {
    "lenName": 16,
    "lenType": 16,
    "lenVar": 40
   },
   "kernels_config": {
    "python": {
     "delete_cmd_postfix": "",
     "delete_cmd_prefix": "del ",
     "library": "var_list.py",
     "varRefreshCmd": "print(var_dic_list())"
    },
    "r": {
     "delete_cmd_postfix": ") ",
     "delete_cmd_prefix": "rm(",
     "library": "var_list.r",
     "varRefreshCmd": "cat(var_dic_list()) "
    }
   },
   "position": {
    "height": "144px",
    "left": "1368px",
    "right": "20px",
    "top": "636px",
    "width": "350px"
   },
   "types_to_exclude": [
    "module",
    "function",
    "builtin_function_or_method",
    "instance",
    "_Feature"
   ],
   "window_display": false
  }
 },
 "nbformat": 4,
 "nbformat_minor": 4
}
