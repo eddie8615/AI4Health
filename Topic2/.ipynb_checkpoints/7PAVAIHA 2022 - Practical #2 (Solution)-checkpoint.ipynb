{
 "cells": [
  {
   "cell_type": "markdown",
   "metadata": {},
   "source": [
    "## Practical 2: AI in Games"
   ]
  },
  {
   "cell_type": "markdown",
   "metadata": {},
   "source": [
    "### Easy AI Library\n",
    "In this lab we will learn to use the __[easyAI](https://pypi.org/project/easyAI/)__ library to build AI agents that utilise search algorithms to play simple games"
   ]
  },
  {
   "cell_type": "markdown",
   "metadata": {},
   "source": [
    "Remember to install easyAI module *before* starting the tutorial:"
   ]
  },
  {
   "cell_type": "code",
   "execution_count": null,
   "metadata": {},
   "outputs": [],
   "source": [
    "pip install easyAI"
   ]
  },
  {
   "cell_type": "markdown",
   "metadata": {},
   "source": [
    "<hr style=\"border:1px solid black\"> </hr>"
   ]
  },
  {
   "cell_type": "markdown",
   "metadata": {},
   "source": [
    "##  Excercise 1: Build an agent to play Last Coin Standing"
   ]
  },
  {
   "cell_type": "markdown",
   "metadata": {},
   "source": [
    "### Rules of the Game\n",
    "- In this game, there is a pile of coins and each player takes turns to take a number of coins from the pile. \n",
    "- There is a lower and an upper bound on the number of coins that can be taken from the pile. \n",
    "- The goal of the game is to avoid taking the last coin in the pile."
   ]
  },
  {
   "cell_type": "markdown",
   "metadata": {},
   "source": [
    "### Step 1 Set Up"
   ]
  },
  {
   "cell_type": "markdown",
   "metadata": {},
   "source": [
    "Install all necessary packages"
   ]
  },
  {
   "cell_type": "code",
   "execution_count": null,
   "metadata": {},
   "outputs": [],
   "source": [
    "from easyAI import TwoPlayersGame, id_solve, Human_Player, AI_Player, Negamax"
   ]
  },
  {
   "cell_type": "markdown",
   "metadata": {},
   "source": [
    "Create a `class` object to handle all the operations of the game\n",
    "- Note: this object defines the key actions needed to play the game. \n",
    "- Do you understand the purpose of each function? \n",
    "- **Answer** this are all to define different elements of game play - No AI here! "
   ]
  },
  {
   "cell_type": "code",
   "execution_count": null,
   "metadata": {},
   "outputs": [],
   "source": [
    "class LastCoinStanding(TwoPlayersGame):\n",
    "    def __init__(self, players):\n",
    "        # Define the players. Necessary parameter.\n",
    "        self.players = players\n",
    "\n",
    "        # Define who starts the game. Necessary parameter.\n",
    "        self.nplayer = 1 \n",
    "\n",
    "        # Overall number of coins in the pile \n",
    "        self.num_coins = 25\n",
    "\n",
    "        # Define max number of coins per move \n",
    "        self.max_coins = 4 \n",
    "\n",
    "    # Define possible moves\n",
    "    def possible_moves(self): \n",
    "        return [str(x) for x in range(1, self.max_coins + 1)]\n",
    "    \n",
    "    # Remove coins\n",
    "    def make_move(self, move): \n",
    "        self.num_coins -= int(move) \n",
    "\n",
    "    # Did the opponent take the last coin?\n",
    "    def win(self): \n",
    "        return self.num_coins <= 0 \n",
    "\n",
    "    # Stop the game when somebody wins \n",
    "    def is_over(self): \n",
    "        return self.win() \n",
    "\n",
    "    # Compute score\n",
    "    def scoring(self): \n",
    "        return 100 if self.win() else 0\n",
    "\n",
    "    # Show number of coins remaining in the pile\n",
    "    def show(self): \n",
    "        print(self.num_coins, 'coins left in the pile')"
   ]
  },
  {
   "cell_type": "markdown",
   "metadata": {},
   "source": [
    "### Step 2 Play the Game"
   ]
  },
  {
   "cell_type": "markdown",
   "metadata": {},
   "source": [
    "Define the main function <br>\n",
    "- What AI algorithm is the main function implemementing, describe the basic details (Google it!)\n",
    "- Determine the purpose of the variable `d`? Observe what happens to the gameplay as you change this value\n",
    "- **Answer** The greater d, the more intellegent the algorithm is, but also the slower the algorithm will run as it has a great number of steps to iterate to determine the next move. Trying running at depth such as 15, it will take a while"
   ]
  },
  {
   "cell_type": "code",
   "execution_count": null,
   "metadata": {},
   "outputs": [],
   "source": [
    "if __name__ == \"__main__\":\n",
    "    \n",
    "    d = 15\n",
    "    ai = Negamax(d)\n",
    "    game = LastCoinStanding([AI_Player(ai),Human_Player()])\n",
    "    game.play()    "
   ]
  },
  {
   "cell_type": "markdown",
   "metadata": {},
   "source": [
    "### Exercise"
   ]
  },
  {
   "cell_type": "markdown",
   "metadata": {},
   "source": [
    " Run the game using another AI method (agent) available in `easyAI`\n",
    "- Note: you will need to import a new `easyAI` package to do this\n",
    "- https://zulko.github.io/easyAI/ref.html#ai-algorithms\n",
    "- below is an example of implementing the SSS algorithm"
   ]
  },
  {
   "cell_type": "code",
   "execution_count": null,
   "metadata": {},
   "outputs": [],
   "source": [
    "from easyAI import SSS\n",
    "\n",
    "if __name__ == \"__main__\":\n",
    "    \n",
    "    d = 7\n",
    "    ai = SSS(d)\n",
    "    game = LastCoinStanding([AI_Player(ai),Human_Player()])\n",
    "    game.play()    "
   ]
  },
  {
   "cell_type": "markdown",
   "metadata": {},
   "source": [
    "### Step 3 Solving the game in advance"
   ]
  },
  {
   "cell_type": "markdown",
   "metadata": {},
   "source": [
    "**Step 1.5:** We will now implement the AI agent using a transposition table. \n",
    "- What is the purpose of this approach (Goggle it)?\n",
    "- What do the variables result, depth and move respresent? \n",
    "- What do you have to change in this approach to adjust the intellegnce of the algorithm? \n",
    "- What is a weakness of this approach? "
   ]
  },
  {
   "cell_type": "markdown",
   "metadata": {},
   "source": [
    "- to map out solution space in advance of playing the game. The agent can refer to this table to speed up searching for the best next move\n",
    "- **result:** Either 1 (certain victory of the first player) or -1 (certain defeat) or 0 (either draw, or the search was not deep enough). **depth:** The minimal number of moves before victory (or defeat) **move:** Best move to play for the first player.\n",
    "- the maximum value in the range functions\n",
    "- time taken to run. Also inflexible, in real world it may not be possible to simulate all possible moves in advance"
   ]
  },
  {
   "cell_type": "code",
   "execution_count": null,
   "metadata": {},
   "outputs": [],
   "source": [
    "from easyAI.AI import TT\n",
    "\n",
    "if __name__ == \"__main__\":\n",
    "    # Define the transposition table\n",
    "    tt = TT()\n",
    "\n",
    "    # Define the method\n",
    "    LastCoinStanding.ttentry = lambda self: self.num_coins\n",
    "\n",
    "    # Solve the game\n",
    "    result, depth, move = id_solve(LastCoinStanding, \n",
    "            range(2, 20), win_score=100, tt=tt)\n",
    "    print(result, depth, move)  \n",
    "\n",
    "    # Start the game \n",
    "    game = LastCoinStanding([AI_Player(tt), Human_Player()])\n",
    "    game.play()"
   ]
  },
  {
   "cell_type": "markdown",
   "metadata": {},
   "source": [
    "<hr style=\"border:1px solid black\"> </hr>"
   ]
  },
  {
   "cell_type": "markdown",
   "metadata": {},
   "source": [
    "## Excercise 2: Build AI agents that battle each other at connect four"
   ]
  },
  {
   "cell_type": "markdown",
   "metadata": {},
   "source": [
    "### Rules of the Game\n",
    "\n",
    "- Players take turns dropping discs into a vertical grid consisting of six rows and seven columns\n",
    "- The goal is to get four discs in a line "
   ]
  },
  {
   "cell_type": "markdown",
   "metadata": {},
   "source": [
    "### Step 1 Set Up"
   ]
  },
  {
   "cell_type": "markdown",
   "metadata": {},
   "source": [
    "Create a new `class` to handle all the operations of the game\n",
    "- Do you understand the purpose of each function?\n",
    "- **Answer** - again this is all game play code. No AI here"
   ]
  },
  {
   "cell_type": "code",
   "execution_count": null,
   "metadata": {},
   "outputs": [],
   "source": [
    "import numpy as np\n",
    "\n",
    "class ConnectFour(TwoPlayersGame):\n",
    "    def __init__(self, players, board = None):\n",
    "        # Define the players\n",
    "        self.players = players\n",
    "\n",
    "        # Define the configuration of the board\n",
    "        self.board = board if (board != None) else (\n",
    "            np.array([[0 for i in range(7)] for j in range(6)]))\n",
    "\n",
    "        # Define who starts the game\n",
    "        self.nplayer = 1\n",
    "\n",
    "        # Define the positions\n",
    "        self.pos_dir = np.array([[[i, 0], [0, 1]] for i in range(6)] +\n",
    "                   [[[0, i], [1, 0]] for i in range(7)] +\n",
    "                   [[[i, 0], [1, 1]] for i in range(1, 3)] +\n",
    "                   [[[0, i], [1, 1]] for i in range(4)] +\n",
    "                   [[[i, 6], [1, -1]] for i in range(1, 3)] +\n",
    "                   [[[0, i], [1, -1]] for i in range(3, 7)])\n",
    "\n",
    "    # Define possible moves\n",
    "    def possible_moves(self):\n",
    "        return [i for i in range(7) if (self.board[:, i].min() == 0)]\n",
    "\n",
    "    # Define how to make the move\n",
    "    def make_move(self, column):\n",
    "        line = np.argmin(self.board[:, column] != 0)\n",
    "        self.board[line, column] = self.nplayer\n",
    "\n",
    "    # Show the current status\n",
    "    def show(self):\n",
    "        print('\\n' + '\\n'.join(\n",
    "                ['0 1 2 3 4 5 6', 13 * '-'] +\n",
    "                [' '.join([['.', 'O', 'X'][self.board[5 - j][i]]\n",
    "                for i in range(7)]) for j in range(6)]))\n",
    "\n",
    "    # Define what a loss_condition looks like \n",
    "    def loss_condition(self):\n",
    "        for pos, direction in self.pos_dir:\n",
    "            streak = 0\n",
    "            while (0 <= pos[0] <= 5) and (0 <= pos[1] <= 6):\n",
    "                if self.board[pos[0], pos[1]] == self.nopponent:\n",
    "                    streak += 1\n",
    "                    if streak == 4:\n",
    "                        return True\n",
    "                else:\n",
    "                    streak = 0\n",
    "\n",
    "                pos = pos + direction\n",
    "\n",
    "        return False\n",
    "\n",
    "    # Check if the game is over\n",
    "    def is_over(self):\n",
    "        return (self.board.min() > 0) or self.loss_condition()\n",
    "\n",
    "    # Compute the score\n",
    "    def scoring(self):\n",
    "        return -100 if self.loss_condition() else 0"
   ]
  },
  {
   "cell_type": "markdown",
   "metadata": {},
   "source": [
    "### Exercise Battle of the AI agents"
   ]
  },
  {
   "cell_type": "markdown",
   "metadata": {},
   "source": [
    "Set up different agents with different levels of intellegence and record who wins\n",
    "- What is the main factor that determines why one agent beats another? \n",
    "- **Answer**: Essentially the depth the searching algrithm - the deeper this is set, the more moves in advance the agent can anticipate"
   ]
  },
  {
   "cell_type": "code",
   "execution_count": null,
   "metadata": {},
   "outputs": [],
   "source": [
    "if __name__ == '__main__':\n",
    "    # Define the algorithms that will be used\n",
    "    algo_1 = Negamax(3)\n",
    "    algo_2 = SSS(3)\n",
    "\n",
    "    # Start the game\n",
    "    game = ConnectFour([AI_Player(algo_1), AI_Player(algo_2)])\n",
    "    game.play()\n",
    "\n",
    "    # Print the result\n",
    "    if game.loss_condition():\n",
    "        print('\\nPlayer', game.nopponent, 'wins.')\n",
    "    else:\n",
    "        print(\"\\nIt's a draw.\")"
   ]
  },
  {
   "cell_type": "markdown",
   "metadata": {},
   "source": [
    "<hr style=\"border:1px solid black\"> </hr>"
   ]
  },
  {
   "cell_type": "markdown",
   "metadata": {},
   "source": [
    "## Excercise 3 (Optional): Implement your own Breadth and Depth Search"
   ]
  },
  {
   "cell_type": "markdown",
   "metadata": {},
   "source": [
    "In this excersise you will implemented a *depth-first search* (DFS) and *breadth-first search* (BFS) algorithm on a graph representation known as  an __[adjacency list](https://www.khanacademy.org/computing/computer-science/algorithms/graph-representation/a/representing-graphs)__, which is stored as a __[dictionary](https://www.tutorialspoint.com/python3/python_dictionary.htm)__ data type in python."
   ]
  },
  {
   "cell_type": "markdown",
   "metadata": {},
   "source": [
    "**Building your own Breadth First Search Algorithm**\n",
    "\n",
    "Breadth-first search (BFS) algorithm systematically explores the edges of a graph level by level to discover each vertex that is reachable from the given source vertex.\n",
    "\n",
    "The first step in building a BFS, is to initalise three queues\n",
    "- A *vertex queue* to add know neighbours.\n",
    "- A *visited queue* to store visited vertices.\n",
    "- A *parent queue* to keep track of the vertice we have reached the current one from\n",
    "\n",
    "**Hint** Import `deque` from `collections` to run the *vertex queue*; see __[Deque in Python](https://www.geeksforgeeks.org/deque-in-python/)__. Initialise the *vertex queue* to contain the vertex you are starting your search with.\n",
    "**Hint** Both the *visted queue* and *parent queue* should be initialised as `dictionary` objects.\n",
    "\n",
    "**Note** The BFS algorithm can run without the *parent queue*? Why do we need it? \n",
    "\n",
    "The main processesing part of a BFS algorithm loops through the *vertex queue*.\n",
    "- First, *pop* the first entry off the *vertex queue*; **Hint** `queue.popleft` will be helpful here. \n",
    "- Then, add the neigbours of this vertex into the *vertex queue*, provided they are not in the *visted queue*; **Hint** `queue.append` will be helpful here. \n",
    "- Finally, add the current vetrex into the *visted queue*.\n",
    "This process is repeated until the *vertex queue* is empty; **Hint** use a `while` loop to acheive this. "
   ]
  },
  {
   "cell_type": "markdown",
   "metadata": {},
   "source": [
    "**Building your own Depth First Search Algorithm**\n",
    "\n",
    "In the *depth-first search* (dfs), we visit vertices until we reach a dead-end in which we cannot find any unvisited vertices. When we reach the dead-end, we step back one vertex and visit any other vertices, if they exist.\n",
    "\n",
    "You will need to write *two* functions to create a dfs algorithm. The first function initialise the algorithm, the second is a __[recursive function](https://www.programiz.com/python-programming/recursion)__ to go deeper into the graph. \n",
    "\n",
    "\n",
    "The first function initalise a *parent queue* as a `dictionary` object to keep track of the parent vertex (the vertex one level *higher* in the graph) throughout the recursive calls. \n",
    "\n",
    "The recursive function should \n",
    "- Extract the neighbors of the given vertex and call it's on any unvisited vertices\n",
    "- Use the *parent queue* to keep track of visited vertices "
   ]
  },
  {
   "cell_type": "markdown",
   "metadata": {},
   "source": [
    "Test your algorithm on the follwoing graph:"
   ]
  },
  {
   "cell_type": "code",
   "execution_count": 2,
   "metadata": {},
   "outputs": [],
   "source": [
    "adj_1 = {\n",
    "'u': ['v', 'x'],\n",
    "'x': ['u', 'v', 'y'],\n",
    "'v': ['u', 'x', 'y'],\n",
    "'y': ['x','y','w'],\n",
    "'w': ['y', 'z'],\n",
    "'z': ['w']\n",
    "}"
   ]
  },
  {
   "cell_type": "markdown",
   "metadata": {},
   "source": [
    "**Breadth First Solution:**"
   ]
  },
  {
   "cell_type": "code",
   "execution_count": 3,
   "metadata": {},
   "outputs": [
    {
     "name": "stdout",
     "output_type": "stream",
     "text": [
      "u v x y w z "
     ]
    }
   ],
   "source": [
    "from collections import deque\n",
    "\n",
    "visited = [] # List to keep track of visited nodes.\n",
    "queue = []     #Initialize a queue\n",
    "\n",
    "def bfs(visited, graph, node):\n",
    "  visited.append(node)\n",
    "  queue.append(node)\n",
    "\n",
    "  while queue:\n",
    "    s = queue.pop(0) \n",
    "    print (s, end = \" \") \n",
    "\n",
    "    for neighbour in graph[s]:\n",
    "      if neighbour not in visited:\n",
    "        visited.append(neighbour)\n",
    "        queue.append(neighbour)\n",
    "\n",
    "# Call the function\n",
    "bfs(visited, adj_1, 'u')"
   ]
  },
  {
   "cell_type": "markdown",
   "metadata": {},
   "source": [
    "**Depth First Solution:**"
   ]
  },
  {
   "cell_type": "code",
   "execution_count": 5,
   "metadata": {},
   "outputs": [
    {
     "name": "stdout",
     "output_type": "stream",
     "text": [
      "u v x y w z "
     ]
    }
   ],
   "source": [
    "def dfs(graph, vertex):\n",
    "    parents = {vertex: None}\n",
    "    dfs_visit(graph, vertex, parents)\n",
    "    return parents\n",
    "    \n",
    "def dfs_visit(graph, vertex, parents):\n",
    "    print (vertex, end = \" \")\n",
    "    for n in graph[vertex]:\n",
    "        if n not in parents:\n",
    "            parents[n] = vertex\n",
    "            dfs_visit(graph, n, parents)\n",
    "            return parents\n",
    "\n",
    "if __name__ == \"__main__\":\n",
    "    \n",
    "    adj_1 = {\n",
    "    'u': ['v', 'x'],\n",
    "    'x': ['u', 'v', 'y'],\n",
    "    'v': ['u', 'x', 'y'],\n",
    "    'y': ['x', 'v', 'w'],\n",
    "    'w': ['y', 'z'],\n",
    "    'z': ['w']\n",
    "    }\n",
    "    \n",
    "    parent = dfs(adj_1 ,'u')\n",
    "#     print('\\n')\n",
    "#     print(parent)"
   ]
  },
  {
   "cell_type": "markdown",
   "metadata": {},
   "source": [
    "<hr style=\"border:1px solid black\"> </hr>"
   ]
  },
  {
   "cell_type": "code",
   "execution_count": null,
   "metadata": {},
   "outputs": [],
   "source": []
  }
 ],
 "metadata": {
  "kernelspec": {
   "display_name": "Python 3 (ipykernel)",
   "language": "python",
   "name": "python3"
  },
  "language_info": {
   "codemirror_mode": {
    "name": "ipython",
    "version": 3
   },
   "file_extension": ".py",
   "mimetype": "text/x-python",
   "name": "python",
   "nbconvert_exporter": "python",
   "pygments_lexer": "ipython3",
   "version": "3.8.10"
  },
  "varInspector": {
   "cols": {
    "lenName": 16,
    "lenType": 16,
    "lenVar": 40
   },
   "kernels_config": {
    "python": {
     "delete_cmd_postfix": "",
     "delete_cmd_prefix": "del ",
     "library": "var_list.py",
     "varRefreshCmd": "print(var_dic_list())"
    },
    "r": {
     "delete_cmd_postfix": ") ",
     "delete_cmd_prefix": "rm(",
     "library": "var_list.r",
     "varRefreshCmd": "cat(var_dic_list()) "
    }
   },
   "position": {
    "height": "144px",
    "left": "1368px",
    "right": "20px",
    "top": "636px",
    "width": "350px"
   },
   "types_to_exclude": [
    "module",
    "function",
    "builtin_function_or_method",
    "instance",
    "_Feature"
   ],
   "window_display": false
  }
 },
 "nbformat": 4,
 "nbformat_minor": 4
}
