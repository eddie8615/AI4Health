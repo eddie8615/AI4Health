{
 "cells": [
  {
   "cell_type": "markdown",
   "id": "c629e95e",
   "metadata": {},
   "source": [
    "# Practical 1: Building a Chatbot"
   ]
  },
  {
   "cell_type": "markdown",
   "id": "c79ea0ca",
   "metadata": {},
   "source": [
    "The aim of this pratical is to implement a simple chat bot.\n",
    "\n",
    "A chatbot is a software system, which can interact or “chat” with a human user in natural language. \n",
    "\n",
    "Chatbots generally have the purpose of informing a user, or helping them with fulfilling a task.\n",
    "\n",
    "The pratical is based on __[chatterbot](https://chatterbot.readthedocs.io/en/stable/#)__, a python library specifically designed to generate chatbots. "
   ]
  },
  {
   "cell_type": "markdown",
   "id": "92c25eb8",
   "metadata": {},
   "source": [
    "<hr style=\"border:1px solid black\"> </hr>"
   ]
  },
  {
   "cell_type": "markdown",
   "id": "897663d8",
   "metadata": {},
   "source": [
    "## Step 1 Set-Up\n",
    "Install all necessary packages"
   ]
  },
  {
   "cell_type": "code",
   "execution_count": null,
   "id": "4cfffad1",
   "metadata": {},
   "outputs": [],
   "source": [
    "pip install chatterbot==1.0.4"
   ]
  },
  {
   "cell_type": "markdown",
   "id": "ee271048",
   "metadata": {},
   "source": [
    "**Note** If you are running the latest version of Python (>3.8) you may encounter errors with chatterbot v.1.0.4. To install the latest development version of chatterbot uncomment and run the following 2 lines\n",
    "\n",
    "- `pip uninstall chatterbot`\n",
    "- `pip install git+https://github.com/felixdransfield/ChatterBot-3.8-.git`\n",
    "\n",
    "If this does not work for you, please run the practical in __[Google Colab](https://colab.research.google.com)__"
   ]
  },
  {
   "cell_type": "code",
   "execution_count": null,
   "id": "97cd2501",
   "metadata": {},
   "outputs": [],
   "source": [
    "pip install chatterbot_corpus"
   ]
  },
  {
   "cell_type": "code",
   "execution_count": null,
   "id": "a0bd1291",
   "metadata": {},
   "outputs": [],
   "source": [
    "pip install spacy"
   ]
  },
  {
   "cell_type": "markdown",
   "id": "81aac0f5",
   "metadata": {},
   "source": [
    "Import all toolboxes need to support the tutorial"
   ]
  },
  {
   "cell_type": "code",
   "execution_count": null,
   "id": "bf00786c",
   "metadata": {},
   "outputs": [],
   "source": [
    "from chatterbot import ChatBot\n",
    "from chatterbot.trainers import ListTrainer"
   ]
  },
  {
   "cell_type": "markdown",
   "id": "ef9bfd26",
   "metadata": {},
   "source": [
    "##  Step 2 Create and train an intial chatbot instance"
   ]
  },
  {
   "cell_type": "markdown",
   "id": "c44b8b54",
   "metadata": {},
   "source": [
    "Creating a chatbot via chatterbot takes a single line of code! \n",
    "\n",
    "This single line of code generates a Chatbot object named Buddy. "
   ]
  },
  {
   "cell_type": "code",
   "execution_count": null,
   "id": "2802b0f4",
   "metadata": {},
   "outputs": [],
   "source": [
    "bot = ChatBot('Buddy', read_only = True)"
   ]
  },
  {
   "cell_type": "markdown",
   "id": "669e33be",
   "metadata": {},
   "source": [
    "The next step in making a chatbot is to train the chatbot using the modules available in chatterbot. \n",
    "\n",
    "ChatterBot’s training process simply involves loading example dialog into the chat bot’s database."
   ]
  },
  {
   "cell_type": "markdown",
   "id": "003a71b6",
   "metadata": {},
   "source": [
    "### Saying Hello\n",
    "The below is an example of chatterbot's *Training via list data* functionality. \n",
    "\n",
    "For this training process, we need to pass in a list of statements where the order of each statement is based on its placement in a given conversation.\n",
    "\n",
    "For example, we will now train Buddy using the following training calls, who will then be aboe respond to both statements of “Hi there!” and “Greetings!” by saying “Hello”.\n",
    "\n",
    "Firstly, we use the already imported `ListTrainer` and create a `trainer object` by passing the Chatbot object. Finally, we call the `train()` function while passing a list of sentences."
   ]
  },
  {
   "cell_type": "code",
   "execution_count": null,
   "id": "78a6b508",
   "metadata": {},
   "outputs": [],
   "source": [
    "trainer = ListTrainer(bot)\n",
    "\n",
    "trainer.train([\n",
    "    \"Hi there!\",\n",
    "    \"Hello\",\n",
    "])\n",
    "\n",
    "trainer.train([\n",
    "    \"Greetings!\",\n",
    "    \"Hello\",\n",
    "])"
   ]
  },
  {
   "cell_type": "markdown",
   "id": "041f6baf",
   "metadata": {},
   "source": [
    "##  Step 3 Chatbot Testing\n",
    "\n",
    "We can now test Buddy's conversational skills.\n",
    "\n",
    "For testing its responses, we will use chatterbot's `get_responses()` command."
   ]
  },
  {
   "cell_type": "code",
   "execution_count": null,
   "id": "59ac84bf",
   "metadata": {},
   "outputs": [],
   "source": [
    "response = bot.get_response ('Hi there!')\n",
    "print(response)"
   ]
  },
  {
   "cell_type": "code",
   "execution_count": null,
   "id": "bc25b1b1",
   "metadata": {},
   "outputs": [],
   "source": [
    "response = bot.get_response ('Hello')\n",
    "print(response)"
   ]
  },
  {
   "cell_type": "markdown",
   "id": "dee4d33b",
   "metadata": {},
   "source": [
    "Congratulations! You've made a working chatbot :-)"
   ]
  },
  {
   "cell_type": "markdown",
   "id": "90ddb1ac",
   "metadata": {},
   "source": [
    "<hr style=\"border:1px solid black\"> </hr>"
   ]
  },
  {
   "cell_type": "markdown",
   "id": "f484dc68",
   "metadata": {},
   "source": [
    "##  Exercise 1 \n",
    "Add the following list of sentences (in order) to Buddy and test it's conversational skills\n",
    "- How are you?\n",
    "- I am good\n",
    "- That is good to hear\n",
    "- Thank you\n",
    "- You are welcome"
   ]
  },
  {
   "cell_type": "code",
   "execution_count": null,
   "id": "136b544d",
   "metadata": {},
   "outputs": [],
   "source": []
  },
  {
   "cell_type": "code",
   "execution_count": null,
   "id": "716a97b2",
   "metadata": {},
   "outputs": [],
   "source": []
  },
  {
   "cell_type": "code",
   "execution_count": null,
   "id": "c23dad85",
   "metadata": {},
   "outputs": [],
   "source": []
  },
  {
   "cell_type": "markdown",
   "id": "52cedd58",
   "metadata": {},
   "source": [
    "<hr style=\"border:1px solid black\"> </hr>"
   ]
  },
  {
   "cell_type": "markdown",
   "id": "bebf6eed",
   "metadata": {},
   "source": [
    "##  Step 4 Programming a Terminal Example\n",
    "\n",
    "We'll now create a simple terminal client that allows you to communicate with Buddy by typing into your terminal.\n",
    "\n",
    "It creates a `while` loop for Buddy to run in. When statements are passed in the loop, Buddy generates an appropriate response for it according to the data already entered into our database. \n",
    "\n",
    "We break the loop by enteringa  “Bye” or “bye” statement, this stops the program\n",
    "\n",
    "First, let's make Buddy a little more verbose, then test out it's terminal interface"
   ]
  },
  {
   "cell_type": "code",
   "execution_count": null,
   "id": "95f53b27",
   "metadata": {},
   "outputs": [],
   "source": [
    "trainer = ListTrainer(bot)\n",
    "trainer.train([\n",
    "'Hi',\n",
    "'Hello',\n",
    "'I need your assistance regarding my order',\n",
    "'Please, Provide me with your order id',\n",
    "'I have a complaint.',\n",
    "'Please elaborate, your concern',\n",
    "'How long it will take to receive an order ?',\n",
    "'An order takes 3-5 Business days to get delivered.',\n",
    "'Okay Thanks',\n",
    "'No Problem! Have a Good Day!'\n",
    "])"
   ]
  },
  {
   "cell_type": "code",
   "execution_count": null,
   "id": "5c444835",
   "metadata": {},
   "outputs": [],
   "source": [
    "name = input('Enter Your Name: ')\n",
    "print ('Hi ' + name + ', my name is Buddy! Let me know how can I help you')\n",
    "while True:\n",
    "    \n",
    "    request = input(name+':')\n",
    "    \n",
    "    if request==\"Bye\" or request=='bye':\n",
    "        print('Bot: Bye')\n",
    "        break\n",
    "    else:\n",
    "        response=bot.get_response(request)\n",
    "        print('Bot: ', response)"
   ]
  },
  {
   "cell_type": "markdown",
   "id": "950458b0",
   "metadata": {},
   "source": [
    "<hr style=\"border:1px solid black\"> </hr>"
   ]
  },
  {
   "cell_type": "markdown",
   "id": "2cda6c6b",
   "metadata": {},
   "source": [
    "##  Exercise 2: Making Buddy smarter\n",
    "\n",
    "As you can tell, Buddy is not very smart. Using the __[ChatterBot Language Training Corpus](https://github.com/gunthercox/chatterbot-corpus)__ and example code on the __[ChatterBot GitHub](https://github.com/gunthercox/ChatterBot/tree/master/examples)__ page enable Buddy to\n",
    "- Converse on AI and Health\n",
    "- Tell a joke\n",
    "\n",
    "and test out Buddy's new found knowledge"
   ]
  },
  {
   "cell_type": "code",
   "execution_count": null,
   "id": "da3f02cb",
   "metadata": {},
   "outputs": [],
   "source": []
  },
  {
   "cell_type": "code",
   "execution_count": null,
   "id": "de8935cf",
   "metadata": {},
   "outputs": [],
   "source": []
  },
  {
   "cell_type": "markdown",
   "id": "22d1cd5e",
   "metadata": {},
   "source": [
    "<hr style=\"border:1px solid black\"> </hr>"
   ]
  },
  {
   "cell_type": "markdown",
   "id": "8af24299",
   "metadata": {},
   "source": [
    "##  Exercise 3: Preprocess Input\n",
    "\n",
    "Utilising online resources, implement ChatterBot `preprocessoring` functionality to make Buddy robust to ‘noise’ in the input statements - e.g., additional spaces, Unicode characters and escaped html characters.\n",
    "\n",
    "Test out Buddy's new found robustness"
   ]
  },
  {
   "cell_type": "code",
   "execution_count": null,
   "id": "ef46f20c",
   "metadata": {},
   "outputs": [],
   "source": []
  },
  {
   "cell_type": "code",
   "execution_count": null,
   "id": "44efe555",
   "metadata": {},
   "outputs": [],
   "source": []
  },
  {
   "cell_type": "markdown",
   "id": "62784905",
   "metadata": {},
   "source": [
    "<hr style=\"border:1px solid black\"> </hr>"
   ]
  },
  {
   "cell_type": "markdown",
   "id": "e73786d5",
   "metadata": {},
   "source": [
    "##  Exercise 4: Enable Buddy to do maths and tell the time\n",
    "\n",
    "Utilising online resources, implement ChatterBot `logic_adapter` functionality to enable Buddy to do Maths and tell the time\n",
    "\n",
    "Test out Buddy's new found robustness"
   ]
  },
  {
   "cell_type": "code",
   "execution_count": null,
   "id": "5c593411",
   "metadata": {},
   "outputs": [],
   "source": []
  },
  {
   "cell_type": "code",
   "execution_count": null,
   "id": "e19e7c96",
   "metadata": {},
   "outputs": [],
   "source": []
  },
  {
   "cell_type": "markdown",
   "id": "b652d6d8",
   "metadata": {},
   "source": [
    "<hr style=\"border:1px solid black\"> </hr>"
   ]
  },
  {
   "cell_type": "markdown",
   "id": "dda2b962",
   "metadata": {},
   "source": [
    "##  Exercise 5: Low confidence response\n",
    "\n",
    "Finally, utilising online resources, configure Buddy to inform users if it does not understand the input with a default response: *‘I am sorry, I do not understand. I am still learning’*\n",
    "\n",
    "Test out Buddy's response to an unexpected input "
   ]
  },
  {
   "cell_type": "code",
   "execution_count": null,
   "id": "3f900725",
   "metadata": {},
   "outputs": [],
   "source": []
  },
  {
   "cell_type": "code",
   "execution_count": null,
   "id": "f047114e",
   "metadata": {},
   "outputs": [],
   "source": []
  },
  {
   "cell_type": "markdown",
   "id": "4eb26652",
   "metadata": {},
   "source": [
    "<hr style=\"border:1px solid black\"> </hr>"
   ]
  },
  {
   "cell_type": "code",
   "execution_count": null,
   "id": "f65c6118",
   "metadata": {},
   "outputs": [],
   "source": []
  }
 ],
 "metadata": {
  "kernelspec": {
   "display_name": "Python 3 (ipykernel)",
   "language": "python",
   "name": "python3"
  },
  "language_info": {
   "codemirror_mode": {
    "name": "ipython",
    "version": 3
   },
   "file_extension": ".py",
   "mimetype": "text/x-python",
   "name": "python",
   "nbconvert_exporter": "python",
   "pygments_lexer": "ipython3",
   "version": "3.8.10"
  }
 },
 "nbformat": 4,
 "nbformat_minor": 5
}
