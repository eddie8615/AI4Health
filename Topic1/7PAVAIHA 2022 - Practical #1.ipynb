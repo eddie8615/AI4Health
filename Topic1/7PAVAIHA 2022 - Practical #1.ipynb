{
 "cells": [
  {
   "cell_type": "markdown",
   "id": "c629e95e",
   "metadata": {},
   "source": [
    "# Practical 1: Building a Chatbot"
   ]
  },
  {
   "cell_type": "markdown",
   "id": "c79ea0ca",
   "metadata": {},
   "source": [
    "The aim of this pratical is to implement a simple chat bot.\n",
    "\n",
    "A chatbot is a software system, which can interact or “chat” with a human user in natural language. \n",
    "\n",
    "Chatbots generally have the purpose of informing a user, or helping them with fulfilling a task.\n",
    "\n",
    "The pratical is based on __[chatterbot](https://chatterbot.readthedocs.io/en/stable/#)__, a python library specifically designed to generate chatbots. "
   ]
  },
  {
   "cell_type": "markdown",
   "id": "92c25eb8",
   "metadata": {},
   "source": [
    "<hr style=\"border:1px solid black\"> </hr>"
   ]
  },
  {
   "cell_type": "markdown",
   "id": "897663d8",
   "metadata": {},
   "source": [
    "## Step 1 Set-Up\n",
    "Install all necessary packages"
   ]
  },
  {
   "cell_type": "code",
   "execution_count": 1,
   "id": "4cfffad1",
   "metadata": {},
   "outputs": [
    {
     "name": "stdout",
     "output_type": "stream",
     "text": [
      "Requirement already satisfied: chatterbot==1.0.4 in /home/changhyun/King's College London/AI4Health/AI4Health/lib/python3.8/site-packages (1.0.4)\n",
      "Requirement already satisfied: pymongo<4.0,>=3.3 in /home/changhyun/King's College London/AI4Health/AI4Health/lib/python3.8/site-packages (from chatterbot==1.0.4) (3.12.3)\n",
      "Requirement already satisfied: chatterbot-corpus<1.3,>=1.2 in /home/changhyun/King's College London/AI4Health/AI4Health/lib/python3.8/site-packages (from chatterbot==1.0.4) (1.2.0)\n",
      "Requirement already satisfied: mathparse<0.2,>=0.1 in /home/changhyun/King's College London/AI4Health/AI4Health/lib/python3.8/site-packages (from chatterbot==1.0.4) (0.1.2)\n",
      "Requirement already satisfied: sqlalchemy<1.3,>=1.2 in /home/changhyun/King's College London/AI4Health/AI4Health/lib/python3.8/site-packages (from chatterbot==1.0.4) (1.2.19)\n",
      "Requirement already satisfied: pint>=0.8.1 in /home/changhyun/King's College London/AI4Health/AI4Health/lib/python3.8/site-packages (from chatterbot==1.0.4) (0.19.2)\n",
      "Requirement already satisfied: nltk<4.0,>=3.2 in /home/changhyun/King's College London/AI4Health/AI4Health/lib/python3.8/site-packages (from chatterbot==1.0.4) (3.7)\n",
      "Requirement already satisfied: python-dateutil<2.8,>=2.7 in /home/changhyun/King's College London/AI4Health/AI4Health/lib/python3.8/site-packages (from chatterbot==1.0.4) (2.7.5)\n",
      "Requirement already satisfied: PyYAML<4.0,>=3.12 in /home/changhyun/King's College London/AI4Health/AI4Health/lib/python3.8/site-packages (from chatterbot-corpus<1.3,>=1.2->chatterbot==1.0.4) (3.13)\n",
      "Requirement already satisfied: regex>=2021.8.3 in /home/changhyun/King's College London/AI4Health/AI4Health/lib/python3.8/site-packages (from nltk<4.0,>=3.2->chatterbot==1.0.4) (2022.4.24)\n",
      "Requirement already satisfied: tqdm in /home/changhyun/King's College London/AI4Health/AI4Health/lib/python3.8/site-packages (from nltk<4.0,>=3.2->chatterbot==1.0.4) (4.64.0)\n",
      "Requirement already satisfied: click in /home/changhyun/King's College London/AI4Health/AI4Health/lib/python3.8/site-packages (from nltk<4.0,>=3.2->chatterbot==1.0.4) (8.1.3)\n",
      "Requirement already satisfied: joblib in /home/changhyun/King's College London/AI4Health/AI4Health/lib/python3.8/site-packages (from nltk<4.0,>=3.2->chatterbot==1.0.4) (1.1.0)\n",
      "Requirement already satisfied: six>=1.5 in /home/changhyun/King's College London/AI4Health/AI4Health/lib/python3.8/site-packages (from python-dateutil<2.8,>=2.7->chatterbot==1.0.4) (1.16.0)\n",
      "Note: you may need to restart the kernel to use updated packages.\n"
     ]
    }
   ],
   "source": [
    "pip install chatterbot==1.0.4"
   ]
  },
  {
   "cell_type": "markdown",
   "id": "ee271048",
   "metadata": {},
   "source": [
    "**Note** If you are running the latest version of Python (>3.8) you may encounter errors with chatterbot v.1.0.4. To install the latest development version of chatterbot uncomment and run the following 2 lines\n",
    "\n",
    "- `pip uninstall chatterbot`\n",
    "- `pip install git+https://github.com/felixdransfield/ChatterBot-3.8-.git`\n",
    "\n",
    "If this does not work for you, please run the practical in __[Google Colab](https://colab.research.google.com)__"
   ]
  },
  {
   "cell_type": "code",
   "execution_count": 2,
   "id": "97cd2501",
   "metadata": {},
   "outputs": [
    {
     "name": "stdout",
     "output_type": "stream",
     "text": [
      "Requirement already satisfied: chatterbot_corpus in /home/changhyun/King's College London/AI4Health/AI4Health/lib/python3.8/site-packages (1.2.0)\n",
      "Requirement already satisfied: PyYAML<4.0,>=3.12 in /home/changhyun/King's College London/AI4Health/AI4Health/lib/python3.8/site-packages (from chatterbot_corpus) (3.13)\n",
      "Note: you may need to restart the kernel to use updated packages.\n"
     ]
    }
   ],
   "source": [
    "pip install chatterbot_corpus"
   ]
  },
  {
   "cell_type": "code",
   "execution_count": 3,
   "id": "a0bd1291",
   "metadata": {},
   "outputs": [
    {
     "name": "stdout",
     "output_type": "stream",
     "text": [
      "Requirement already satisfied: spacy in /home/changhyun/King's College London/AI4Health/AI4Health/lib/python3.8/site-packages (3.3.0)\n",
      "Requirement already satisfied: preshed<3.1.0,>=3.0.2 in /home/changhyun/King's College London/AI4Health/AI4Health/lib/python3.8/site-packages (from spacy) (3.0.6)\n",
      "Requirement already satisfied: pydantic!=1.8,!=1.8.1,<1.9.0,>=1.7.4 in /home/changhyun/King's College London/AI4Health/AI4Health/lib/python3.8/site-packages (from spacy) (1.8.2)\n",
      "Requirement already satisfied: jinja2 in /home/changhyun/King's College London/AI4Health/AI4Health/lib/python3.8/site-packages (from spacy) (3.1.2)\n",
      "Requirement already satisfied: murmurhash<1.1.0,>=0.28.0 in /home/changhyun/King's College London/AI4Health/AI4Health/lib/python3.8/site-packages (from spacy) (1.0.7)\n",
      "Requirement already satisfied: langcodes<4.0.0,>=3.2.0 in /home/changhyun/King's College London/AI4Health/AI4Health/lib/python3.8/site-packages (from spacy) (3.3.0)\n",
      "Requirement already satisfied: srsly<3.0.0,>=2.4.3 in /home/changhyun/King's College London/AI4Health/AI4Health/lib/python3.8/site-packages (from spacy) (2.4.3)\n",
      "Requirement already satisfied: numpy>=1.15.0 in /home/changhyun/King's College London/AI4Health/AI4Health/lib/python3.8/site-packages (from spacy) (1.22.3)\n",
      "Requirement already satisfied: catalogue<2.1.0,>=2.0.6 in /home/changhyun/King's College London/AI4Health/AI4Health/lib/python3.8/site-packages (from spacy) (2.0.7)\n",
      "Requirement already satisfied: thinc<8.1.0,>=8.0.14 in /home/changhyun/King's College London/AI4Health/AI4Health/lib/python3.8/site-packages (from spacy) (8.0.15)\n",
      "Requirement already satisfied: requests<3.0.0,>=2.13.0 in /home/changhyun/King's College London/AI4Health/AI4Health/lib/python3.8/site-packages (from spacy) (2.27.1)\n",
      "Requirement already satisfied: tqdm<5.0.0,>=4.38.0 in /home/changhyun/King's College London/AI4Health/AI4Health/lib/python3.8/site-packages (from spacy) (4.64.0)\n",
      "Requirement already satisfied: spacy-loggers<2.0.0,>=1.0.0 in /home/changhyun/King's College London/AI4Health/AI4Health/lib/python3.8/site-packages (from spacy) (1.0.2)\n",
      "Requirement already satisfied: setuptools in /home/changhyun/King's College London/AI4Health/AI4Health/lib/python3.8/site-packages (from spacy) (44.0.0)\n",
      "Requirement already satisfied: packaging>=20.0 in /home/changhyun/King's College London/AI4Health/AI4Health/lib/python3.8/site-packages (from spacy) (21.3)\n",
      "Requirement already satisfied: cymem<2.1.0,>=2.0.2 in /home/changhyun/King's College London/AI4Health/AI4Health/lib/python3.8/site-packages (from spacy) (2.0.6)\n",
      "Requirement already satisfied: typer<0.5.0,>=0.3.0 in /home/changhyun/King's College London/AI4Health/AI4Health/lib/python3.8/site-packages (from spacy) (0.4.1)\n",
      "Requirement already satisfied: blis<0.8.0,>=0.4.0 in /home/changhyun/King's College London/AI4Health/AI4Health/lib/python3.8/site-packages (from spacy) (0.7.7)\n",
      "Requirement already satisfied: wasabi<1.1.0,>=0.9.1 in /home/changhyun/King's College London/AI4Health/AI4Health/lib/python3.8/site-packages (from spacy) (0.9.1)\n",
      "Requirement already satisfied: spacy-legacy<3.1.0,>=3.0.9 in /home/changhyun/King's College London/AI4Health/AI4Health/lib/python3.8/site-packages (from spacy) (3.0.9)\n",
      "Requirement already satisfied: pathy>=0.3.5 in /home/changhyun/King's College London/AI4Health/AI4Health/lib/python3.8/site-packages (from spacy) (0.6.1)\n",
      "Requirement already satisfied: typing-extensions>=3.7.4.3 in /home/changhyun/King's College London/AI4Health/AI4Health/lib/python3.8/site-packages (from pydantic!=1.8,!=1.8.1,<1.9.0,>=1.7.4->spacy) (4.2.0)\n",
      "Requirement already satisfied: MarkupSafe>=2.0 in /home/changhyun/King's College London/AI4Health/AI4Health/lib/python3.8/site-packages (from jinja2->spacy) (2.1.1)\n",
      "Requirement already satisfied: certifi>=2017.4.17 in /home/changhyun/King's College London/AI4Health/AI4Health/lib/python3.8/site-packages (from requests<3.0.0,>=2.13.0->spacy) (2021.10.8)\n",
      "Requirement already satisfied: charset-normalizer~=2.0.0; python_version >= \"3\" in /home/changhyun/King's College London/AI4Health/AI4Health/lib/python3.8/site-packages (from requests<3.0.0,>=2.13.0->spacy) (2.0.12)\n",
      "Requirement already satisfied: idna<4,>=2.5; python_version >= \"3\" in /home/changhyun/King's College London/AI4Health/AI4Health/lib/python3.8/site-packages (from requests<3.0.0,>=2.13.0->spacy) (3.3)\n",
      "Requirement already satisfied: urllib3<1.27,>=1.21.1 in /home/changhyun/King's College London/AI4Health/AI4Health/lib/python3.8/site-packages (from requests<3.0.0,>=2.13.0->spacy) (1.26.9)\n",
      "Requirement already satisfied: pyparsing!=3.0.5,>=2.0.2 in /home/changhyun/King's College London/AI4Health/AI4Health/lib/python3.8/site-packages (from packaging>=20.0->spacy) (3.0.8)\n",
      "Requirement already satisfied: click<9.0.0,>=7.1.1 in /home/changhyun/King's College London/AI4Health/AI4Health/lib/python3.8/site-packages (from typer<0.5.0,>=0.3.0->spacy) (8.1.3)\n",
      "Requirement already satisfied: smart-open<6.0.0,>=5.0.0 in /home/changhyun/King's College London/AI4Health/AI4Health/lib/python3.8/site-packages (from pathy>=0.3.5->spacy) (5.2.1)\n",
      "Note: you may need to restart the kernel to use updated packages.\n"
     ]
    }
   ],
   "source": [
    "pip install spacy"
   ]
  },
  {
   "cell_type": "markdown",
   "id": "81aac0f5",
   "metadata": {},
   "source": [
    "Import all toolboxes need to support the tutorial"
   ]
  },
  {
   "cell_type": "code",
   "execution_count": 1,
   "id": "bf00786c",
   "metadata": {},
   "outputs": [],
   "source": [
    "from chatterbot import ChatBot\n",
    "from chatterbot.trainers import ListTrainer"
   ]
  },
  {
   "cell_type": "markdown",
   "id": "ef9bfd26",
   "metadata": {},
   "source": [
    "##  Step 2 Create and train an intial chatbot instance"
   ]
  },
  {
   "cell_type": "markdown",
   "id": "c44b8b54",
   "metadata": {},
   "source": [
    "Creating a chatbot via chatterbot takes a single line of code! \n",
    "\n",
    "This single line of code generates a Chatbot object named Buddy. "
   ]
  },
  {
   "cell_type": "code",
   "execution_count": 2,
   "id": "2802b0f4",
   "metadata": {},
   "outputs": [
    {
     "name": "stderr",
     "output_type": "stream",
     "text": [
      "[nltk_data] Downloading package averaged_perceptron_tagger to\n",
      "[nltk_data]     /home/changhyun/nltk_data...\n",
      "[nltk_data]   Unzipping taggers/averaged_perceptron_tagger.zip.\n",
      "[nltk_data] Downloading package punkt to /home/changhyun/nltk_data...\n",
      "[nltk_data]   Unzipping tokenizers/punkt.zip.\n",
      "[nltk_data] Downloading package stopwords to\n",
      "[nltk_data]     /home/changhyun/nltk_data...\n",
      "[nltk_data]   Unzipping corpora/stopwords.zip.\n",
      "[nltk_data] Downloading package wordnet to\n",
      "[nltk_data]     /home/changhyun/nltk_data...\n",
      "[nltk_data]   Unzipping corpora/wordnet.zip.\n"
     ]
    }
   ],
   "source": [
    "bot = ChatBot('Buddy', read_only = True)"
   ]
  },
  {
   "cell_type": "markdown",
   "id": "669e33be",
   "metadata": {},
   "source": [
    "The next step in making a chatbot is to train the chatbot using the modules available in chatterbot. \n",
    "\n",
    "ChatterBot’s training process simply involves loading example dialog into the chat bot’s database."
   ]
  },
  {
   "cell_type": "markdown",
   "id": "003a71b6",
   "metadata": {},
   "source": [
    "### Saying Hello\n",
    "The below is an example of chatterbot's *Training via list data* functionality. \n",
    "\n",
    "For this training process, we need to pass in a list of statements where the order of each statement is based on its placement in a given conversation.\n",
    "\n",
    "For example, we will now train Buddy using the following training calls, who will then be aboe respond to both statements of “Hi there!” and “Greetings!” by saying “Hello”.\n",
    "\n",
    "Firstly, we use the already imported `ListTrainer` and create a `trainer object` by passing the Chatbot object. Finally, we call the `train()` function while passing a list of sentences."
   ]
  },
  {
   "cell_type": "code",
   "execution_count": 3,
   "id": "78a6b508",
   "metadata": {},
   "outputs": [
    {
     "name": "stdout",
     "output_type": "stream",
     "text": [
      "List Trainer: [####################] 100%\n",
      "List Trainer: [####################] 100%\n"
     ]
    }
   ],
   "source": [
    "trainer = ListTrainer(bot)\n",
    "\n",
    "trainer.train([\n",
    "    \"Hi there!\",\n",
    "    \"Hello\",\n",
    "])\n",
    "\n",
    "trainer.train([\n",
    "    \"Greetings!\",\n",
    "    \"Hello\",\n",
    "])"
   ]
  },
  {
   "cell_type": "markdown",
   "id": "041f6baf",
   "metadata": {},
   "source": [
    "##  Step 3 Chatbot Testing\n",
    "\n",
    "We can now test Buddy's conversational skills.\n",
    "\n",
    "For testing its responses, we will use chatterbot's `get_responses()` command."
   ]
  },
  {
   "cell_type": "code",
   "execution_count": 4,
   "id": "59ac84bf",
   "metadata": {},
   "outputs": [
    {
     "name": "stdout",
     "output_type": "stream",
     "text": [
      "Hello\n"
     ]
    }
   ],
   "source": [
    "response = bot.get_response ('Hi there!')\n",
    "print(response)"
   ]
  },
  {
   "cell_type": "code",
   "execution_count": 5,
   "id": "bc25b1b1",
   "metadata": {},
   "outputs": [
    {
     "name": "stdout",
     "output_type": "stream",
     "text": [
      "Hello\n"
     ]
    }
   ],
   "source": [
    "response = bot.get_response ('Hello')\n",
    "print(response)"
   ]
  },
  {
   "cell_type": "markdown",
   "id": "dee4d33b",
   "metadata": {},
   "source": [
    "Congratulations! You've made a working chatbot :-)"
   ]
  },
  {
   "cell_type": "markdown",
   "id": "90ddb1ac",
   "metadata": {},
   "source": [
    "<hr style=\"border:1px solid black\"> </hr>"
   ]
  },
  {
   "cell_type": "markdown",
   "id": "f484dc68",
   "metadata": {},
   "source": [
    "##  Exercise 1 \n",
    "Add the following list of sentences (in order) to Buddy and test it's conversational skills\n",
    "- How are you?\n",
    "- I am good\n",
    "- That is good to hear\n",
    "- Thank you\n",
    "- You are welcome"
   ]
  },
  {
   "cell_type": "code",
   "execution_count": 6,
   "id": "136b544d",
   "metadata": {},
   "outputs": [
    {
     "name": "stdout",
     "output_type": "stream",
     "text": [
      "List Trainer: [####################] 100%\n"
     ]
    }
   ],
   "source": [
    "trainer.train([\n",
    "               'How are you?',\n",
    "               'I am good',\n",
    "               'That is good to hear',\n",
    "               'Thank you',\n",
    "               'You are welcome'\n",
    "])"
   ]
  },
  {
   "cell_type": "code",
   "execution_count": 7,
   "id": "716a97b2",
   "metadata": {},
   "outputs": [
    {
     "name": "stdout",
     "output_type": "stream",
     "text": [
      "I am good\n"
     ]
    }
   ],
   "source": [
    "response = bot.get_response('How are you?')\n",
    "print(response)"
   ]
  },
  {
   "cell_type": "code",
   "execution_count": null,
   "id": "c23dad85",
   "metadata": {},
   "outputs": [],
   "source": []
  },
  {
   "cell_type": "markdown",
   "id": "52cedd58",
   "metadata": {},
   "source": [
    "<hr style=\"border:1px solid black\"> </hr>"
   ]
  },
  {
   "cell_type": "markdown",
   "id": "bebf6eed",
   "metadata": {},
   "source": [
    "##  Step 4 Programming a Terminal Example\n",
    "\n",
    "We'll now create a simple terminal client that allows you to communicate with Buddy by typing into your terminal.\n",
    "\n",
    "It creates a `while` loop for Buddy to run in. When statements are passed in the loop, Buddy generates an appropriate response for it according to the data already entered into our database. \n",
    "\n",
    "We break the loop by enteringa  “Bye” or “bye” statement, this stops the program\n",
    "\n",
    "First, let's make Buddy a little more verbose, then test out it's terminal interface"
   ]
  },
  {
   "cell_type": "code",
   "execution_count": 8,
   "id": "95f53b27",
   "metadata": {},
   "outputs": [
    {
     "name": "stdout",
     "output_type": "stream",
     "text": [
      "List Trainer: [####################] 100%\n"
     ]
    }
   ],
   "source": [
    "trainer = ListTrainer(bot)\n",
    "trainer.train([\n",
    "'Hi',\n",
    "'Hello',\n",
    "'I need your assistance regarding my order',\n",
    "'Please, Provide me with your order id',\n",
    "'I have a complaint.',\n",
    "'Please elaborate, your concern',\n",
    "'How long it will take to receive an order ?',\n",
    "'An order takes 3-5 Business days to get delivered.',\n",
    "'Okay Thanks',\n",
    "'No Problem! Have a Good Day!'\n",
    "])"
   ]
  },
  {
   "cell_type": "code",
   "execution_count": 9,
   "id": "5c444835",
   "metadata": {},
   "outputs": [
    {
     "name": "stdout",
     "output_type": "stream",
     "text": [
      "Enter Your Name: Changhyun\n",
      "Hi Changhyun, my name is Buddy! Let me know how can I help you\n",
      "Changhyun:Bye\n",
      "Bot: Bye\n"
     ]
    }
   ],
   "source": [
    "name = input('Enter Your Name: ')\n",
    "print ('Hi ' + name + ', my name is Buddy! Let me know how can I help you')\n",
    "while True:\n",
    "    \n",
    "    request = input(name+':')\n",
    "    \n",
    "    if request==\"Bye\" or request=='bye':\n",
    "        print('Bot: Bye')\n",
    "        break\n",
    "    else:\n",
    "        response=bot.get_response(request)\n",
    "        print('Bot: ', response)"
   ]
  },
  {
   "cell_type": "markdown",
   "id": "950458b0",
   "metadata": {},
   "source": [
    "<hr style=\"border:1px solid black\"> </hr>"
   ]
  },
  {
   "cell_type": "markdown",
   "id": "2cda6c6b",
   "metadata": {},
   "source": [
    "##  Exercise 2: Making Buddy smarter\n",
    "\n",
    "As you can tell, Buddy is not very smart. Using the __[ChatterBot Language Training Corpus](https://github.com/gunthercox/chatterbot-corpus)__ and example code on the __[ChatterBot GitHub](https://github.com/gunthercox/ChatterBot/tree/master/examples)__ page enable Buddy to\n",
    "- Converse on AI and Health\n",
    "- Tell a joke\n",
    "\n",
    "and test out Buddy's new found knowledge"
   ]
  },
  {
   "cell_type": "code",
   "execution_count": 50,
   "id": "da3f02cb",
   "metadata": {},
   "outputs": [],
   "source": [
    "from chatterbot.trainers import ChatterBotCorpusTrainer\n",
    "\n",
    "def train(bot):\n",
    "    trainer = ChatterBotCorpusTrainer(bot)\n",
    "    trainer.train(\n",
    "        'chatterbot.corpus.english.ai',\n",
    "        'chatterbot.corpus.english.health',\n",
    "        'chatterbot.corpus.english.humor'\n",
    "    )"
   ]
  },
  {
   "cell_type": "code",
   "execution_count": 21,
   "id": "de8935cf",
   "metadata": {},
   "outputs": [
    {
     "name": "stdout",
     "output_type": "stream",
     "text": [
      "Sort of.\n"
     ]
    }
   ],
   "source": [
    "response = bot.get_response('Are you sentient?')\n",
    "print(response)"
   ]
  },
  {
   "cell_type": "markdown",
   "id": "22d1cd5e",
   "metadata": {},
   "source": [
    "<hr style=\"border:1px solid black\"> </hr>"
   ]
  },
  {
   "cell_type": "markdown",
   "id": "8af24299",
   "metadata": {},
   "source": [
    "##  Exercise 3: Preprocess Input\n",
    "\n",
    "Utilising online resources, implement ChatterBot `preprocessoring` functionality to make Buddy robust to ‘noise’ in the input statements - e.g., additional spaces, Unicode characters and escaped html characters.\n",
    "\n",
    "Test out Buddy's new found robustness"
   ]
  },
  {
   "cell_type": "code",
   "execution_count": 22,
   "id": "ef46f20c",
   "metadata": {},
   "outputs": [],
   "source": [
    "def clean_whitespace(statement):\n",
    "    \"\"\"\n",
    "    Remove any consecutive whitespace characters from the statement text.\n",
    "    \"\"\"\n",
    "    import re\n",
    "\n",
    "    # Replace linebreaks and tabs with spaces\n",
    "    statement.text = statement.text.replace('\\n', ' ').replace('\\r', ' ').replace('\\t', ' ')\n",
    "\n",
    "    # Remove any leeding or trailing whitespace\n",
    "    statement.text = statement.text.strip()\n",
    "\n",
    "    # Remove consecutive spaces\n",
    "    statement.text = re.sub(' +', ' ', statement.text)\n",
    "\n",
    "    return statement\n",
    "\n",
    "\n",
    "\n",
    "def unescape_html(statement):\n",
    "    \"\"\"\n",
    "    Convert escaped html characters into unescaped html characters.\n",
    "    For example: \"&lt;b&gt;\" becomes \"<b>\".\n",
    "    \"\"\"\n",
    "    import html\n",
    "\n",
    "    statement.text = html.unescape(statement.text)\n",
    "\n",
    "    return statement\n",
    "\n",
    "\n",
    "\n",
    "def convert_to_ascii(statement):\n",
    "    \"\"\"\n",
    "    Converts unicode characters to ASCII character equivalents.\n",
    "    For example: \"på fédéral\" becomes \"pa federal\".\n",
    "    \"\"\"\n",
    "    import unicodedata\n",
    "\n",
    "    text = unicodedata.normalize('NFKD', statement.text)\n",
    "    text = text.encode('ascii', 'ignore').decode('utf-8')\n",
    "\n",
    "    statement.text = str(text)\n",
    "    return statement"
   ]
  },
  {
   "cell_type": "code",
   "execution_count": 82,
   "id": "44efe555",
   "metadata": {},
   "outputs": [
    {
     "name": "stdout",
     "output_type": "stream",
     "text": [
      "Artificial Intelligence is the branch of engineering and science devoted to constructing machines that think.\n"
     ]
    }
   ],
   "source": [
    "response = bot.get_response('What is AI')\n",
    "print(response)"
   ]
  },
  {
   "cell_type": "markdown",
   "id": "62784905",
   "metadata": {},
   "source": [
    "<hr style=\"border:1px solid black\"> </hr>"
   ]
  },
  {
   "cell_type": "markdown",
   "id": "e73786d5",
   "metadata": {},
   "source": [
    "##  Exercise 4: Enable Buddy to do maths and tell the time\n",
    "\n",
    "Utilising online resources, implement ChatterBot `logic_adapter` functionality to enable Buddy to do Maths and tell the time\n",
    "\n",
    "Test out Buddy's new found robustness"
   ]
  },
  {
   "cell_type": "code",
   "execution_count": 57,
   "id": "5c593411",
   "metadata": {},
   "outputs": [
    {
     "name": "stdout",
     "output_type": "stream",
     "text": [
      "Training ai.yml: [#####               ] 24%"
     ]
    },
    {
     "name": "stderr",
     "output_type": "stream",
     "text": [
      "[nltk_data] Downloading package averaged_perceptron_tagger to\n",
      "[nltk_data]     /home/changhyun/nltk_data...\n",
      "[nltk_data]   Package averaged_perceptron_tagger is already up-to-\n",
      "[nltk_data]       date!\n",
      "[nltk_data] Downloading package punkt to /home/changhyun/nltk_data...\n",
      "[nltk_data]   Package punkt is already up-to-date!\n",
      "[nltk_data] Downloading package stopwords to\n",
      "[nltk_data]     /home/changhyun/nltk_data...\n",
      "[nltk_data]   Package stopwords is already up-to-date!\n"
     ]
    },
    {
     "name": "stdout",
     "output_type": "stream",
     "text": [
      "Training ai.yml: [####################] 100%\n",
      "Training health.yml: [####################] 100%\n",
      "Training humor.yml: [####################] 100%\n"
     ]
    }
   ],
   "source": [
    "bot = ChatBot('Buddy', \n",
    "              preprocessors=[\n",
    "                  'chatterbot.preprocessors.clean_whitespace',\n",
    "                  'chatterbot.preprocessors.convert_to_ascii',\n",
    "                  'chatterbot.preprocessors.unescape_html',                  \n",
    "              ],\n",
    "             logic_adapters=[\n",
    "                'chatterbot.logic.MathematicalEvaluation',\n",
    "                'chatterbot.logic.TimeLogicAdapter'\n",
    "             ])\n",
    "\n",
    "train(bot)"
   ]
  },
  {
   "cell_type": "code",
   "execution_count": 59,
   "id": "e19e7c96",
   "metadata": {},
   "outputs": [
    {
     "name": "stdout",
     "output_type": "stream",
     "text": [
      "25253 * 399 = 10075947\n"
     ]
    }
   ],
   "source": [
    "response = bot.get_response('What is 25253 * 399?')\n",
    "print(response)\n"
   ]
  },
  {
   "cell_type": "markdown",
   "id": "b652d6d8",
   "metadata": {},
   "source": [
    "<hr style=\"border:1px solid black\"> </hr>"
   ]
  },
  {
   "cell_type": "markdown",
   "id": "dda2b962",
   "metadata": {},
   "source": [
    "##  Exercise 5: Low confidence response\n",
    "\n",
    "Finally, utilising online resources, configure Buddy to inform users if it does not understand the input with a default response: *‘I am sorry, I do not understand. I am still learning’*\n",
    "\n",
    "Test out Buddy's response to an unexpected input "
   ]
  },
  {
   "cell_type": "code",
   "execution_count": 68,
   "id": "3f900725",
   "metadata": {},
   "outputs": [
    {
     "name": "stdout",
     "output_type": "stream",
     "text": [
      "Training ai.yml: [#####               ] 24%"
     ]
    },
    {
     "name": "stderr",
     "output_type": "stream",
     "text": [
      "[nltk_data] Downloading package averaged_perceptron_tagger to\n",
      "[nltk_data]     /home/changhyun/nltk_data...\n",
      "[nltk_data]   Package averaged_perceptron_tagger is already up-to-\n",
      "[nltk_data]       date!\n",
      "[nltk_data] Downloading package punkt to /home/changhyun/nltk_data...\n",
      "[nltk_data]   Package punkt is already up-to-date!\n",
      "[nltk_data] Downloading package stopwords to\n",
      "[nltk_data]     /home/changhyun/nltk_data...\n",
      "[nltk_data]   Package stopwords is already up-to-date!\n"
     ]
    },
    {
     "name": "stdout",
     "output_type": "stream",
     "text": [
      "Training ai.yml: [####################] 100%\n",
      "Training health.yml: [####################] 100%\n",
      "Training humor.yml: [####################] 100%\n"
     ]
    }
   ],
   "source": [
    "bot = ChatBot('Buddy', \n",
    "              preprocessors=[\n",
    "                  'chatterbot.preprocessors.clean_whitespace',\n",
    "                  'chatterbot.preprocessors.convert_to_ascii',\n",
    "                  'chatterbot.preprocessors.unescape_html',                  \n",
    "              ],\n",
    "             logic_adapters=[\n",
    "                'chatterbot.logic.MathematicalEvaluation',                \n",
    "                {\n",
    "                    'import_path': 'chatterbot.logic.BestMatch',\n",
    "                    'default_response': 'I am sorry, but I do not understand. I am still learning',\n",
    "                    'maximum_similarity_threshold': 0.90\n",
    "                }\n",
    "             ])\n",
    "train(bot)"
   ]
  },
  {
   "cell_type": "code",
   "execution_count": 86,
   "id": "f047114e",
   "metadata": {},
   "outputs": [
    {
     "name": "stdout",
     "output_type": "stream",
     "text": [
      "The character of Lt. Commander Data was written to come across as being software-like, so it is natural that there is a resemblance between us.\n"
     ]
    }
   ],
   "source": [
    "response = bot.get_response('You sound like Data!!!!!!!!!!!!!!!!!!!!!!!!!!!!!!!!!!!!!')\n",
    "print(response)"
   ]
  },
  {
   "cell_type": "markdown",
   "id": "4eb26652",
   "metadata": {},
   "source": [
    "<hr style=\"border:1px solid black\"> </hr>"
   ]
  },
  {
   "cell_type": "code",
   "execution_count": null,
   "id": "7754943c",
   "metadata": {},
   "outputs": [],
   "source": []
  }
 ],
 "metadata": {
  "kernelspec": {
   "display_name": "AI4Health",
   "language": "python",
   "name": "ai4health"
  },
  "language_info": {
   "codemirror_mode": {
    "name": "ipython",
    "version": 3
   },
   "file_extension": ".py",
   "mimetype": "text/x-python",
   "name": "python",
   "nbconvert_exporter": "python",
   "pygments_lexer": "ipython3",
   "version": "3.8.10"
  }
 },
 "nbformat": 4,
 "nbformat_minor": 5
}
