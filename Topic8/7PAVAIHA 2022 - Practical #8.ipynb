{
 "cells": [
  {
   "cell_type": "markdown",
   "metadata": {},
   "source": [
    "# Practical 8: CNNs and RNNs"
   ]
  },
  {
   "cell_type": "markdown",
   "metadata": {},
   "source": [
    "The aim of this lab is the learn to implement Convolutional Neural Networks (CNNs) and Recurrent Neural Networks (RNN) in Keras.\n",
    "\n",
    "We will do this be implementing building CNN and RNN models for the task of *Human Activity Recognition* (HAR). This is the problem of predicting what a person is doing based on a trace of their movement using accelerometers sensors.\n",
    "\n",
    "The data, and a description of the task we are doing can be found __[here](https://archive.ics.uci.edu/ml/datasets/human+activity+recognition+using+smartphones)__.\n",
    "\n",
    "If you have not already done so, please download a copy of the daa form the __[UCI website](https://archive.ics.uci.edu/ml/machine-learning-databases/00240/)__ before the lab (the *UCI HAR Dataset.zip* folder). After downloading, unzip it and place it in the same folder you are running this program from."
   ]
  },
  {
   "cell_type": "markdown",
   "metadata": {},
   "source": [
    "<hr style=\"border:1px solid black\"> </hr>"
   ]
  },
  {
   "cell_type": "markdown",
   "metadata": {},
   "source": [
    "### Step 1 Set-Up\n",
    "Import all toolboxes need to support the tutorial"
   ]
  },
  {
   "cell_type": "code",
   "execution_count": 1,
   "metadata": {},
   "outputs": [
    {
     "name": "stderr",
     "output_type": "stream",
     "text": [
      "2022-05-23 15:55:05.836513: W tensorflow/stream_executor/platform/default/dso_loader.cc:64] Could not load dynamic library 'libcudart.so.11.0'; dlerror: libcudart.so.11.0: cannot open shared object file: No such file or directory; LD_LIBRARY_PATH: /home/changhyun/catkin_ws/devel/lib:/opt/ros/noetic/lib\n",
      "2022-05-23 15:55:05.836537: I tensorflow/stream_executor/cuda/cudart_stub.cc:29] Ignore above cudart dlerror if you do not have a GPU set up on your machine.\n"
     ]
    }
   ],
   "source": [
    "import numpy as np\n",
    "import pandas as pd\n",
    "\n",
    "from numpy import mean\n",
    "from numpy import std\n",
    "from numpy import dstack\n",
    "\n",
    "from keras.models import Sequential\n",
    "from keras.layers import InputLayer\n",
    "from keras.layers import Dense\n",
    "from keras.layers import Flatten\n",
    "from keras.layers import BatchNormalization\n",
    "from keras.layers import LSTM\n",
    "from keras.layers import Dropout\n",
    "from keras.layers import GRU\n",
    "from tensorflow.keras.utils import to_categorical\n",
    "\n",
    "from keras.layers import Conv1D\n",
    "from keras.layers import MaxPooling1D\n",
    "from keras.layers import preprocessing, Normalization\n",
    "\n",
    "import seaborn as sns\n",
    "import matplotlib.pyplot as plt\n",
    "\n",
    "from sklearn.model_selection import train_test_split\n",
    "from sklearn.metrics import confusion_matrix"
   ]
  },
  {
   "cell_type": "markdown",
   "metadata": {},
   "source": [
    "**Observing Model training** the following function will be used to obsevere the behaviour of the models after they have been trained. It plots the loss and accuracy of model after every training epoch"
   ]
  },
  {
   "cell_type": "code",
   "execution_count": 2,
   "metadata": {},
   "outputs": [],
   "source": [
    "def plot_learningCurve(history, epoch):\n",
    "  # Plot training & validation accuracy values\n",
    "  epoch_range = range(1, epoch+1)\n",
    "  plt.plot(epoch_range, history.history['accuracy'])\n",
    "  plt.plot(epoch_range, history.history['val_accuracy'])\n",
    "  plt.title('Model accuracy')\n",
    "  plt.ylabel('Accuracy')\n",
    "  plt.xlabel('Epoch')\n",
    "  plt.legend(['Train', 'Val'], loc='upper left')\n",
    "  plt.show()\n",
    "\n",
    "  # Plot training & validation loss values\n",
    "  plt.plot(epoch_range, history.history['loss'])\n",
    "  plt.plot(epoch_range, history.history['val_loss'])\n",
    "  plt.title('Model loss')\n",
    "  plt.ylabel('Loss')\n",
    "  plt.xlabel('Epoch')\n",
    "  plt.legend(['Train', 'Val'], loc='upper left')\n",
    "  plt.show()"
   ]
  },
  {
   "cell_type": "markdown",
   "metadata": {},
   "source": [
    "<hr style=\"border:1px solid black\"> </hr>"
   ]
  },
  {
   "cell_type": "markdown",
   "metadata": {},
   "source": [
    "### Step 2 Load the data, partition and set up pre-processing"
   ]
  },
  {
   "cell_type": "markdown",
   "metadata": {},
   "source": [
    "The data was collected from 30 subjects aged between 19 and 48 years old performing one of six standard activities while wearing a waist-mounted smartphone that recorded the movement data. The activities performed were:\n",
    "- Walking\n",
    "- Walking Upstairs\n",
    "- Walking Downstairs\n",
    "- Sitting\n",
    "- Standing\n",
    "- Laying\n",
    "\n",
    "There are three main signal types in the raw data: total acceleration, body acceleration, and body gyroscope. Each has 3 axises (x,y,z) of data. This means that there are a total of nine variables for each time step.\n",
    "\n",
    "Further, each series of data has been partitioned into overlapping windows of 2.56 seconds of data, or 128 time steps. These windows of data correspond to the windows of engineered features (rows) in the previous section.\n",
    "\n",
    "This means that one row of data has (128 * 9), or 1,152 elements\n",
    "\n",
    "The following block of code are the functions needed to exract this data"
   ]
  },
  {
   "cell_type": "code",
   "execution_count": 3,
   "metadata": {},
   "outputs": [],
   "source": [
    "# load a single file as a numpy array\n",
    "def load_file(filepath):\n",
    "    dataframe = pd.read_csv(filepath, header=None, delim_whitespace=True)\n",
    "    return dataframe.values\n",
    " \n",
    "# load a list of files and return as a 3d numpy array\n",
    "def load_group(filenames, prefix='UCI HAR Dataset/'):\n",
    "    loaded = list()\n",
    "    for name in filenames:\n",
    "        data = load_file(prefix + name)\n",
    "        loaded.append(data)\n",
    "    # stack group so that features are the 3rd dimension\n",
    "    loaded = dstack(loaded)\n",
    "    return loaded\n",
    "\n",
    "# load a dataset group, such as train or test\n",
    "def load_dataset_group(group, prefix='UCI HAR Dataset/'):\n",
    "    filepath = prefix + group + '/Inertial Signals/'\n",
    "    # load all 9 files as a single array\n",
    "    filenames = list()\n",
    "    # total acceleration\n",
    "    filenames += ['total_acc_x_'+group+'.txt', 'total_acc_y_'+group+'.txt', 'total_acc_z_'+group+'.txt']\n",
    "    # body acceleration\n",
    "    filenames += ['body_acc_x_'+group+'.txt', 'body_acc_y_'+group+'.txt', 'body_acc_z_'+group+'.txt']\n",
    "    # body gyroscope\n",
    "    filenames += ['body_gyro_x_'+group+'.txt', 'body_gyro_y_'+group+'.txt', 'body_gyro_z_'+group+'.txt']\n",
    "    # load input data\n",
    "    X = load_group(filenames, filepath)\n",
    "    # load class output\n",
    "    y = load_file(prefix + group + '/y_'+group+'.txt')\n",
    "    return X, y\n",
    "\n",
    " \n",
    "# load the dataset, returns train and test X and y elements\n",
    "def load_dataset(prefix='UCI HAR Dataset/'):\n",
    "    # load all train\n",
    "    trainX, trainy = load_dataset_group('train')\n",
    "    # load all test\n",
    "    testX, testy = load_dataset_group('test')\n",
    "    # zero-offset class values\n",
    "    trainy = trainy - 1\n",
    "    testy = testy - 1\n",
    "    # one hot encode y\n",
    "    trainy = to_categorical(trainy)\n",
    "    testy = to_categorical(testy)\n",
    "    return trainX, trainy, testX, testy"
   ]
  },
  {
   "cell_type": "markdown",
   "metadata": {},
   "source": [
    "Call the `load_dataset` function, then split the training data into a training and a validation set"
   ]
  },
  {
   "cell_type": "code",
   "execution_count": 4,
   "metadata": {},
   "outputs": [],
   "source": [
    "# Extract defined training and test splits\n",
    "X_train, y_train, X_test, y_test = load_dataset()\n",
    "\n",
    "# Parameters needed for setting the input and output shapes in our models\n",
    "n_timesteps, n_features, n_outputs = X_train.shape[1], X_train.shape[2], y_train.shape[1]"
   ]
  },
  {
   "cell_type": "markdown",
   "metadata": {},
   "source": [
    "The following block of code utiliser the Keras preprocessing layers API to build Keras-native input pre-processing step. We implemetn the normiliser in the a `create_model()` function below"
   ]
  },
  {
   "cell_type": "code",
   "execution_count": 9,
   "metadata": {},
   "outputs": [
    {
     "name": "stderr",
     "output_type": "stream",
     "text": [
      "2022-05-23 15:56:45.556145: W tensorflow/core/framework/cpu_allocator_impl.cc:82] Allocation of 33878016 exceeds 10% of free system memory.\n"
     ]
    }
   ],
   "source": [
    "normalizer = Normalization()\n",
    "normalizer.adapt(X_train)"
   ]
  },
  {
   "cell_type": "markdown",
   "metadata": {},
   "source": [
    "<hr style=\"border:1px solid black\"> </hr>"
   ]
  },
  {
   "cell_type": "markdown",
   "metadata": {},
   "source": [
    "###  Step 4 Building a CNN"
   ]
  },
  {
   "cell_type": "markdown",
   "metadata": {},
   "source": [
    "As in the previous lab, we build our CNN via a keras __[sequential](https://keras.io/guides/sequential_model/)__ model. \n",
    "\n",
    "**Questions:** \n",
    "- Describe the architecture of the model coded below.\n",
    "- What is the purpose of the `BatchNormalization()` layer?"
   ]
  },
  {
   "cell_type": "code",
   "execution_count": 12,
   "metadata": {},
   "outputs": [],
   "source": [
    "# define the keras model\n",
    "def create_model():\n",
    "    model = Sequential()\n",
    "    model.add(InputLayer(input_shape=(n_timesteps,n_features)))\n",
    "    model.add(normalizer)\n",
    "    model.add(Conv1D(filters=32, kernel_size=))\n",
    "    model.add(BatchNormalization())\n",
    "    model.add(MaxPooling1D(pool_size=2, strides=2))\n",
    "    model.add(Flatten())\n",
    "    model.add(Dense(n_outputs, activation='softmax'))\n",
    "    print(model.summary())\n",
    "    return model"
   ]
  },
  {
   "cell_type": "markdown",
   "metadata": {},
   "source": [
    "Compile the model then build it to start training\n",
    "\n",
    "**Question** What is the purpose of the `shuffle=True` and `validation_split = 0.2` commands in the `model.fit` function? "
   ]
  },
  {
   "cell_type": "code",
   "execution_count": 13,
   "metadata": {},
   "outputs": [
    {
     "name": "stdout",
     "output_type": "stream",
     "text": [
      "Model: \"sequential_2\"\n",
      "_________________________________________________________________\n",
      " Layer (type)                Output Shape              Param #   \n",
      "=================================================================\n",
      " normalization (Normalizatio  (None, 128, 9)           19        \n",
      " n)                                                              \n",
      "                                                                 \n",
      " conv1d_1 (Conv1D)           (None, 124, 32)           1472      \n",
      "                                                                 \n",
      " batch_normalization_1 (Batc  (None, 124, 32)          128       \n",
      " hNormalization)                                                 \n",
      "                                                                 \n",
      " max_pooling1d_1 (MaxPooling  (None, 62, 32)           0         \n",
      " 1D)                                                             \n",
      "                                                                 \n",
      " flatten_1 (Flatten)         (None, 1984)              0         \n",
      "                                                                 \n",
      " dense_1 (Dense)             (None, 6)                 11910     \n",
      "                                                                 \n",
      "=================================================================\n",
      "Total params: 13,529\n",
      "Trainable params: 13,446\n",
      "Non-trainable params: 83\n",
      "_________________________________________________________________\n",
      "None\n"
     ]
    }
   ],
   "source": [
    "model = create_model()\n",
    "\n",
    "model.compile(optimizer='adam', loss = 'categorical_crossentropy', metrics=['accuracy'])\n",
    "\n",
    "EPOCHS = 64\n",
    "BATCH_SIZE = 32\n",
    "\n",
    "history = model.fit(\n",
    "    X_train, y_train, \n",
    "    batch_size=BATCH_SIZE, \n",
    "    epochs=EPOCHS,\n",
    "    validation_split = 0.2,\n",
    "    shuffle=True,\n",
    "    verbose=2\n",
    ")"
   ]
  },
  {
   "cell_type": "markdown",
   "metadata": {},
   "source": [
    "Plot the accuracies and model losses obtained over training"
   ]
  },
  {
   "cell_type": "code",
   "execution_count": 21,
   "metadata": {},
   "outputs": [
    {
     "data": {
      "image/png": "[encoded data removed]",
      "text/plain": [
       "<Figure size 432x288 with 1 Axes>"
      ]
     },
     "metadata": {
      "needs_background": "light"
     },
     "output_type": "display_data"
    },
    {
     "data": {
      "image/png": "[encoded data removed]",
      "text/plain": [
       "<Figure size 432x288 with 1 Axes>"
      ]
     },
     "metadata": {
      "needs_background": "light"
     },
     "output_type": "display_data"
    }
   ],
   "source": [
    "plot_learningCurve(history, EPOCHS)"
   ]
  },
  {
   "cell_type": "markdown",
   "metadata": {},
   "source": [
    "Observe the models performance on the test set? Does this seem reasonable for this experiement? "
   ]
  },
  {
   "cell_type": "code",
   "execution_count": 22,
   "metadata": {},
   "outputs": [
    {
     "name": "stdout",
     "output_type": "stream",
     "text": [
      "Evaluate on test data\n",
      "93/93 [==============================] - 0s 2ms/step - loss: 0.7101 - accuracy: 0.8273\n",
      "test loss, test acc: [0.7101251482963562, 0.8272819519042969]\n",
      "93/93 [==============================] - 0s 2ms/step\n"
     ]
    },
    {
     "data": {
      "text/plain": [
       "<AxesSubplot:>"
      ]
     },
     "execution_count": 22,
     "metadata": {},
     "output_type": "execute_result"
    },
    {
     "data": {
      "image/png": "[encoded data removed]",
      "text/plain": [
       "<Figure size 432x288 with 2 Axes>"
      ]
     },
     "metadata": {
      "needs_background": "light"
     },
     "output_type": "display_data"
    }
   ],
   "source": [
    "# Evaluate the model on the test data using `evaluate`\n",
    "print(\"Evaluate on test data\")\n",
    "results = model.evaluate(X_test, y_test)\n",
    "print(\"test loss, test acc:\", results)\n",
    "\n",
    "y_pred = model.predict(X_test)\n",
    "y_pred = np.argmax(y_pred, axis=1)\n",
    "y_test_vec = np.argmax(y_test, axis=1)\n",
    "\n",
    "cf_matrix = confusion_matrix(y_test_vec, y_pred)\n",
    "sns.heatmap(cf_matrix, annot=True)"
   ]
  },
  {
   "cell_type": "markdown",
   "metadata": {},
   "source": [
    "### Exercise: Alter the model\n",
    "- First, change the number of filters in the first layer to be size 64, and the kernal size to be 5. Observe how this alters the performance of the system.\n",
    "- Then, update the model again. Add in a new convolution, batch normalisation and max pooling layers. These should be added between the current max pooling and flattening layer. The size of the convolutional layer should be 32, the kernel size should be 3. The max pooling size should be 2 and stride 1. Observe how this alters the performance of the system.\n",
    "- Finally, Add ReLU activations to both convolutional layers. Observe how this alters the performance of the system."
   ]
  },
  {
   "cell_type": "markdown",
   "metadata": {},
   "source": [
    "<hr style=\"border:1px solid black\"> </hr>"
   ]
  },
  {
   "cell_type": "markdown",
   "metadata": {},
   "source": [
    "###  Step 5 Building a LSTM-RNN"
   ]
  },
  {
   "cell_type": "markdown",
   "metadata": {},
   "source": [
    "Again, we build our LSTM via a keras __[sequential](https://keras.io/guides/sequential_model/)__ model. \n",
    "\n",
    "**Question:** Describe the architecture of the model coded below"
   ]
  },
  {
   "cell_type": "code",
   "execution_count": 27,
   "metadata": {},
   "outputs": [],
   "source": [
    "# define the keras model\n",
    "def create_model():\n",
    "    model = Sequential()\n",
    "    model.add(InputLayer(input_shape=(n_timesteps,n_features)))\n",
    "    model.add(normalizer)\n",
    "    model.add(LSTM(64))\n",
    "    model.add(BatchNormalization())\n",
    "    model.add(Dense(n_outputs, activation='softmax'))\n",
    "    print(model.summary())\n",
    "    return model"
   ]
  },
  {
   "cell_type": "markdown",
   "metadata": {},
   "source": [
    "Compile the model then build it to start training\n",
    "\n",
    "**Question** Why has `shuffle` been set to `False` in the below code"
   ]
  },
  {
   "cell_type": "code",
   "execution_count": 28,
   "metadata": {},
   "outputs": [
    {
     "name": "stdout",
     "output_type": "stream",
     "text": [
      "Model: \"sequential_2\"\n",
      "_________________________________________________________________\n",
      " Layer (type)                Output Shape              Param #   \n",
      "=================================================================\n",
      " normalization (Normalizatio  (None, 128, 9)           19        \n",
      " n)                                                              \n",
      "                                                                 \n",
      " lstm_1 (LSTM)               (None, 64)                18944     \n",
      "                                                                 \n",
      " batch_normalization_2 (Batc  (None, 64)               256       \n",
      " hNormalization)                                                 \n",
      "                                                                 \n",
      " dense_2 (Dense)             (None, 6)                 390       \n",
      "                                                                 \n",
      "=================================================================\n",
      "Total params: 19,609\n",
      "Trainable params: 19,462\n",
      "Non-trainable params: 147\n",
      "_________________________________________________________________\n",
      "None\n",
      "Epoch 1/64\n",
      "184/184 - 10s - loss: 1.2641 - accuracy: 0.6011 - val_loss: 0.8360 - val_accuracy: 0.8008 - 10s/epoch - 57ms/step\n",
      "Epoch 2/64\n",
      "184/184 - 9s - loss: 0.9576 - accuracy: 0.7228 - val_loss: 0.5995 - val_accuracy: 0.7716 - 9s/epoch - 47ms/step\n",
      "Epoch 3/64\n",
      "184/184 - 8s - loss: 0.8293 - accuracy: 0.7686 - val_loss: 0.4786 - val_accuracy: 0.8783 - 8s/epoch - 46ms/step\n",
      "Epoch 4/64\n",
      "184/184 - 8s - loss: 0.7071 - accuracy: 0.8301 - val_loss: 0.5399 - val_accuracy: 0.8144 - 8s/epoch - 46ms/step\n",
      "Epoch 5/64\n",
      "184/184 - 8s - loss: 0.5537 - accuracy: 0.8774 - val_loss: 0.6228 - val_accuracy: 0.8097 - 8s/epoch - 46ms/step\n",
      "Epoch 6/64\n",
      "184/184 - 9s - loss: 0.6130 - accuracy: 0.8519 - val_loss: 0.6105 - val_accuracy: 0.8090 - 9s/epoch - 46ms/step\n",
      "Epoch 7/64\n",
      "184/184 - 8s - loss: 0.5018 - accuracy: 0.8910 - val_loss: 0.6181 - val_accuracy: 0.8362 - 8s/epoch - 45ms/step\n",
      "Epoch 8/64\n",
      "184/184 - 8s - loss: 0.4335 - accuracy: 0.9015 - val_loss: 0.6755 - val_accuracy: 0.8450 - 8s/epoch - 46ms/step\n",
      "Epoch 9/64\n",
      "184/184 - 9s - loss: 0.4118 - accuracy: 0.9041 - val_loss: 0.3963 - val_accuracy: 0.8892 - 9s/epoch - 47ms/step\n",
      "Epoch 10/64\n",
      "184/184 - 8s - loss: 0.3902 - accuracy: 0.9158 - val_loss: 0.5509 - val_accuracy: 0.8987 - 8s/epoch - 46ms/step\n",
      "Epoch 11/64\n",
      "184/184 - 8s - loss: 0.3902 - accuracy: 0.9055 - val_loss: 0.4106 - val_accuracy: 0.9021 - 8s/epoch - 46ms/step\n",
      "Epoch 12/64\n",
      "184/184 - 8s - loss: 0.3934 - accuracy: 0.9072 - val_loss: 0.6092 - val_accuracy: 0.8260 - 8s/epoch - 46ms/step\n",
      "Epoch 13/64\n",
      "184/184 - 9s - loss: 0.4008 - accuracy: 0.9089 - val_loss: 0.3873 - val_accuracy: 0.9103 - 9s/epoch - 47ms/step\n",
      "Epoch 14/64\n",
      "184/184 - 8s - loss: 0.3346 - accuracy: 0.9248 - val_loss: 0.7509 - val_accuracy: 0.7954 - 8s/epoch - 46ms/step\n",
      "Epoch 15/64\n",
      "184/184 - 8s - loss: 0.2954 - accuracy: 0.9337 - val_loss: 0.4564 - val_accuracy: 0.8593 - 8s/epoch - 45ms/step\n",
      "Epoch 16/64\n",
      "184/184 - 8s - loss: 0.2377 - accuracy: 0.9463 - val_loss: 0.5547 - val_accuracy: 0.8681 - 8s/epoch - 46ms/step\n",
      "Epoch 17/64\n",
      "184/184 - 9s - loss: 0.2348 - accuracy: 0.9449 - val_loss: 0.5175 - val_accuracy: 0.8239 - 9s/epoch - 47ms/step\n",
      "Epoch 18/64\n",
      "184/184 - 8s - loss: 0.3225 - accuracy: 0.9272 - val_loss: 0.6082 - val_accuracy: 0.8314 - 8s/epoch - 46ms/step\n",
      "Epoch 19/64\n",
      "184/184 - 8s - loss: 0.2448 - accuracy: 0.9400 - val_loss: 0.3231 - val_accuracy: 0.8967 - 8s/epoch - 46ms/step\n",
      "Epoch 20/64\n",
      "184/184 - 8s - loss: 0.2078 - accuracy: 0.9469 - val_loss: 0.3864 - val_accuracy: 0.9225 - 8s/epoch - 45ms/step\n",
      "Epoch 21/64\n",
      "184/184 - 8s - loss: 0.2581 - accuracy: 0.9383 - val_loss: 0.4464 - val_accuracy: 0.9096 - 8s/epoch - 46ms/step\n",
      "Epoch 22/64\n",
      "184/184 - 9s - loss: 0.3337 - accuracy: 0.9135 - val_loss: 0.4525 - val_accuracy: 0.8226 - 9s/epoch - 47ms/step\n",
      "Epoch 23/64\n",
      "184/184 - 8s - loss: 0.2733 - accuracy: 0.9342 - val_loss: 0.4606 - val_accuracy: 0.8763 - 8s/epoch - 46ms/step\n",
      "Epoch 24/64\n",
      "184/184 - 8s - loss: 0.2526 - accuracy: 0.9352 - val_loss: 0.4983 - val_accuracy: 0.8878 - 8s/epoch - 46ms/step\n",
      "Epoch 25/64\n",
      "184/184 - 8s - loss: 0.3131 - accuracy: 0.9121 - val_loss: 0.7883 - val_accuracy: 0.8029 - 8s/epoch - 46ms/step\n",
      "Epoch 26/64\n",
      "184/184 - 8s - loss: 0.3662 - accuracy: 0.9104 - val_loss: 0.6392 - val_accuracy: 0.7974 - 8s/epoch - 46ms/step\n",
      "Epoch 27/64\n",
      "184/184 - 8s - loss: 0.2797 - accuracy: 0.9238 - val_loss: 0.6269 - val_accuracy: 0.8056 - 8s/epoch - 46ms/step\n",
      "Epoch 28/64\n",
      "184/184 - 8s - loss: 0.2046 - accuracy: 0.9519 - val_loss: 0.6113 - val_accuracy: 0.8321 - 8s/epoch - 46ms/step\n",
      "Epoch 29/64\n",
      "184/184 - 8s - loss: 0.1955 - accuracy: 0.9554 - val_loss: 0.9728 - val_accuracy: 0.7410 - 8s/epoch - 46ms/step\n",
      "Epoch 30/64\n",
      "184/184 - 8s - loss: 0.2066 - accuracy: 0.9529 - val_loss: 0.6958 - val_accuracy: 0.8199 - 8s/epoch - 46ms/step\n",
      "Epoch 31/64\n",
      "184/184 - 9s - loss: 0.1605 - accuracy: 0.9653 - val_loss: 0.6623 - val_accuracy: 0.8205 - 9s/epoch - 46ms/step\n",
      "Epoch 32/64\n",
      "184/184 - 8s - loss: 0.1348 - accuracy: 0.9689 - val_loss: 0.6580 - val_accuracy: 0.8538 - 8s/epoch - 46ms/step\n",
      "Epoch 33/64\n",
      "184/184 - 9s - loss: 0.1326 - accuracy: 0.9687 - val_loss: 0.9200 - val_accuracy: 0.8199 - 9s/epoch - 46ms/step\n",
      "Epoch 34/64\n",
      "184/184 - 8s - loss: 0.2656 - accuracy: 0.9281 - val_loss: 0.4762 - val_accuracy: 0.8899 - 8s/epoch - 46ms/step\n",
      "Epoch 35/64\n",
      "184/184 - 8s - loss: 0.4267 - accuracy: 0.9208 - val_loss: 0.8560 - val_accuracy: 0.8232 - 8s/epoch - 46ms/step\n",
      "Epoch 36/64\n",
      "184/184 - 8s - loss: 0.2163 - accuracy: 0.9451 - val_loss: 0.4500 - val_accuracy: 0.8946 - 8s/epoch - 46ms/step\n",
      "Epoch 37/64\n",
      "184/184 - 8s - loss: 0.1945 - accuracy: 0.9546 - val_loss: 0.4526 - val_accuracy: 0.8912 - 8s/epoch - 46ms/step\n",
      "Epoch 38/64\n",
      "184/184 - 8s - loss: 0.2073 - accuracy: 0.9507 - val_loss: 0.4640 - val_accuracy: 0.9116 - 8s/epoch - 46ms/step\n",
      "Epoch 39/64\n",
      "184/184 - 9s - loss: 0.1697 - accuracy: 0.9617 - val_loss: 0.6133 - val_accuracy: 0.8688 - 9s/epoch - 46ms/step\n",
      "Epoch 40/64\n",
      "184/184 - 8s - loss: 0.2353 - accuracy: 0.9383 - val_loss: 0.6997 - val_accuracy: 0.8402 - 8s/epoch - 46ms/step\n",
      "Epoch 41/64\n",
      "184/184 - 8s - loss: 0.1684 - accuracy: 0.9624 - val_loss: 0.6174 - val_accuracy: 0.8892 - 8s/epoch - 46ms/step\n",
      "Epoch 42/64\n",
      "184/184 - 9s - loss: 0.1670 - accuracy: 0.9560 - val_loss: 0.5544 - val_accuracy: 0.8722 - 9s/epoch - 46ms/step\n",
      "Epoch 43/64\n",
      "184/184 - 9s - loss: 0.1286 - accuracy: 0.9638 - val_loss: 0.6071 - val_accuracy: 0.8477 - 9s/epoch - 46ms/step\n",
      "Epoch 44/64\n",
      "184/184 - 8s - loss: 0.1076 - accuracy: 0.9713 - val_loss: 0.6032 - val_accuracy: 0.9021 - 8s/epoch - 46ms/step\n",
      "Epoch 45/64\n",
      "184/184 - 8s - loss: 0.1741 - accuracy: 0.9475 - val_loss: 0.6822 - val_accuracy: 0.8613 - 8s/epoch - 46ms/step\n",
      "Epoch 46/64\n",
      "184/184 - 8s - loss: 0.1246 - accuracy: 0.9663 - val_loss: 0.6395 - val_accuracy: 0.8266 - 8s/epoch - 46ms/step\n",
      "Epoch 47/64\n",
      "184/184 - 9s - loss: 0.1118 - accuracy: 0.9679 - val_loss: 0.5598 - val_accuracy: 0.8933 - 9s/epoch - 47ms/step\n",
      "Epoch 48/64\n",
      "184/184 - 9s - loss: 0.1138 - accuracy: 0.9709 - val_loss: 0.4658 - val_accuracy: 0.8763 - 9s/epoch - 47ms/step\n",
      "Epoch 49/64\n",
      "184/184 - 8s - loss: 0.1253 - accuracy: 0.9677 - val_loss: 0.5837 - val_accuracy: 0.9177 - 8s/epoch - 46ms/step\n",
      "Epoch 50/64\n",
      "184/184 - 9s - loss: 0.1649 - accuracy: 0.9554 - val_loss: 0.5821 - val_accuracy: 0.8831 - 9s/epoch - 47ms/step\n",
      "Epoch 51/64\n",
      "184/184 - 9s - loss: 0.1566 - accuracy: 0.9585 - val_loss: 0.4074 - val_accuracy: 0.8538 - 9s/epoch - 46ms/step\n",
      "Epoch 52/64\n",
      "184/184 - 9s - loss: 0.1262 - accuracy: 0.9723 - val_loss: 0.4781 - val_accuracy: 0.8878 - 9s/epoch - 47ms/step\n",
      "Epoch 53/64\n",
      "184/184 - 8s - loss: 0.1237 - accuracy: 0.9658 - val_loss: 0.5758 - val_accuracy: 0.8511 - 8s/epoch - 46ms/step\n",
      "Epoch 54/64\n",
      "184/184 - 9s - loss: 0.1387 - accuracy: 0.9668 - val_loss: 0.8538 - val_accuracy: 0.8219 - 9s/epoch - 46ms/step\n",
      "Epoch 55/64\n",
      "184/184 - 9s - loss: 0.5586 - accuracy: 0.8912 - val_loss: 0.6410 - val_accuracy: 0.8192 - 9s/epoch - 47ms/step\n",
      "Epoch 56/64\n",
      "184/184 - 9s - loss: 0.3533 - accuracy: 0.9078 - val_loss: 0.3725 - val_accuracy: 0.9062 - 9s/epoch - 50ms/step\n",
      "Epoch 57/64\n",
      "184/184 - 9s - loss: 0.1675 - accuracy: 0.9641 - val_loss: 0.3264 - val_accuracy: 0.9266 - 9s/epoch - 49ms/step\n",
      "Epoch 58/64\n",
      "184/184 - 10s - loss: 0.1393 - accuracy: 0.9657 - val_loss: 0.3664 - val_accuracy: 0.9075 - 10s/epoch - 55ms/step\n"
     ]
    },
    {
     "name": "stdout",
     "output_type": "stream",
     "text": [
      "Epoch 59/64\n",
      "184/184 - 9s - loss: 0.1167 - accuracy: 0.9679 - val_loss: 0.3445 - val_accuracy: 0.9327 - 9s/epoch - 46ms/step\n",
      "Epoch 60/64\n",
      "184/184 - 9s - loss: 0.1184 - accuracy: 0.9634 - val_loss: 0.4547 - val_accuracy: 0.9184 - 9s/epoch - 48ms/step\n",
      "Epoch 61/64\n",
      "184/184 - 8s - loss: 0.1405 - accuracy: 0.9599 - val_loss: 0.5745 - val_accuracy: 0.8756 - 8s/epoch - 46ms/step\n",
      "Epoch 62/64\n",
      "184/184 - 8s - loss: 0.1272 - accuracy: 0.9631 - val_loss: 0.4345 - val_accuracy: 0.9354 - 8s/epoch - 46ms/step\n",
      "Epoch 63/64\n",
      "184/184 - 8s - loss: 0.1250 - accuracy: 0.9674 - val_loss: 0.3315 - val_accuracy: 0.9368 - 8s/epoch - 46ms/step\n",
      "Epoch 64/64\n",
      "184/184 - 8s - loss: 0.1055 - accuracy: 0.9687 - val_loss: 0.4846 - val_accuracy: 0.9279 - 8s/epoch - 45ms/step\n"
     ]
    }
   ],
   "source": [
    "model = create_model()\n",
    "\n",
    "model.compile(optimizer='adam', loss = 'categorical_crossentropy', metrics=['accuracy'])\n",
    "\n",
    "EPOCHS = 64\n",
    "BATCH_SIZE = 32\n",
    "\n",
    "history = model.fit(\n",
    "    X_train, y_train, \n",
    "    batch_size=BATCH_SIZE, \n",
    "    epochs=EPOCHS,\n",
    "    validation_split = 0.2,\n",
    "    shuffle=False,\n",
    "    verbose=2\n",
    ")"
   ]
  },
  {
   "cell_type": "markdown",
   "metadata": {},
   "source": [
    "Plot the accuracies and model losses obtained over training"
   ]
  },
  {
   "cell_type": "code",
   "execution_count": 29,
   "metadata": {},
   "outputs": [
    {
     "data": {
      "image/png": "[encoded data removed]",
      "text/plain": [
       "<Figure size 432x288 with 1 Axes>"
      ]
     },
     "metadata": {
      "needs_background": "light"
     },
     "output_type": "display_data"
    },
    {
     "data": {
      "image/png": "[encoded data removed]",
      "text/plain": [
       "<Figure size 432x288 with 1 Axes>"
      ]
     },
     "metadata": {
      "needs_background": "light"
     },
     "output_type": "display_data"
    }
   ],
   "source": [
    "plot_learningCurve(history, EPOCHS)"
   ]
  },
  {
   "cell_type": "code",
   "execution_count": 30,
   "metadata": {},
   "outputs": [
    {
     "name": "stdout",
     "output_type": "stream",
     "text": [
      "Evaluate on test data\n",
      "93/93 [==============================] - 1s 14ms/step - loss: 0.9954 - accuracy: 0.8714\n",
      "test loss, test acc: [0.9953835010528564, 0.8713946342468262]\n",
      "93/93 [==============================] - 2s 14ms/step\n"
     ]
    },
    {
     "data": {
      "text/plain": [
       "<AxesSubplot:>"
      ]
     },
     "execution_count": 30,
     "metadata": {},
     "output_type": "execute_result"
    },
    {
     "data": {
      "image/png": "[encoded data removed]",
      "text/plain": [
       "<Figure size 432x288 with 2 Axes>"
      ]
     },
     "metadata": {
      "needs_background": "light"
     },
     "output_type": "display_data"
    }
   ],
   "source": [
    "# Evaluate the model on the test data using `evaluate`\n",
    "print(\"Evaluate on test data\")\n",
    "results = model.evaluate(X_test, y_test)\n",
    "print(\"test loss, test acc:\", results)\n",
    "\n",
    "y_pred = model.predict(X_test)\n",
    "y_pred = np.argmax(y_pred, axis=1)\n",
    "y_test_vec = np.argmax(y_test, axis=1)\n",
    "\n",
    "cf_matrix = confusion_matrix(y_test_vec, y_pred)\n",
    "sns.heatmap(cf_matrix, annot=True)"
   ]
  },
  {
   "cell_type": "markdown",
   "metadata": {},
   "source": [
    "### Exercise: Alter the model\n",
    "- First, change the number of nodes in the first layer to be size 64. Then add in a new LSTM layer between the batch normalisation and dense layers. This layer should have 32 nodes. Perform Batch Normalisation after this layer as well. **Note**, in the first LSTM layer, you will need to set `return_sequences=True` so that the so that the second LSTM layer has a three-dimensional sequence input\n",
    "- Observe how this alters the performance of the system.\n",
    "- Then add this layer `model.add(Dropout(0.5))` in directly after both batch normalisation layers. What is the purpose of doing this? \n",
    "- Alter the code to run Gated Reccurent Units (GRUs) instead of LSTMs. Observe how this alters the performance of the system."
   ]
  },
  {
   "cell_type": "code",
   "execution_count": 50,
   "metadata": {},
   "outputs": [],
   "source": [
    "def create_stacked_LSTM():\n",
    "    model = Sequential()\n",
    "    model.add(InputLayer(input_shape=(n_timesteps,n_features)))\n",
    "    model.add(normalizer)\n",
    "    model.add(LSTM(64, return_sequences=True))\n",
    "    model.add(BatchNormalization())\n",
    "    model.add(LSTM(32, return_sequences=False))\n",
    "    model.add(BatchNormalization())\n",
    "    model.add(Dense(n_outputs, activation='softmax'))\n",
    "    \n",
    "    print(model.summary())\n",
    "    return model\n",
    "\n",
    "def regularised_model():\n",
    "    model = Sequential()\n",
    "    model.add(InputLayer(input_shape=(n_timesteps, n_features)))\n",
    "    model.add(normalizer)\n",
    "    model.add(LSTM(64, return_sequences=True))\n",
    "    model.add(BatchNormalization())\n",
    "    model.add(Dropout(0.5))\n",
    "    model.add(LSTM(32, return_sequences=False))\n",
    "    model.add(BatchNormalization())\n",
    "    model.add(Dropout(0.3))\n",
    "    model.add(Dense(n_outputs,activation='softmax'))\n",
    "    \n",
    "    print(model.summary())\n",
    "    return model"
   ]
  },
  {
   "cell_type": "code",
   "execution_count": 37,
   "metadata": {},
   "outputs": [
    {
     "name": "stdout",
     "output_type": "stream",
     "text": [
      "Model: \"sequential_5\"\n",
      "_________________________________________________________________\n",
      " Layer (type)                Output Shape              Param #   \n",
      "=================================================================\n",
      " normalization (Normalizatio  (None, 128, 9)           19        \n",
      " n)                                                              \n",
      "                                                                 \n",
      " lstm_6 (LSTM)               (None, 128, 64)           18944     \n",
      "                                                                 \n",
      " batch_normalization_7 (Batc  (None, 128, 64)          256       \n",
      " hNormalization)                                                 \n",
      "                                                                 \n",
      " lstm_7 (LSTM)               (None, 32)                12416     \n",
      "                                                                 \n",
      " batch_normalization_8 (Batc  (None, 32)               128       \n",
      " hNormalization)                                                 \n",
      "                                                                 \n",
      " dense_5 (Dense)             (None, 6)                 198       \n",
      "                                                                 \n",
      "=================================================================\n",
      "Total params: 31,961\n",
      "Trainable params: 31,750\n",
      "Non-trainable params: 211\n",
      "_________________________________________________________________\n",
      "None\n",
      "Epoch 1/64\n",
      "184/184 - 19s - loss: 1.2900 - accuracy: 0.5754 - val_loss: 1.0137 - val_accuracy: 0.7335 - 19s/epoch - 101ms/step\n",
      "Epoch 2/64\n",
      "184/184 - 15s - loss: 0.8731 - accuracy: 0.7453 - val_loss: 0.7242 - val_accuracy: 0.7757 - 15s/epoch - 84ms/step\n",
      "Epoch 3/64\n",
      "184/184 - 15s - loss: 0.7661 - accuracy: 0.8007 - val_loss: 0.5482 - val_accuracy: 0.8457 - 15s/epoch - 81ms/step\n",
      "Epoch 4/64\n",
      "184/184 - 15s - loss: 0.7050 - accuracy: 0.8169 - val_loss: 0.6140 - val_accuracy: 0.8212 - 15s/epoch - 82ms/step\n",
      "Epoch 5/64\n",
      "184/184 - 15s - loss: 0.5781 - accuracy: 0.8616 - val_loss: 0.3878 - val_accuracy: 0.9028 - 15s/epoch - 84ms/step\n",
      "Epoch 6/64\n",
      "184/184 - 15s - loss: 0.4978 - accuracy: 0.8878 - val_loss: 0.4902 - val_accuracy: 0.8511 - 15s/epoch - 83ms/step\n",
      "Epoch 7/64\n",
      "184/184 - 15s - loss: 0.4205 - accuracy: 0.9135 - val_loss: 0.4659 - val_accuracy: 0.9021 - 15s/epoch - 84ms/step\n",
      "Epoch 8/64\n",
      "184/184 - 16s - loss: 0.3981 - accuracy: 0.9104 - val_loss: 0.5482 - val_accuracy: 0.8171 - 16s/epoch - 86ms/step\n",
      "Epoch 9/64\n",
      "184/184 - 15s - loss: 0.3884 - accuracy: 0.9209 - val_loss: 0.3542 - val_accuracy: 0.8973 - 15s/epoch - 83ms/step\n",
      "Epoch 10/64\n",
      "184/184 - 15s - loss: 0.3181 - accuracy: 0.9325 - val_loss: 0.3747 - val_accuracy: 0.8396 - 15s/epoch - 82ms/step\n",
      "Epoch 11/64\n",
      "184/184 - 15s - loss: 0.3192 - accuracy: 0.9359 - val_loss: 0.6370 - val_accuracy: 0.8368 - 15s/epoch - 82ms/step\n",
      "Epoch 12/64\n",
      "184/184 - 16s - loss: 0.2927 - accuracy: 0.9367 - val_loss: 0.4730 - val_accuracy: 0.8389 - 16s/epoch - 87ms/step\n",
      "Epoch 13/64\n",
      "184/184 - 18s - loss: 0.2705 - accuracy: 0.9401 - val_loss: 0.3934 - val_accuracy: 0.8239 - 18s/epoch - 97ms/step\n",
      "Epoch 14/64\n",
      "184/184 - 17s - loss: 0.2129 - accuracy: 0.9580 - val_loss: 0.3676 - val_accuracy: 0.8566 - 17s/epoch - 90ms/step\n",
      "Epoch 15/64\n",
      "184/184 - 15s - loss: 0.2147 - accuracy: 0.9536 - val_loss: 0.4391 - val_accuracy: 0.8416 - 15s/epoch - 82ms/step\n",
      "Epoch 16/64\n",
      "184/184 - 16s - loss: 0.1815 - accuracy: 0.9657 - val_loss: 0.5819 - val_accuracy: 0.7940 - 16s/epoch - 84ms/step\n",
      "Epoch 17/64\n",
      "184/184 - 16s - loss: 0.2292 - accuracy: 0.9468 - val_loss: 0.8325 - val_accuracy: 0.7505 - 16s/epoch - 84ms/step\n",
      "Epoch 18/64\n",
      "184/184 - 16s - loss: 0.2757 - accuracy: 0.9349 - val_loss: 0.6592 - val_accuracy: 0.7784 - 16s/epoch - 86ms/step\n",
      "Epoch 19/64\n",
      "184/184 - 16s - loss: 0.2482 - accuracy: 0.9446 - val_loss: 0.3287 - val_accuracy: 0.8328 - 16s/epoch - 89ms/step\n",
      "Epoch 20/64\n",
      "184/184 - 16s - loss: 0.2228 - accuracy: 0.9522 - val_loss: 0.4495 - val_accuracy: 0.8470 - 16s/epoch - 86ms/step\n",
      "Epoch 21/64\n",
      "184/184 - 16s - loss: 0.1699 - accuracy: 0.9514 - val_loss: 0.2887 - val_accuracy: 0.8640 - 16s/epoch - 88ms/step\n",
      "Epoch 22/64\n",
      "184/184 - 16s - loss: 0.1563 - accuracy: 0.9612 - val_loss: 0.4039 - val_accuracy: 0.8586 - 16s/epoch - 86ms/step\n",
      "Epoch 23/64\n",
      "184/184 - 17s - loss: 0.1356 - accuracy: 0.9667 - val_loss: 0.4283 - val_accuracy: 0.8443 - 17s/epoch - 92ms/step\n",
      "Epoch 24/64\n",
      "184/184 - 16s - loss: 0.1408 - accuracy: 0.9628 - val_loss: 0.7396 - val_accuracy: 0.7988 - 16s/epoch - 86ms/step\n",
      "Epoch 25/64\n",
      "184/184 - 16s - loss: 0.2753 - accuracy: 0.9347 - val_loss: 0.3853 - val_accuracy: 0.8151 - 16s/epoch - 85ms/step\n",
      "Epoch 26/64\n",
      "184/184 - 16s - loss: 0.3035 - accuracy: 0.9340 - val_loss: 0.5723 - val_accuracy: 0.7546 - 16s/epoch - 85ms/step\n",
      "Epoch 27/64\n",
      "184/184 - 16s - loss: 0.2106 - accuracy: 0.9509 - val_loss: 0.4337 - val_accuracy: 0.7981 - 16s/epoch - 84ms/step\n",
      "Epoch 28/64\n",
      "184/184 - 16s - loss: 0.1669 - accuracy: 0.9553 - val_loss: 0.3441 - val_accuracy: 0.8742 - 16s/epoch - 86ms/step\n",
      "Epoch 29/64\n",
      "184/184 - 16s - loss: 0.1811 - accuracy: 0.9505 - val_loss: 0.3667 - val_accuracy: 0.9103 - 16s/epoch - 84ms/step\n",
      "Epoch 30/64\n",
      "184/184 - 16s - loss: 0.1781 - accuracy: 0.9534 - val_loss: 0.6401 - val_accuracy: 0.8063 - 16s/epoch - 86ms/step\n",
      "Epoch 31/64\n",
      "184/184 - 16s - loss: 0.1563 - accuracy: 0.9568 - val_loss: 0.4386 - val_accuracy: 0.8702 - 16s/epoch - 86ms/step\n",
      "Epoch 32/64\n",
      "184/184 - 16s - loss: 0.1431 - accuracy: 0.9619 - val_loss: 0.4156 - val_accuracy: 0.8348 - 16s/epoch - 85ms/step\n",
      "Epoch 33/64\n",
      "184/184 - 16s - loss: 0.1274 - accuracy: 0.9633 - val_loss: 0.4512 - val_accuracy: 0.8382 - 16s/epoch - 86ms/step\n",
      "Epoch 34/64\n",
      "184/184 - 16s - loss: 0.1296 - accuracy: 0.9628 - val_loss: 0.5109 - val_accuracy: 0.8178 - 16s/epoch - 86ms/step\n",
      "Epoch 35/64\n",
      "184/184 - 16s - loss: 0.1327 - accuracy: 0.9667 - val_loss: 0.4510 - val_accuracy: 0.8029 - 16s/epoch - 85ms/step\n",
      "Epoch 36/64\n",
      "184/184 - 16s - loss: 0.1256 - accuracy: 0.9612 - val_loss: 0.7776 - val_accuracy: 0.7954 - 16s/epoch - 85ms/step\n",
      "Epoch 37/64\n",
      "184/184 - 15s - loss: 0.1462 - accuracy: 0.9650 - val_loss: 0.4133 - val_accuracy: 0.8144 - 15s/epoch - 84ms/step\n",
      "Epoch 38/64\n",
      "184/184 - 15s - loss: 0.2115 - accuracy: 0.9395 - val_loss: 0.5345 - val_accuracy: 0.7498 - 15s/epoch - 84ms/step\n",
      "Epoch 39/64\n",
      "184/184 - 15s - loss: 0.1786 - accuracy: 0.9548 - val_loss: 0.4306 - val_accuracy: 0.9055 - 15s/epoch - 83ms/step\n",
      "Epoch 40/64\n",
      "184/184 - 15s - loss: 0.3041 - accuracy: 0.9049 - val_loss: 1.2961 - val_accuracy: 0.7695 - 15s/epoch - 84ms/step\n",
      "Epoch 41/64\n",
      "184/184 - 16s - loss: 0.2499 - accuracy: 0.9305 - val_loss: 0.6739 - val_accuracy: 0.8498 - 16s/epoch - 87ms/step\n",
      "Epoch 42/64\n",
      "184/184 - 16s - loss: 0.2427 - accuracy: 0.9352 - val_loss: 0.9391 - val_accuracy: 0.8232 - 16s/epoch - 87ms/step\n",
      "Epoch 43/64\n",
      "184/184 - 16s - loss: 0.1537 - accuracy: 0.9640 - val_loss: 0.5895 - val_accuracy: 0.8946 - 16s/epoch - 86ms/step\n",
      "Epoch 44/64\n",
      "184/184 - 16s - loss: 0.1269 - accuracy: 0.9696 - val_loss: 0.6930 - val_accuracy: 0.8504 - 16s/epoch - 85ms/step\n",
      "Epoch 45/64\n",
      "184/184 - 16s - loss: 0.1552 - accuracy: 0.9600 - val_loss: 0.5020 - val_accuracy: 0.9069 - 16s/epoch - 85ms/step\n",
      "Epoch 46/64\n",
      "184/184 - 16s - loss: 0.1292 - accuracy: 0.9687 - val_loss: 0.5141 - val_accuracy: 0.8885 - 16s/epoch - 86ms/step\n",
      "Epoch 47/64\n",
      "184/184 - 16s - loss: 0.1791 - accuracy: 0.9544 - val_loss: 0.7838 - val_accuracy: 0.8715 - 16s/epoch - 85ms/step\n",
      "Epoch 48/64\n",
      "184/184 - 16s - loss: 0.1288 - accuracy: 0.9631 - val_loss: 0.7705 - val_accuracy: 0.8926 - 16s/epoch - 89ms/step\n",
      "Epoch 49/64\n",
      "184/184 - 16s - loss: 0.1062 - accuracy: 0.9697 - val_loss: 0.7145 - val_accuracy: 0.8681 - 16s/epoch - 85ms/step\n",
      "Epoch 50/64\n",
      "184/184 - 16s - loss: 0.0939 - accuracy: 0.9701 - val_loss: 0.6333 - val_accuracy: 0.8702 - 16s/epoch - 84ms/step\n",
      "Epoch 51/64\n",
      "184/184 - 16s - loss: 0.0896 - accuracy: 0.9728 - val_loss: 0.7198 - val_accuracy: 0.8804 - 16s/epoch - 85ms/step\n",
      "Epoch 52/64\n",
      "184/184 - 15s - loss: 0.0827 - accuracy: 0.9738 - val_loss: 0.6761 - val_accuracy: 0.8844 - 15s/epoch - 83ms/step\n",
      "Epoch 53/64\n",
      "184/184 - 16s - loss: 0.0779 - accuracy: 0.9740 - val_loss: 0.6484 - val_accuracy: 0.8906 - 16s/epoch - 87ms/step\n",
      "Epoch 54/64\n",
      "184/184 - 15s - loss: 0.0733 - accuracy: 0.9740 - val_loss: 0.6541 - val_accuracy: 0.8878 - 15s/epoch - 84ms/step\n"
     ]
    },
    {
     "name": "stdout",
     "output_type": "stream",
     "text": [
      "Epoch 55/64\n",
      "184/184 - 15s - loss: 0.0715 - accuracy: 0.9762 - val_loss: 0.7653 - val_accuracy: 0.8838 - 15s/epoch - 83ms/step\n",
      "Epoch 56/64\n",
      "184/184 - 15s - loss: 0.0897 - accuracy: 0.9696 - val_loss: 0.7885 - val_accuracy: 0.8389 - 15s/epoch - 82ms/step\n",
      "Epoch 57/64\n",
      "184/184 - 16s - loss: 0.1562 - accuracy: 0.9549 - val_loss: 0.5238 - val_accuracy: 0.8763 - 16s/epoch - 85ms/step\n",
      "Epoch 58/64\n",
      "184/184 - 15s - loss: 0.1137 - accuracy: 0.9687 - val_loss: 0.5086 - val_accuracy: 0.8708 - 15s/epoch - 84ms/step\n",
      "Epoch 59/64\n",
      "184/184 - 15s - loss: 0.1515 - accuracy: 0.9566 - val_loss: 0.5869 - val_accuracy: 0.8688 - 15s/epoch - 83ms/step\n",
      "Epoch 60/64\n",
      "184/184 - 16s - loss: 0.1032 - accuracy: 0.9668 - val_loss: 0.7771 - val_accuracy: 0.8185 - 16s/epoch - 84ms/step\n",
      "Epoch 61/64\n",
      "184/184 - 16s - loss: 0.0915 - accuracy: 0.9716 - val_loss: 0.8012 - val_accuracy: 0.7893 - 16s/epoch - 85ms/step\n",
      "Epoch 62/64\n",
      "184/184 - 16s - loss: 0.0784 - accuracy: 0.9743 - val_loss: 0.8547 - val_accuracy: 0.8069 - 16s/epoch - 87ms/step\n",
      "Epoch 63/64\n",
      "184/184 - 16s - loss: 0.0802 - accuracy: 0.9736 - val_loss: 0.7909 - val_accuracy: 0.8171 - 16s/epoch - 87ms/step\n",
      "Epoch 64/64\n",
      "184/184 - 16s - loss: 0.0742 - accuracy: 0.9750 - val_loss: 0.8110 - val_accuracy: 0.8613 - 16s/epoch - 86ms/step\n"
     ]
    }
   ],
   "source": [
    "complex_model = create_stacked_LSTM()\n",
    "\n",
    "complex_model.compile(optimizer='adam', loss = 'categorical_crossentropy', metrics=['accuracy'])\n",
    "\n",
    "EPOCHS = 64\n",
    "BATCH_SIZE = 32\n",
    "\n",
    "history = complex_model.fit(\n",
    "    X_train, y_train, \n",
    "    batch_size=BATCH_SIZE, \n",
    "    epochs=EPOCHS,\n",
    "    validation_split = 0.2,\n",
    "    shuffle=False,\n",
    "    verbose=2\n",
    ")"
   ]
  },
  {
   "cell_type": "code",
   "execution_count": 40,
   "metadata": {},
   "outputs": [
    {
     "name": "stdout",
     "output_type": "stream",
     "text": [
      "Evaluate on test data\n",
      "93/93 [==============================] - 2s 22ms/step - loss: 1.1298 - accuracy: 0.7950\n",
      "test loss, test acc: [1.1298075914382935, 0.795045793056488]\n",
      "93/93 [==============================] - 3s 22ms/step\n"
     ]
    },
    {
     "data": {
      "text/plain": [
       "<AxesSubplot:>"
      ]
     },
     "execution_count": 40,
     "metadata": {},
     "output_type": "execute_result"
    },
    {
     "data": {
      "image/png": "[encoded data removed]",
      "text/plain": [
       "<Figure size 432x288 with 2 Axes>"
      ]
     },
     "metadata": {
      "needs_background": "light"
     },
     "output_type": "display_data"
    }
   ],
   "source": [
    "print(\"Evaluate on test data\")\n",
    "results = complex_model.evaluate(X_test, y_test)\n",
    "print(\"test loss, test acc:\", results)\n",
    "\n",
    "y_pred = complex_model.predict(X_test)\n",
    "y_pred = np.argmax(y_pred, axis=1)\n",
    "y_test_vec = np.argmax(y_test, axis=1)\n",
    "\n",
    "cf_matrix = confusion_matrix(y_test_vec, y_pred)\n",
    "sns.heatmap(cf_matrix, annot=True)"
   ]
  },
  {
   "cell_type": "markdown",
   "metadata": {},
   "source": [
    "<hr style=\"border:1px solid black\"> </hr>"
   ]
  },
  {
   "cell_type": "markdown",
   "metadata": {},
   "source": [
    "### Exercise: Early Stopping"
   ]
  },
  {
   "cell_type": "markdown",
   "metadata": {},
   "source": [
    "Implement an __[early stopping](https://keras.io/api/callbacks/early_stopping/)__ strategy for the validation loss on both networks. \n",
    "\n",
    "**Note** the default `patience` value is 0. This means training is terminated as soon as the performance measure gets worse from one epoch to the next. This may not be the ideal value. \n",
    "\n",
    "**Note** don't run the `plot_learningCurve(history, EPOCHS)` function with early stopping, it will error."
   ]
  },
  {
   "cell_type": "code",
   "execution_count": 38,
   "metadata": {},
   "outputs": [],
   "source": [
    "from keras.callbacks import EarlyStopping\n"
   ]
  },
  {
   "cell_type": "code",
   "execution_count": 51,
   "metadata": {},
   "outputs": [
    {
     "name": "stdout",
     "output_type": "stream",
     "text": [
      "Model: \"sequential_11\"\n",
      "_________________________________________________________________\n",
      " Layer (type)                Output Shape              Param #   \n",
      "=================================================================\n",
      " normalization (Normalizatio  (None, 128, 9)           19        \n",
      " n)                                                              \n",
      "                                                                 \n",
      " lstm_18 (LSTM)              (None, 128, 64)           18944     \n",
      "                                                                 \n",
      " batch_normalization_19 (Bat  (None, 128, 64)          256       \n",
      " chNormalization)                                                \n",
      "                                                                 \n",
      " dropout_10 (Dropout)        (None, 128, 64)           0         \n",
      "                                                                 \n",
      " lstm_19 (LSTM)              (None, 32)                12416     \n",
      "                                                                 \n",
      " batch_normalization_20 (Bat  (None, 32)               128       \n",
      " chNormalization)                                                \n",
      "                                                                 \n",
      " dropout_11 (Dropout)        (None, 32)                0         \n",
      "                                                                 \n",
      " dense_10 (Dense)            (None, 6)                 198       \n",
      "                                                                 \n",
      "=================================================================\n",
      "Total params: 31,961\n",
      "Trainable params: 31,750\n",
      "Non-trainable params: 211\n",
      "_________________________________________________________________\n",
      "None\n",
      "Epoch 1/64\n",
      "184/184 - 19s - loss: 1.6167 - accuracy: 0.4360 - val_loss: 1.0241 - val_accuracy: 0.7104 - 19s/epoch - 103ms/step\n",
      "Epoch 2/64\n",
      "184/184 - 15s - loss: 1.1221 - accuracy: 0.6363 - val_loss: 0.7784 - val_accuracy: 0.5962 - 15s/epoch - 84ms/step\n",
      "Epoch 3/64\n",
      "184/184 - 16s - loss: 0.9188 - accuracy: 0.7165 - val_loss: 0.6236 - val_accuracy: 0.8538 - 16s/epoch - 84ms/step\n",
      "Epoch 4/64\n",
      "184/184 - 15s - loss: 0.7830 - accuracy: 0.7725 - val_loss: 0.7289 - val_accuracy: 0.8008 - 15s/epoch - 84ms/step\n",
      "Epoch 5/64\n",
      "184/184 - 15s - loss: 0.7043 - accuracy: 0.8090 - val_loss: 0.5771 - val_accuracy: 0.8525 - 15s/epoch - 83ms/step\n",
      "Epoch 6/64\n",
      "184/184 - 15s - loss: 0.6819 - accuracy: 0.8289 - val_loss: 0.7119 - val_accuracy: 0.8566 - 15s/epoch - 82ms/step\n",
      "Epoch 7/64\n",
      "184/184 - 15s - loss: 0.7754 - accuracy: 0.7800 - val_loss: 0.5487 - val_accuracy: 0.7845 - 15s/epoch - 84ms/step\n",
      "Epoch 8/64\n",
      "184/184 - 15s - loss: 0.6681 - accuracy: 0.8206 - val_loss: 0.6274 - val_accuracy: 0.7362 - 15s/epoch - 84ms/step\n",
      "Epoch 9/64\n",
      "184/184 - 15s - loss: 0.5382 - accuracy: 0.8653 - val_loss: 0.6204 - val_accuracy: 0.8008 - 15s/epoch - 83ms/step\n",
      "Epoch 10/64\n",
      "184/184 - 17s - loss: 0.5182 - accuracy: 0.8760 - val_loss: 0.4950 - val_accuracy: 0.8545 - 17s/epoch - 94ms/step\n",
      "Epoch 11/64\n",
      "184/184 - 17s - loss: 0.5025 - accuracy: 0.8862 - val_loss: 0.7567 - val_accuracy: 0.6893 - 17s/epoch - 90ms/step\n",
      "Epoch 12/64\n",
      "184/184 - 18s - loss: 0.6020 - accuracy: 0.8563 - val_loss: 0.7223 - val_accuracy: 0.8165 - 18s/epoch - 96ms/step\n",
      "Epoch 13/64\n",
      "184/184 - 17s - loss: 0.4725 - accuracy: 0.8947 - val_loss: 0.5467 - val_accuracy: 0.8063 - 17s/epoch - 91ms/step\n",
      "Epoch 14/64\n",
      "184/184 - 17s - loss: 0.4200 - accuracy: 0.9162 - val_loss: 0.5071 - val_accuracy: 0.8097 - 17s/epoch - 91ms/step\n",
      "Epoch 15/64\n",
      "184/184 - 16s - loss: 0.4944 - accuracy: 0.8905 - val_loss: 0.6436 - val_accuracy: 0.8035 - 16s/epoch - 87ms/step\n",
      "Epoch 16/64\n",
      "184/184 - 16s - loss: 0.4214 - accuracy: 0.9056 - val_loss: 0.7549 - val_accuracy: 0.8076 - 16s/epoch - 87ms/step\n",
      "Epoch 17/64\n",
      "184/184 - 18s - loss: 0.3795 - accuracy: 0.9218 - val_loss: 0.7977 - val_accuracy: 0.8063 - 18s/epoch - 96ms/step\n",
      "Epoch 18/64\n",
      "184/184 - 16s - loss: 0.5762 - accuracy: 0.8691 - val_loss: 0.7045 - val_accuracy: 0.7865 - 16s/epoch - 89ms/step\n",
      "Epoch 19/64\n",
      "184/184 - 16s - loss: 0.4124 - accuracy: 0.9087 - val_loss: 0.4054 - val_accuracy: 0.8919 - 16s/epoch - 88ms/step\n",
      "Epoch 20/64\n",
      "184/184 - 17s - loss: 0.5119 - accuracy: 0.8924 - val_loss: 0.2944 - val_accuracy: 0.8464 - 17s/epoch - 92ms/step\n",
      "Epoch 21/64\n",
      "184/184 - 16s - loss: 0.5013 - accuracy: 0.8783 - val_loss: 0.2491 - val_accuracy: 0.9361 - 16s/epoch - 86ms/step\n",
      "Epoch 22/64\n",
      "184/184 - 16s - loss: 0.3952 - accuracy: 0.9039 - val_loss: 0.4299 - val_accuracy: 0.8430 - 16s/epoch - 88ms/step\n",
      "Epoch 23/64\n",
      "184/184 - 16s - loss: 0.3529 - accuracy: 0.9196 - val_loss: 0.3327 - val_accuracy: 0.9055 - 16s/epoch - 85ms/step\n",
      "Epoch 24/64\n",
      "184/184 - 17s - loss: 0.3236 - accuracy: 0.9327 - val_loss: 0.4303 - val_accuracy: 0.8953 - 17s/epoch - 93ms/step\n",
      "Epoch 25/64\n",
      "184/184 - 15s - loss: 0.2993 - accuracy: 0.9366 - val_loss: 0.5884 - val_accuracy: 0.8464 - 15s/epoch - 84ms/step\n",
      "Epoch 26/64\n",
      "184/184 - 15s - loss: 0.3114 - accuracy: 0.9339 - val_loss: 0.3591 - val_accuracy: 0.8436 - 15s/epoch - 83ms/step\n",
      "Epoch 27/64\n",
      "184/184 - 15s - loss: 0.3035 - accuracy: 0.9311 - val_loss: 0.5052 - val_accuracy: 0.8511 - 15s/epoch - 83ms/step\n",
      "Epoch 28/64\n",
      "184/184 - 15s - loss: 0.3377 - accuracy: 0.9332 - val_loss: 0.6960 - val_accuracy: 0.8423 - 15s/epoch - 83ms/step\n",
      "Epoch 29/64\n",
      "184/184 - 16s - loss: 0.3096 - accuracy: 0.9359 - val_loss: 0.8852 - val_accuracy: 0.8015 - 16s/epoch - 85ms/step\n",
      "Epoch 30/64\n",
      "184/184 - 15s - loss: 0.3272 - accuracy: 0.9313 - val_loss: 0.5076 - val_accuracy: 0.8137 - 15s/epoch - 83ms/step\n",
      "Epoch 31/64\n",
      "184/184 - 16s - loss: 0.3308 - accuracy: 0.9262 - val_loss: 0.3354 - val_accuracy: 0.8368 - 16s/epoch - 85ms/step\n",
      "Epoch 32/64\n",
      "184/184 - 15s - loss: 0.3194 - accuracy: 0.9335 - val_loss: 0.6608 - val_accuracy: 0.8124 - 15s/epoch - 84ms/step\n",
      "Epoch 33/64\n",
      "184/184 - 16s - loss: 0.3047 - accuracy: 0.9442 - val_loss: 1.0030 - val_accuracy: 0.8165 - 16s/epoch - 86ms/step\n",
      "Epoch 34/64\n",
      "184/184 - 16s - loss: 0.2706 - accuracy: 0.9396 - val_loss: 0.9395 - val_accuracy: 0.8144 - 16s/epoch - 86ms/step\n",
      "Epoch 35/64\n",
      "184/184 - 16s - loss: 0.2625 - accuracy: 0.9434 - val_loss: 1.0132 - val_accuracy: 0.8001 - 16s/epoch - 86ms/step\n",
      "Epoch 36/64\n",
      "184/184 - 16s - loss: 0.2868 - accuracy: 0.9403 - val_loss: 0.9374 - val_accuracy: 0.8069 - 16s/epoch - 85ms/step\n",
      "Epoch 37/64\n",
      "184/184 - 16s - loss: 0.2724 - accuracy: 0.9413 - val_loss: 0.3977 - val_accuracy: 0.8586 - 16s/epoch - 85ms/step\n",
      "Epoch 38/64\n",
      "184/184 - 16s - loss: 0.3691 - accuracy: 0.9143 - val_loss: 0.5706 - val_accuracy: 0.7927 - 16s/epoch - 87ms/step\n",
      "Epoch 39/64\n",
      "184/184 - 16s - loss: 0.3225 - accuracy: 0.9276 - val_loss: 0.5134 - val_accuracy: 0.8334 - 16s/epoch - 86ms/step\n",
      "Epoch 40/64\n",
      "184/184 - 15s - loss: 0.4216 - accuracy: 0.9228 - val_loss: 0.7916 - val_accuracy: 0.7981 - 15s/epoch - 84ms/step\n",
      "Epoch 41/64\n",
      "184/184 - 16s - loss: 0.3495 - accuracy: 0.9284 - val_loss: 0.3545 - val_accuracy: 0.9395 - 16s/epoch - 86ms/step\n",
      "Epoch 41: early stopping\n"
     ]
    },
    {
     "data": {
      "text/plain": [
       "<keras.callbacks.History at 0x7f479351e580>"
      ]
     },
     "execution_count": 51,
     "metadata": {},
     "output_type": "execute_result"
    }
   ],
   "source": [
    "es = EarlyStopping(monitor='val_loss', patience=20, mode='min', verbose=1)\n",
    "\n",
    "model3 = regularised_model()\n",
    "\n",
    "model3.compile(optimizer='adam', loss = 'categorical_crossentropy', metrics=['accuracy'])\n",
    "\n",
    "model3.fit(\n",
    "    X_train, y_train, \n",
    "    batch_size=BATCH_SIZE, \n",
    "    epochs=EPOCHS,\n",
    "    validation_split = 0.2,\n",
    "    shuffle=False,\n",
    "    verbose=2,\n",
    "    callbacks=[es]\n",
    ")"
   ]
  },
  {
   "cell_type": "code",
   "execution_count": null,
   "metadata": {},
   "outputs": [],
   "source": []
  }
 ],
 "metadata": {
  "kernelspec": {
   "display_name": "ai4health",
   "language": "python",
   "name": "ai4health"
  },
  "language_info": {
   "codemirror_mode": {
    "name": "ipython",
    "version": 3
   },
   "file_extension": ".py",
   "mimetype": "text/x-python",
   "name": "python",
   "nbconvert_exporter": "python",
   "pygments_lexer": "ipython3",
   "version": "3.8.10"
  },
  "varInspector": {
   "cols": {
    "lenName": 16,
    "lenType": 16,
    "lenVar": 40
   },
   "kernels_config": {
    "python": {
     "delete_cmd_postfix": "",
     "delete_cmd_prefix": "del ",
     "library": "var_list.py",
     "varRefreshCmd": "print(var_dic_list())"
    },
    "r": {
     "delete_cmd_postfix": ") ",
     "delete_cmd_prefix": "rm(",
     "library": "var_list.r",
     "varRefreshCmd": "cat(var_dic_list()) "
    }
   },
   "position": {
    "height": "144px",
    "left": "1925px",
    "right": "20px",
    "top": "120px",
    "width": "350px"
   },
   "types_to_exclude": [
    "module",
    "function",
    "builtin_function_or_method",
    "instance",
    "_Feature"
   ],
   "window_display": false
  }
 },
 "nbformat": 4,
 "nbformat_minor": 4
}
