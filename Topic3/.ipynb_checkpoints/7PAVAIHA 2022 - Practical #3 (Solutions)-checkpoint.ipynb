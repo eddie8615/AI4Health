{
 "cells": [
  {
   "cell_type": "markdown",
   "metadata": {},
   "source": [
    "# Practical 3: Introduction to Constraint Satisfaction"
   ]
  },
  {
   "cell_type": "markdown",
   "metadata": {},
   "source": [
    "The aim of this lab is to provide an overview of the main concepts of constraint satisfaction problems through a worked example"
   ]
  },
  {
   "cell_type": "markdown",
   "metadata": {},
   "source": [
    "**Problem:** A pandemic is rising. Hospitals must organize quickly to treat ill people.\n",
    "We need to design algorithm which matches infected people and hospitals together given multiple criteria such as the severity of illness, patient age and location, hospital capacity and equipment, etc."
   ]
  },
  {
   "cell_type": "markdown",
   "metadata": {},
   "source": [
    "**Questions:** What other AI methods could be used to solve this problem? What are the advantages of using Constraint Satisfaction to solve it? "
   ]
  },
  {
   "cell_type": "markdown",
   "metadata": {},
   "source": [
    "- Timeliness, other methods could be used but would require training material (machine lerning) and/or take more time to run"
   ]
  },
  {
   "cell_type": "markdown",
   "metadata": {},
   "source": [
    "<hr style=\"border:1px solid black\"> </hr>"
   ]
  },
  {
   "cell_type": "markdown",
   "metadata": {},
   "source": [
    "### OR-Tools\n",
    "\n",
    "We will use the __[OR-Tools](https://developers.google.com/optimization)__ to solve our optimisation problem\n",
    "\n",
    "Remember to install the OR-Tools module *before* starting the tutorial:  "
   ]
  },
  {
   "cell_type": "code",
   "execution_count": null,
   "metadata": {},
   "outputs": [],
   "source": [
    "pip install ortools"
   ]
  },
  {
   "cell_type": "markdown",
   "metadata": {},
   "source": [
    "Import all toolboxes need to support the tutorial"
   ]
  },
  {
   "cell_type": "code",
   "execution_count": null,
   "metadata": {},
   "outputs": [],
   "source": [
    "from ortools.sat.python import cp_model # CP-SAT solver\n",
    "\n",
    "import numpy as np\n",
    "from random import randint\n",
    "from math import ceil\n",
    "import matplotlib.pyplot as plt # Data visualization"
   ]
  },
  {
   "cell_type": "markdown",
   "metadata": {},
   "source": [
    "<hr style=\"border:1px solid black\"> </hr>"
   ]
  },
  {
   "cell_type": "markdown",
   "metadata": {},
   "source": [
    "### Declare key parameters\n",
    "Our problem space has 4 key parameters. \n",
    "\n",
    "**Question** Can you identity them from the code below? "
   ]
  },
  {
   "cell_type": "markdown",
   "metadata": {},
   "source": [
    "**Answer**\n",
    "- Location of infected people\n",
    "- Severity of infected people\n",
    "- Location of hospitals\n",
    "- Number of beds in each hospital"
   ]
  },
  {
   "cell_type": "code",
   "execution_count": null,
   "metadata": {},
   "outputs": [],
   "source": [
    "# Number of hospitals\n",
    "n_hospitals = 3\n",
    "# Number of infected people\n",
    "n_patients = 200\n",
    "# Number of beds in every hospital\n",
    "n_beds_in_hospitals = [30,50,20]\n",
    "# Location of infected people -- random integer tuple (x,y)\n",
    "patients_loc = [(randint(0, 100), randint(0, 100)) for _ in range(n_patients)]\n",
    "# Location of hospitals -- random integer tuple (x,y)\n",
    "hospitals_loc = [(randint(0, 100), randint(0, 100)) for _ in range(n_hospitals)]  \n",
    "# Illness severity -- 1 = mild -> 5 = severe\n",
    "patients_severity = [randint(1, 5) for _ in range(n_patients)]"
   ]
  },
  {
   "cell_type": "markdown",
   "metadata": {},
   "source": [
    "**Question** Will every patient get a bed? "
   ]
  },
  {
   "cell_type": "markdown",
   "metadata": {},
   "source": [
    "**Answer**\n",
    "No, as the code is currently set-up we have 200 patients, 100 beds"
   ]
  },
  {
   "cell_type": "markdown",
   "metadata": {},
   "source": [
    "<hr style=\"border:1px solid black\"> </hr>"
   ]
  },
  {
   "cell_type": "markdown",
   "metadata": {},
   "source": [
    "### Visualise the problem space "
   ]
  },
  {
   "cell_type": "code",
   "execution_count": null,
   "metadata": {},
   "outputs": [],
   "source": [
    "# Visualization\n",
    "plt.rcParams[\"figure.figsize\"] = (15,10)\n",
    "shade_severity = [int(sev*255/5) for sev in patients_severity]\n",
    "color_severity = [\"#%02x0000\" % (sev) for sev in shade_severity]\n",
    "size_severity = [k**2.5 for k in patients_severity]\n",
    "plt.scatter(*zip(*patients_loc), s=size_severity, c=color_severity, label=\"Patients\")\n",
    "plt.scatter(*zip(*hospitals_loc), s=500, c=\"g\", marker=\"P\", label=\"Hospitals\")\n",
    "plt.legend()\n",
    "plt.axis('off')\n",
    "plt.show()   "
   ]
  },
  {
   "cell_type": "markdown",
   "metadata": {},
   "source": [
    "<hr style=\"border:1px solid black\"> </hr>"
   ]
  },
  {
   "cell_type": "markdown",
   "metadata": {},
   "source": [
    "### Declare constraint variables\n",
    "\n",
    "Constraint satisfaction problem consists of a set of variables that must be assigned values in such a way that a set of constraints is satisfied.\n",
    "- i represents a single hospital from our group of hospitals\n",
    "- j a bed single bed in hospital i\n",
    "- k represents a single patient from our group of patients \n",
    "\n",
    "We implement model the relationship betwen these variables as an `if-then` statement. \n",
    "    \n",
    "*If* in the hospital `i`, the bed `j` is taken by the person `k` *then* `x[i,j,k] = 1`. \n",
    "\n",
    "We add those variables and their relationship to our model:"
   ]
  },
  {
   "cell_type": "code",
   "execution_count": null,
   "metadata": {},
   "outputs": [],
   "source": [
    "model = cp_model.CpModel()\n",
    "x = {}\n",
    "for i in range(n_hospitals):\n",
    "  for j in range(n_beds_in_hospitals[i]):\n",
    "    for k in range(n_patients):\n",
    "      x[(i,j,k)] = model.NewBoolVar(\"x(%d,%d,%d)\" % (i,j,k))"
   ]
  },
  {
   "cell_type": "markdown",
   "metadata": {},
   "source": [
    "<hr style=\"border:1px solid black\"> </hr>"
   ]
  },
  {
   "cell_type": "markdown",
   "metadata": {},
   "source": [
    "### Goal of our problem: \n",
    "    \n",
    "In order to associate each bed of an hospital to an ill person, we must find a set of variables (*n* unique combinations of `x[i,j,k] = 1`) that satisfies all of our constraints. \n",
    "\n",
    "**Question:** what is the maximum value of *n*? Why? "
   ]
  },
  {
   "cell_type": "markdown",
   "metadata": {},
   "source": [
    "**Answer** 100, we are limited by the number of beds"
   ]
  },
  {
   "cell_type": "markdown",
   "metadata": {},
   "source": [
    "<hr style=\"border:1px solid black\"> </hr>"
   ]
  },
  {
   "cell_type": "markdown",
   "metadata": {},
   "source": [
    "### Hard constraints\n",
    "Hard constraints define a goal for our model. They are essential, if they are not resolved then the problem can’t be tackled:\n",
    "\n",
    "**Hard constraint 1:** There must be at most a single person in every bed"
   ]
  },
  {
   "cell_type": "code",
   "execution_count": null,
   "metadata": {},
   "outputs": [],
   "source": [
    "# Each bed must host at most one person\n",
    "for i in range(n_hospitals):\n",
    "  for j in range(n_beds_in_hospitals[i]):\n",
    "    model.Add(sum(x[(i,j,k)] for k in range(n_patients)) <= 1)"
   ]
  },
  {
   "cell_type": "markdown",
   "metadata": {},
   "source": [
    "**Hard constraint 2:** There must be at most a single bed assigned to every person."
   ]
  },
  {
   "cell_type": "code",
   "execution_count": null,
   "metadata": {},
   "outputs": [],
   "source": [
    "# Each person must be placed in at most one bed\n",
    "for k in range(n_patients):\n",
    "  inner_sum = []\n",
    "  for i in range(n_hospitals):\n",
    "    inner_sum.append(sum(x[(i,j,k)] for j in range(n_beds_in_hospitals[i]))) \n",
    "  model.Add(sum(inner_sum) <= 1)"
   ]
  },
  {
   "cell_type": "markdown",
   "metadata": {},
   "source": [
    "**Question:** What is the difference between these contraints?\n"
   ]
  },
  {
   "cell_type": "markdown",
   "metadata": {},
   "source": [
    "**Answer**\n",
    "\n",
    "The first hard constraint inferes that for each bed j in every hospital i:\n",
    "- Either there is a unique patient k in the bed, or the bed is empty.\n",
    "\n",
    "The second hard constraint inferes that  for every patient k\n",
    "- Either the are in a unique bed j in a unique hospital i, or they are at home"
   ]
  },
  {
   "cell_type": "markdown",
   "metadata": {},
   "source": [
    "<hr style=\"border:1px solid black\"> </hr>"
   ]
  },
  {
   "cell_type": "markdown",
   "metadata": {},
   "source": [
    "### Soft constraints\n",
    "Next, there are soft constraints. Those are highly desired: our solution must try to satisfy them as much as possible, yet they are not essential to find a solution:\n",
    "- Every sick person should be placed into a bed,\n",
    "- Every person should be handled by the nearest hospital,\n",
    "- Sick persons in severe condition should be handled first when there are not enough beds."
   ]
  },
  {
   "cell_type": "code",
   "execution_count": null,
   "metadata": {},
   "outputs": [],
   "source": [
    "# Integer distance function\n",
    "idist = lambda xy1, xy2: int(((xy1[0]-xy2[0])**2 + (xy1[1]-xy2[1])**2)**0.5)\n",
    "\n",
    "# Gain factors (1/penalty factors)\n",
    "gain_max_patients = 140\n",
    "gain_severity = int(140/5)\n",
    "gain_distance = -1\n",
    "\n",
    "# Maximization objective\n",
    "soft_csts = []\n",
    "for i in range(n_hospitals):\n",
    "  for j in range(n_beds_in_hospitals[i]):\n",
    "    for k in range(n_patients):\n",
    "      factor = \\\n",
    "        gain_max_patients \\\n",
    "        + gain_distance * idist(hospitals_loc[i], patients_loc[k]) \\\n",
    "        + gain_severity * patients_severity[k]\n",
    "      soft_csts.append(factor * x[(i,j,k)])\n",
    "\n",
    "model.Maximize(sum(soft_csts))"
   ]
  },
  {
   "cell_type": "markdown",
   "metadata": {},
   "source": [
    "**Question:** What is the difference between how the hard constraints and soft constraints are expressed in our model? "
   ]
  },
  {
   "cell_type": "markdown",
   "metadata": {},
   "source": [
    "**Answer** It is not super obvious from the code, but\n",
    "- hard constraints are modeled as equalities or inequalities\n",
    "- soft constraints are expressions to minimize or maximize."
   ]
  },
  {
   "cell_type": "markdown",
   "metadata": {},
   "source": [
    "<hr style=\"border:1px solid black\"> </hr>"
   ]
  },
  {
   "cell_type": "markdown",
   "metadata": {},
   "source": [
    "### Run Solver\n",
    "Now we can launch the solver. As the optimal solution may take time to find, this code is set up to find the optimal solution within a specified time limit. If it can’t manage to find the optimal solution, it will return the closest sub-optimal solution."
   ]
  },
  {
   "cell_type": "code",
   "execution_count": null,
   "metadata": {},
   "outputs": [],
   "source": [
    "solver = cp_model.CpSolver()\n",
    "solver.parameters.max_time_in_seconds = 120.0\n",
    "status = solver.Solve(model)"
   ]
  },
  {
   "cell_type": "markdown",
   "metadata": {},
   "source": [
    "### Print out patient assignments"
   ]
  },
  {
   "cell_type": "code",
   "execution_count": null,
   "metadata": {},
   "outputs": [],
   "source": [
    "plot_lines = [[] for _ in range(n_hospitals)]\n",
    "for i in range(n_hospitals):\n",
    "  print(\"Hospital \", i)\n",
    "  for j in range(n_beds_in_hospitals[i]):\n",
    "    for k in range(n_patients):\n",
    "      if solver.Value(x[(i,j,k)]) == 1:\n",
    "        print(\"\\tPatient \", k, \"in bed \", j)\n",
    "        line_abs = [ hospitals_loc[i][0], patients_loc[k][0] ]\n",
    "        line_ord = [ hospitals_loc[i][1], patients_loc[k][1] ]\n",
    "        plot_lines[i].append([line_abs, line_ord])\n",
    "print()\n",
    "print(\"Inference time: %f s\" % solver.WallTime())"
   ]
  },
  {
   "cell_type": "markdown",
   "metadata": {},
   "source": [
    "### Visualise Results"
   ]
  },
  {
   "cell_type": "code",
   "execution_count": null,
   "metadata": {},
   "outputs": [],
   "source": [
    "from itertools import cycle\n",
    "\n",
    "shade_severity = [int(sev*255/5) for sev in patients_severity]\n",
    "color_severity = [\"#%02x0000\" % (sev) for sev in shade_severity]\n",
    "size_severity = [k**2.5 for k in patients_severity]\n",
    "plt.scatter(*zip(*patients_loc), s=size_severity, c=color_severity, label=\"Patients\", zorder=2)\n",
    "plt.scatter(*zip(*hospitals_loc), s=500, c=\"g\", marker=\"P\", label=\"Hospitals\", zorder=3)\n",
    "colors = cycle('bgrcmk')\n",
    "for i in range(n_hospitals):\n",
    "  c = next(colors)\n",
    "  for (x_,y_) in plot_lines[i]:\n",
    "    plt.plot(x_,y_,c=c,linewidth=0.2, zorder=1)\n",
    "plt.legend()\n",
    "plt.axis('off')\n",
    "plt.show()      "
   ]
  },
  {
   "cell_type": "markdown",
   "metadata": {},
   "source": [
    "<hr style=\"border:1px solid black\"> </hr>"
   ]
  },
  {
   "cell_type": "markdown",
   "metadata": {},
   "source": [
    "## Exercise"
   ]
  },
  {
   "cell_type": "markdown",
   "metadata": {},
   "source": [
    "Change the core parameters of the algoirthm and run for at least 6 different simulations. Compare the outputs\n",
    "\n",
    "Example scenarios could include\n",
    "- Increase population\n",
    "- Different number of hospitals, varying capacity among hostipals\n",
    "- Varying the hard and soft constrains\n",
    "- Combinations thereof...."
   ]
  },
  {
   "cell_type": "markdown",
   "metadata": {},
   "source": [
    "**Things to note** \n",
    "- Changing hard constraints either means the problem is unsovable (the range of potential solutions is too small) or not practicle. E.g., you can assign more than one patient to bed or assign patients to more than one hospital if you want.\n",
    "- Changing soft constraints gain factors means a solution is still possible, but the solution may not be practicle. For example, changing gain_severity means you can prioritse less severe patients of more severes patients. Similarly, changing the sign on the gain_distance parameter means hospitals can patients furthest from them. \n"
   ]
  },
  {
   "cell_type": "markdown",
   "metadata": {},
   "source": [
    "<hr style=\"border:1px solid black\"> </hr>"
   ]
  },
  {
   "cell_type": "code",
   "execution_count": null,
   "metadata": {},
   "outputs": [],
   "source": []
  }
 ],
 "metadata": {
  "kernelspec": {
   "display_name": "AI4Health",
   "language": "python",
   "name": "ai4health"
  },
  "language_info": {
   "codemirror_mode": {
    "name": "ipython",
    "version": 3
   },
   "file_extension": ".py",
   "mimetype": "text/x-python",
   "name": "python",
   "nbconvert_exporter": "python",
   "pygments_lexer": "ipython3",
   "version": "3.8.10"
  },
  "varInspector": {
   "cols": {
    "lenName": 16,
    "lenType": 16,
    "lenVar": 40
   },
   "kernels_config": {
    "python": {
     "delete_cmd_postfix": "",
     "delete_cmd_prefix": "del ",
     "library": "var_list.py",
     "varRefreshCmd": "print(var_dic_list())"
    },
    "r": {
     "delete_cmd_postfix": ") ",
     "delete_cmd_prefix": "rm(",
     "library": "var_list.r",
     "varRefreshCmd": "cat(var_dic_list()) "
    }
   },
   "types_to_exclude": [
    "module",
    "function",
    "builtin_function_or_method",
    "instance",
    "_Feature"
   ],
   "window_display": true
  }
 },
 "nbformat": 4,
 "nbformat_minor": 4
}
