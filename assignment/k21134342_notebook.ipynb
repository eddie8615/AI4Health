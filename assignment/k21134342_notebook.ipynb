{
 "cells": [
  {
   "cell_type": "markdown",
   "id": "75492a34",
   "metadata": {},
   "source": [
    "## Artificial Intelligence for Health analytics\n",
    "\n",
    "Changhyun Kim (ID: 21134342)"
   ]
  },
  {
   "cell_type": "markdown",
   "id": "87a388f7",
   "metadata": {},
   "source": [
    "### Preparing datasets\n",
    "\n",
    "loading training, development, and test datasets"
   ]
  },
  {
   "cell_type": "code",
   "execution_count": 1,
   "id": "e0b6f663",
   "metadata": {},
   "outputs": [],
   "source": [
    "import pandas as pd\n",
    "import numpy as np\n",
    "import matplotlib.pyplot as plt"
   ]
  },
  {
   "cell_type": "code",
   "execution_count": 2,
   "id": "b42961ce",
   "metadata": {},
   "outputs": [],
   "source": [
    "train_data = pd.read_csv(\"features/train.csv\",sep=';')\n",
    "train_data = train_data.drop(['name', 'frameTime'], axis=1)\n",
    "\n",
    "devel_data = pd.read_csv(\"features/devel.csv\",sep=';')\n",
    "devel_data = devel_data.drop(['name', 'frameTime'], axis=1)\n",
    "\n",
    "test_data = pd.read_csv(\"features/test.csv\",sep=';')\n",
    "test_data = test_data.drop(['name', 'frameTime'], axis=1)"
   ]
  },
  {
   "cell_type": "code",
   "execution_count": 3,
   "id": "5d8d24a8",
   "metadata": {},
   "outputs": [
    {
     "name": "stdout",
     "output_type": "stream",
     "text": [
      "(9505, 88)\n",
      "(9596, 88)\n",
      "(9551, 88)\n"
     ]
    }
   ],
   "source": [
    "X_train = np.asarray(train_data.values)\n",
    "X_devel = np.asarray(devel_data.values)\n",
    "X_test = np.asarray(test_data.values)\n",
    "\n",
    "print(X_train.shape)\n",
    "print(X_devel.shape)\n",
    "print(X_test.shape)"
   ]
  },
  {
   "cell_type": "code",
   "execution_count": 4,
   "id": "b420589e",
   "metadata": {},
   "outputs": [],
   "source": [
    "train_label = pd.read_csv('labels/train.csv')\n",
    "train_label = train_label.drop(['file_name'], axis=1)\n",
    "\n",
    "devel_label = pd.read_csv('labels/devel.csv')\n",
    "devel_label = devel_label.drop(['file_name'], axis=1)"
   ]
  },
  {
   "cell_type": "code",
   "execution_count": 5,
   "id": "a11fa4de",
   "metadata": {},
   "outputs": [
    {
     "data": {
      "image/png": "[encoded data removed]",
      "text/plain": [
       "<Figure size 576x432 with 2 Axes>"
      ]
     },
     "metadata": {},
     "output_type": "display_data"
    }
   ],
   "source": [
    "fig, axes = plt.subplots(1, 2, figsize=(8,6), sharex=False, sharey=False)    \n",
    "labels = ['NC', 'C']\n",
    "\n",
    "for i, ax in enumerate(axes.flatten()):\n",
    "    if i == 0:\n",
    "        x = train_label.iloc[:,0]\n",
    "        title = 'Outcome values ratio in training set'\n",
    "    else:\n",
    "        x = devel_label.iloc[:,0]\n",
    "        title = 'Outcome values ratio in development set'\n",
    "    \n",
    "    ax.pie(x.value_counts(),  autopct='%1.0f%%', pctdistance=1.2)\n",
    "    ax.set_title(title)\n",
    "\n",
    "plt.legend(loc=(1,0), labels=labels)\n",
    "plt.suptitle(title, size=16)\n",
    "plt.tight_layout();\n",
    "# plt.pie(train_label['Cold (upper respiratory tract infection)'].value_counts())\n",
    "# plt.title('Distributions of SepsisLabel')\n",
    "# plt.legend(loc=(1,0), labels=labels)\n",
    "plt.show()"
   ]
  },
  {
   "cell_type": "code",
   "execution_count": 34,
   "id": "b24dad32",
   "metadata": {},
   "outputs": [],
   "source": [
    "train_label['Cold'] = train_label['Cold'].apply(lambda x: 1 if x == 'C' else 0)\n",
    "devel_label['Cold'] = devel_label['Cold'].apply(lambda x: 1 if x == 'C' else 0)"
   ]
  },
  {
   "cell_type": "code",
   "execution_count": 36,
   "id": "874d4094",
   "metadata": {},
   "outputs": [
    {
     "name": "stdout",
     "output_type": "stream",
     "text": [
      "[0 1]\n",
      "(9505,)\n",
      "(9596,)\n"
     ]
    }
   ],
   "source": [
    "from sklearn.preprocessing import LabelEncoder, MinMaxScaler, StandardScaler\n",
    "\n",
    "encoder = LabelEncoder()\n",
    "encoder.fit([0, 1])\n",
    "y_train = encoder.transform(np.ravel(train_label))\n",
    "y_devel = encoder.transform(np.ravel(devel_label))\n",
    "\n",
    "print(encoder.classes_) # 'C' is encoded as 0 and 'NC' is encoded as 1\n",
    "print(y_train.shape)\n",
    "print(y_devel.shape)"
   ]
  },
  {
   "cell_type": "markdown",
   "id": "d8c4bf4f",
   "metadata": {},
   "source": [
    "### Define calculating performance functions\n",
    "\n",
    "The pie charts above show the datasets are highly imbalanced which may be problematic if proper techniques are ignored and accuracy metrics is regarded as standard measurements.\n",
    "\n",
    "To estimate the performance appropriately, the following metrics will be used:\n",
    "- Accuracy\n",
    "- Recall (Sensitivity)\n",
    "- Precision\n",
    "- ROC-AUC"
   ]
  },
  {
   "cell_type": "code",
   "execution_count": 37,
   "id": "4f5c73e4",
   "metadata": {},
   "outputs": [],
   "source": [
    "from sklearn.metrics import accuracy_score, recall_score, precision_score, roc_auc_score, roc_curve\n",
    "from sklearn.metrics import confusion_matrix, ConfusionMatrixDisplay\n",
    "\n",
    "def calc_performance(y_true, y_pred):\n",
    "    cm= confusion_matrix(y_true, y_pred)  \n",
    "\n",
    "    #class_names contains the labels we would like to use. This can be ignored.\n",
    "    class_names  =[0, 1]\n",
    "    cm = confusion_matrix(y_true, y_pred, labels=class_names)\n",
    "    disp = ConfusionMatrixDisplay(confusion_matrix=cm, display_labels=class_names)    \n",
    "    disp.plot()\n",
    "    \n",
    "    print('Accuracy:', accuracy_score(y_true, y_pred))\n",
    "    print('Recall:', recall_score(y_true, y_pred))\n",
    "    print('Precision:', precision_score(y_true, y_pred))\n",
    "    print('ROC-AUC:', roc_auc_score(y_true, y_pred))\n",
    "    plt.show()\n",
    "    \n",
    "def plot_roc_curve(y_true, y_decision):\n",
    "    fpr, tpr, _ = roc_curve(y_true, y_decision)\n",
    "    plt.figure()\n",
    "    lw = 2\n",
    "    plt.plot(\n",
    "        fpr,\n",
    "        tpr,\n",
    "        color=\"darkorange\",\n",
    "        lw=lw,\n",
    "        label=\"ROC curve (area = %0.2f)\" % roc_auc_score(y_true, y_decision),\n",
    "    )\n",
    "    plt.plot([0, 1], [0, 1], color=\"navy\", lw=lw, linestyle=\"--\")\n",
    "    plt.xlim([0.0, 1.0])\n",
    "    plt.ylim([0.0, 1.05])\n",
    "    plt.xlabel(\"False Positive Rate\")\n",
    "    plt.ylabel(\"True Positive Rate\")\n",
    "    plt.title(\"Receiver operating characteristic\")\n",
    "    plt.legend(loc=\"lower right\")\n",
    "    plt.show()\n",
    "    "
   ]
  },
  {
   "cell_type": "code",
   "execution_count": 38,
   "id": "ff9f55b0",
   "metadata": {},
   "outputs": [],
   "source": [
    "minmax_scaler = MinMaxScaler()\n",
    "X_train_scaled = minmax_scaler.fit_transform(X_train)\n",
    "X_devel_scaled = minmax_scaler.transform(X_devel)"
   ]
  },
  {
   "cell_type": "code",
   "execution_count": 39,
   "id": "27770b24",
   "metadata": {},
   "outputs": [
    {
     "data": {
      "text/html": [
       "<style>#sk-container-id-3 {color: black;background-color: white;}#sk-container-id-3 pre{padding: 0;}#sk-container-id-3 div.sk-toggleable {background-color: white;}#sk-container-id-3 label.sk-toggleable__label {cursor: pointer;display: block;width: 100%;margin-bottom: 0;padding: 0.3em;box-sizing: border-box;text-align: center;}#sk-container-id-3 label.sk-toggleable__label-arrow:before {content: \"▸\";float: left;margin-right: 0.25em;color: #696969;}#sk-container-id-3 label.sk-toggleable__label-arrow:hover:before {color: black;}#sk-container-id-3 div.sk-estimator:hover label.sk-toggleable__label-arrow:before {color: black;}#sk-container-id-3 div.sk-toggleable__content {max-height: 0;max-width: 0;overflow: hidden;text-align: left;background-color: #f0f8ff;}#sk-container-id-3 div.sk-toggleable__content pre {margin: 0.2em;color: black;border-radius: 0.25em;background-color: #f0f8ff;}#sk-container-id-3 input.sk-toggleable__control:checked~div.sk-toggleable__content {max-height: 200px;max-width: 100%;overflow: auto;}#sk-container-id-3 input.sk-toggleable__control:checked~label.sk-toggleable__label-arrow:before {content: \"▾\";}#sk-container-id-3 div.sk-estimator input.sk-toggleable__control:checked~label.sk-toggleable__label {background-color: #d4ebff;}#sk-container-id-3 div.sk-label input.sk-toggleable__control:checked~label.sk-toggleable__label {background-color: #d4ebff;}#sk-container-id-3 input.sk-hidden--visually {border: 0;clip: rect(1px 1px 1px 1px);clip: rect(1px, 1px, 1px, 1px);height: 1px;margin: -1px;overflow: hidden;padding: 0;position: absolute;width: 1px;}#sk-container-id-3 div.sk-estimator {font-family: monospace;background-color: #f0f8ff;border: 1px dotted black;border-radius: 0.25em;box-sizing: border-box;margin-bottom: 0.5em;}#sk-container-id-3 div.sk-estimator:hover {background-color: #d4ebff;}#sk-container-id-3 div.sk-parallel-item::after {content: \"\";width: 100%;border-bottom: 1px solid gray;flex-grow: 1;}#sk-container-id-3 div.sk-label:hover label.sk-toggleable__label {background-color: #d4ebff;}#sk-container-id-3 div.sk-serial::before {content: \"\";position: absolute;border-left: 1px solid gray;box-sizing: border-box;top: 0;bottom: 0;left: 50%;z-index: 0;}#sk-container-id-3 div.sk-serial {display: flex;flex-direction: column;align-items: center;background-color: white;padding-right: 0.2em;padding-left: 0.2em;position: relative;}#sk-container-id-3 div.sk-item {position: relative;z-index: 1;}#sk-container-id-3 div.sk-parallel {display: flex;align-items: stretch;justify-content: center;background-color: white;position: relative;}#sk-container-id-3 div.sk-item::before, #sk-container-id-3 div.sk-parallel-item::before {content: \"\";position: absolute;border-left: 1px solid gray;box-sizing: border-box;top: 0;bottom: 0;left: 50%;z-index: -1;}#sk-container-id-3 div.sk-parallel-item {display: flex;flex-direction: column;z-index: 1;position: relative;background-color: white;}#sk-container-id-3 div.sk-parallel-item:first-child::after {align-self: flex-end;width: 50%;}#sk-container-id-3 div.sk-parallel-item:last-child::after {align-self: flex-start;width: 50%;}#sk-container-id-3 div.sk-parallel-item:only-child::after {width: 0;}#sk-container-id-3 div.sk-dashed-wrapped {border: 1px dashed gray;margin: 0 0.4em 0.5em 0.4em;box-sizing: border-box;padding-bottom: 0.4em;background-color: white;}#sk-container-id-3 div.sk-label label {font-family: monospace;font-weight: bold;display: inline-block;line-height: 1.2em;}#sk-container-id-3 div.sk-label-container {text-align: center;}#sk-container-id-3 div.sk-container {/* jupyter's `normalize.less` sets `[hidden] { display: none; }` but bootstrap.min.css set `[hidden] { display: none !important; }` so we also need the `!important` here to be able to override the default hidden behavior on the sphinx rendered scikit-learn.org. See: https://github.com/scikit-learn/scikit-learn/issues/21755 */display: inline-block !important;position: relative;}#sk-container-id-3 div.sk-text-repr-fallback {display: none;}</style><div id=\"sk-container-id-3\" class=\"sk-top-container\"><div class=\"sk-text-repr-fallback\"><pre>SVC(C=0.1, class_weight={0: 0.5568248388986526, 1: 4.899484536082475},\n",
       "    kernel=&#x27;linear&#x27;, probability=True, random_state=20)</pre><b>In a Jupyter environment, please rerun this cell to show the HTML representation or trust the notebook. <br />On GitHub, the HTML representation is unable to render, please try loading this page with nbviewer.org.</b></div><div class=\"sk-container\" hidden><div class=\"sk-item\"><div class=\"sk-estimator sk-toggleable\"><input class=\"sk-toggleable__control sk-hidden--visually\" id=\"sk-estimator-id-3\" type=\"checkbox\" checked><label for=\"sk-estimator-id-3\" class=\"sk-toggleable__label sk-toggleable__label-arrow\">SVC</label><div class=\"sk-toggleable__content\"><pre>SVC(C=0.1, class_weight={0: 0.5568248388986526, 1: 4.899484536082475},\n",
       "    kernel=&#x27;linear&#x27;, probability=True, random_state=20)</pre></div></div></div></div></div>"
      ],
      "text/plain": [
       "SVC(C=0.1, class_weight={0: 0.5568248388986526, 1: 4.899484536082475},\n",
       "    kernel='linear', probability=True, random_state=20)"
      ]
     },
     "execution_count": 39,
     "metadata": {},
     "output_type": "execute_result"
    }
   ],
   "source": [
    "from sklearn.svm import SVC\n",
    "from sklearn.utils import class_weight\n",
    "\n",
    "class_weight_array = class_weight.compute_class_weight(class_weight='balanced', classes=np.unique(y_train), y=y_train)\n",
    "keys = [0, 1]\n",
    "class_weight_dict = dict(zip(keys, class_weight_array))\n",
    "random_seed = 20\n",
    "baseline_model = SVC(kernel='linear', C=0.1, probability=True, class_weight=class_weight_dict, random_state = random_seed)\n",
    "\n",
    "baseline_model.fit(X_train_scaled, y_train)"
   ]
  },
  {
   "cell_type": "code",
   "execution_count": 40,
   "id": "c53c353c",
   "metadata": {},
   "outputs": [
    {
     "name": "stdout",
     "output_type": "stream",
     "text": [
      "Accuracy: 0.6641308878699458\n",
      "Recall: 0.5519287833827893\n",
      "Precision: 0.16766826923076922\n",
      "ROC-AUC: 0.6146364941957627\n"
     ]
    },
    {
     "data": {
      "image/png": "[encoded data removed]",
      "text/plain": [
       "<Figure size 432x288 with 2 Axes>"
      ]
     },
     "metadata": {
      "needs_background": "light"
     },
     "output_type": "display_data"
    },
    {
     "data": {
      "image/png": "[encoded data removed]",
      "text/plain": [
       "<Figure size 432x288 with 1 Axes>"
      ]
     },
     "metadata": {
      "needs_background": "light"
     },
     "output_type": "display_data"
    }
   ],
   "source": [
    "y_pred = baseline_model.predict(X_devel_scaled)\n",
    "y_pred_prob = baseline_model.predict_proba(X_devel_scaled)\n",
    "\n",
    "calc_performance(y_devel, y_pred)\n",
    "plot_roc_curve(y_devel, y_pred_prob[:,1])"
   ]
  },
  {
   "cell_type": "code",
   "execution_count": null,
   "id": "b6bec88f",
   "metadata": {},
   "outputs": [],
   "source": []
  },
  {
   "cell_type": "code",
   "execution_count": null,
   "id": "81a661ca",
   "metadata": {},
   "outputs": [],
   "source": []
  },
  {
   "cell_type": "code",
   "execution_count": null,
   "id": "5d647342",
   "metadata": {},
   "outputs": [],
   "source": []
  }
 ],
 "metadata": {
  "kernelspec": {
   "display_name": "AI4Health",
   "language": "python",
   "name": "ai4health"
  },
  "language_info": {
   "codemirror_mode": {
    "name": "ipython",
    "version": 3
   },
   "file_extension": ".py",
   "mimetype": "text/x-python",
   "name": "python",
   "nbconvert_exporter": "python",
   "pygments_lexer": "ipython3",
   "version": "3.8.10"
  }
 },
 "nbformat": 4,
 "nbformat_minor": 5
}
